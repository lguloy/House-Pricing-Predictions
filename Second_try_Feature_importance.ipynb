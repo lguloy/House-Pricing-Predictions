{
  "nbformat": 4,
  "nbformat_minor": 0,
  "metadata": {
    "colab": {
      "name": "Untitled8.ipynb",
      "provenance": [],
      "authorship_tag": "ABX9TyO+2Cckkw0x/xnM2upgex2Q",
      "include_colab_link": true
    },
    "kernelspec": {
      "name": "python3",
      "display_name": "Python 3"
    },
    "language_info": {
      "name": "python"
    }
  },
  "cells": [
    {
      "cell_type": "markdown",
      "metadata": {
        "id": "view-in-github",
        "colab_type": "text"
      },
      "source": [
        "<a href=\"https://colab.research.google.com/github/lguloy/House-Pricing-Predictions/blob/work_vijitha/Second_try_Feature_importance.ipynb\" target=\"_parent\"><img src=\"https://colab.research.google.com/assets/colab-badge.svg\" alt=\"Open In Colab\"/></a>"
      ]
    },
    {
      "cell_type": "code",
      "metadata": {
        "id": "QfFotDUsp16N"
      },
      "source": [
        "https://finalprojectbootcamp.s3.us-east-2.amazonaws.com/all_dumimies_converted_df.csv"
      ],
      "execution_count": null,
      "outputs": []
    },
    {
      "cell_type": "code",
      "metadata": {
        "colab": {
          "base_uri": "https://localhost:8080/"
        },
        "id": "tXPAeAvCp6KV",
        "outputId": "0c8d0d94-9262-4631-88ed-e6603940085f"
      },
      "source": [
        "import os\n",
        "# Find the latest version of spark 3.0  from http://www-us.apache.org/dist/spark/ and enter as the spark version\n",
        "# For example:\n",
        "spark_version = 'spark-3.0.3'\n",
        "# spark_version = 'spark-3.<enter version>'\n",
        "os.environ['SPARK_VERSION']=spark_version\n",
        "\n",
        "# Install Spark and Java\n",
        "!apt-get update\n",
        "!apt-get install openjdk-11-jdk-headless -qq > /dev/null\n",
        "!wget -q http://www-us.apache.org/dist/spark/$SPARK_VERSION/$SPARK_VERSION-bin-hadoop2.7.tgz\n",
        "!tar xf $SPARK_VERSION-bin-hadoop2.7.tgz\n",
        "!pip install -q findspark\n",
        "\n",
        "# Set Environment Variables\n",
        "os.environ[\"JAVA_HOME\"] = \"/usr/lib/jvm/java-11-openjdk-amd64\"\n",
        "os.environ[\"SPARK_HOME\"] = f\"/content/{spark_version}-bin-hadoop2.7\"\n",
        "\n",
        "# Start a SparkSession\n",
        "import findspark\n",
        "findspark.init()"
      ],
      "execution_count": 1,
      "outputs": [
        {
          "output_type": "stream",
          "text": [
            "\r0% [Working]\r            \rIgn:1 https://developer.download.nvidia.com/compute/cuda/repos/ubuntu1804/x86_64  InRelease\n",
            "\r0% [Connecting to archive.ubuntu.com] [Connecting to security.ubuntu.com] [Conn\r                                                                               \rIgn:2 https://developer.download.nvidia.com/compute/machine-learning/repos/ubuntu1804/x86_64  InRelease\n",
            "\r0% [Connecting to archive.ubuntu.com] [Connecting to security.ubuntu.com] [Conn\r                                                                               \rGet:3 https://developer.download.nvidia.com/compute/cuda/repos/ubuntu1804/x86_64  Release [697 B]\n",
            "Hit:4 https://developer.download.nvidia.com/compute/machine-learning/repos/ubuntu1804/x86_64  Release\n",
            "Get:5 https://developer.download.nvidia.com/compute/cuda/repos/ubuntu1804/x86_64  Release.gpg [836 B]\n",
            "Get:6 https://cloud.r-project.org/bin/linux/ubuntu bionic-cran40/ InRelease [3,626 B]\n",
            "Get:7 http://security.ubuntu.com/ubuntu bionic-security InRelease [88.7 kB]\n",
            "Get:8 http://ppa.launchpad.net/c2d4u.team/c2d4u4.0+/ubuntu bionic InRelease [15.9 kB]\n",
            "Hit:10 http://archive.ubuntu.com/ubuntu bionic InRelease\n",
            "Get:11 http://archive.ubuntu.com/ubuntu bionic-updates InRelease [88.7 kB]\n",
            "Ign:12 https://developer.download.nvidia.com/compute/cuda/repos/ubuntu1804/x86_64  Packages\n",
            "Get:12 https://developer.download.nvidia.com/compute/cuda/repos/ubuntu1804/x86_64  Packages [630 kB]\n",
            "Hit:13 http://ppa.launchpad.net/cran/libgit2/ubuntu bionic InRelease\n",
            "Get:14 http://ppa.launchpad.net/deadsnakes/ppa/ubuntu bionic InRelease [15.9 kB]\n",
            "Get:15 http://archive.ubuntu.com/ubuntu bionic-backports InRelease [74.6 kB]\n",
            "Get:16 http://security.ubuntu.com/ubuntu bionic-security/universe amd64 Packages [1,418 kB]\n",
            "Get:17 http://ppa.launchpad.net/graphics-drivers/ppa/ubuntu bionic InRelease [21.3 kB]\n",
            "Get:18 http://security.ubuntu.com/ubuntu bionic-security/main amd64 Packages [2,221 kB]\n",
            "Get:19 http://security.ubuntu.com/ubuntu bionic-security/restricted amd64 Packages [473 kB]\n",
            "Get:20 http://ppa.launchpad.net/c2d4u.team/c2d4u4.0+/ubuntu bionic/main Sources [1,777 kB]\n",
            "Get:21 http://archive.ubuntu.com/ubuntu bionic-updates/universe amd64 Packages [2,188 kB]\n",
            "Get:22 http://archive.ubuntu.com/ubuntu bionic-updates/main amd64 Packages [2,656 kB]\n",
            "Get:23 http://ppa.launchpad.net/c2d4u.team/c2d4u4.0+/ubuntu bionic/main amd64 Packages [909 kB]\n",
            "Get:24 http://archive.ubuntu.com/ubuntu bionic-updates/restricted amd64 Packages [506 kB]\n",
            "Get:25 http://ppa.launchpad.net/deadsnakes/ppa/ubuntu bionic/main amd64 Packages [40.9 kB]\n",
            "Get:26 http://ppa.launchpad.net/graphics-drivers/ppa/ubuntu bionic/main amd64 Packages [41.5 kB]\n",
            "Fetched 13.2 MB in 5s (2,694 kB/s)\n",
            "Reading package lists... Done\n"
          ],
          "name": "stdout"
        }
      ]
    },
    {
      "cell_type": "code",
      "metadata": {
        "id": "xDFO8qpHqQBD"
      },
      "source": [
        "from pyspark.sql import SparkSession\n",
        "spark = SparkSession.builder.appName(\"CloudETL\").config(\"spark.driver.extraClassPath\",\"/content/postgresql-42.2.9.jar\").getOrCreate()"
      ],
      "execution_count": 2,
      "outputs": []
    },
    {
      "cell_type": "code",
      "metadata": {
        "colab": {
          "base_uri": "https://localhost:8080/"
        },
        "id": "oDy_n39YqW1F",
        "outputId": "85214eaf-8c6b-4ca7-842b-d0cde0bc0219"
      },
      "source": [
        "from pyspark import SparkFiles\n",
        "# Load in train.csv from S3 into a DataFrame\n",
        "url = \"https://finalprojectbootcamp.s3.us-east-2.amazonaws.com/all_dumimies_converted_df.csv\"\n",
        "spark.sparkContext.addFile(url)\n",
        "\n",
        "df = spark.read.option('header', 'true').csv(SparkFiles.get(\"all_dumimies_converted_df.csv\"), inferSchema=True, sep=',', timestampFormat=\"mm/dd/yy\")\n",
        "df.show(10)\n",
        "\n",
        "#Convert to Pandas to allow train_test_split usage\n",
        "df = df.select(\"*\").toPandas()\n",
        "df = df.dropna(how=\"any\")"
      ],
      "execution_count": 3,
      "outputs": [
        {
          "output_type": "stream",
          "text": [
            "+---+----------+-----------+-------+-----------+-----------+---------+------------+----------+----------+----------+---------+-----------+--------+--------+------------+---------+------------+------------+--------+--------+------------+------------+------------+----------+-----------+----------+----------+----------+-----------+-------------+---------+-----------+--------+-------+------+------+---------+-----------+-----------+-----------+-----------+-----------+----------+------------+------------+------------+---------------+---------------+---------------+----------------+-----------------+-------------+-------------+----------------+-------------+-------------+--------------------+-------------------+--------------------+--------------------+--------------------+--------------------+--------------------+--------------------+-------------------+--------------------+--------------------+------------------+--------------------+-------------------+--------------------+--------------------+--------------------+------------------+-------------------+--------------------+--------------------+--------------------+-------------------+--------------------+----------------+---------------+---------------+---------------+---------------+---------------+---------------+---------------+----------------+---------------+---------------+---------------+---------------+---------------+---------------+---------------+---------------+--------------+---------------+-----------------+-----------------+-----------------+-----------------+-----------------+-----------------+---------------+---------------+-----------------+-------------+-----------------+--------------+----------------+----------------+--------------+-------------+----------------+----------------+----------------+-------------------+-------------------+-------------------+------------------+-------------------+-------------------+-------------------+-------------------+-------------------+-----------------+------------------+-------------------+-------------------+-------------------+-------------------+-------------------+-------------------+------------------+-------------------+-------------------+-------------------+-------------------+-----------------+-------------------+-----------------+------------------+-------------------+-------------------+-------------------+------------------+---------------+----------------+-----------------+----------------+---------------+----------------+---------------+------------+------------+------------+------------+------------+------------+----------------+----------------+--------------+----------------+-----------------+------------------+------------------+------------------+-----------------+------------+------------+----------------+----------------+----------------+------------+------------+--------------+--------------+--------------+------------+------------+-----------+---------------------+--------------------+--------------------+--------------------+---------------------+------------+------------+------------+------------+------------+------------+------------+-----------+-----------+-----------+-----------+-----------+-----------+---------------+---------------+---------------+----------------+----------------+----------------+----------------+----------------+----------------+----------------+----------------+----------------+----------------+------------+------------+------------+------------+--------------+--------------+--------------+---------------+---------------+---------------+--------------+--------------+--------------+--------------+--------------+--------------+--------------+----------------+----------------+-------------+-------------+-------------+-------------+-------------+-------------+-------------+-------------+---------+---------+----------+-----------+----------+\n",
            "| Id|MSSubClass|LotFrontage|LotArea|OverallQual|OverallCond|YearBuilt|YearRemodAdd|MasVnrArea|BsmtFinSF1|BsmtFinSF2|BsmtUnfSF|TotalBsmtSF|1stFlrSF|2ndFlrSF|LowQualFinSF|GrLivArea|BsmtFullBath|BsmtHalfBath|FullBath|HalfBath|BedroomAbvGr|KitchenAbvGr|TotRmsAbvGrd|Fireplaces|GarageYrBlt|GarageCars|GarageArea|WoodDeckSF|OpenPorchSF|EnclosedPorch|3SsnPorch|ScreenPorch|PoolArea|MiscVal|MoSold|YrSold|SalePrice|MSZoning_FV|MSZoning_RH|MSZoning_RL|MSZoning_RM|Street_Pave|Alley_Pave|LotShape_IR2|LotShape_IR3|LotShape_Reg|LandContour_HLS|LandContour_Low|LandContour_Lvl|Utilities_NoSeWa|LotConfig_CulDSac|LotConfig_FR2|LotConfig_FR3|LotConfig_Inside|LandSlope_Mod|LandSlope_Sev|Neighborhood_Blueste|Neighborhood_BrDale|Neighborhood_BrkSide|Neighborhood_ClearCr|Neighborhood_CollgCr|Neighborhood_Crawfor|Neighborhood_Edwards|Neighborhood_Gilbert|Neighborhood_IDOTRR|Neighborhood_MeadowV|Neighborhood_Mitchel|Neighborhood_NAmes|Neighborhood_NPkVill|Neighborhood_NWAmes|Neighborhood_NoRidge|Neighborhood_NridgHt|Neighborhood_OldTown|Neighborhood_SWISU|Neighborhood_Sawyer|Neighborhood_SawyerW|Neighborhood_Somerst|Neighborhood_StoneBr|Neighborhood_Timber|Neighborhood_Veenker|Condition1_Feedr|Condition1_Norm|Condition1_PosA|Condition1_PosN|Condition1_RRAe|Condition1_RRAn|Condition1_RRNe|Condition1_RRNn|Condition2_Feedr|Condition2_Norm|Condition2_PosA|Condition2_PosN|Condition2_RRAe|Condition2_RRAn|Condition2_RRNn|BldgType_2fmCon|BldgType_Duplex|BldgType_Twnhs|BldgType_TwnhsE|HouseStyle_1.5Unf|HouseStyle_1Story|HouseStyle_2.5Fin|HouseStyle_2.5Unf|HouseStyle_2Story|HouseStyle_SFoyer|HouseStyle_SLvl|RoofStyle_Gable|RoofStyle_Gambrel|RoofStyle_Hip|RoofStyle_Mansard|RoofStyle_Shed|RoofMatl_CompShg|RoofMatl_Membran|RoofMatl_Metal|RoofMatl_Roll|RoofMatl_Tar&Grv|RoofMatl_WdShake|RoofMatl_WdShngl|Exterior1st_AsphShn|Exterior1st_BrkComm|Exterior1st_BrkFace|Exterior1st_CBlock|Exterior1st_CemntBd|Exterior1st_HdBoard|Exterior1st_ImStucc|Exterior1st_MetalSd|Exterior1st_Plywood|Exterior1st_Stone|Exterior1st_Stucco|Exterior1st_VinylSd|Exterior1st_Wd Sdng|Exterior1st_WdShing|Exterior2nd_AsphShn|Exterior2nd_Brk Cmn|Exterior2nd_BrkFace|Exterior2nd_CBlock|Exterior2nd_CmentBd|Exterior2nd_HdBoard|Exterior2nd_ImStucc|Exterior2nd_MetalSd|Exterior2nd_Other|Exterior2nd_Plywood|Exterior2nd_Stone|Exterior2nd_Stucco|Exterior2nd_VinylSd|Exterior2nd_Wd Sdng|Exterior2nd_Wd Shng|MasVnrType_BrkFace|MasVnrType_None|MasVnrType_Stone|Foundation_CBlock|Foundation_PConc|Foundation_Slab|Foundation_Stone|Foundation_Wood|Heating_GasA|Heating_GasW|Heating_Grav|Heating_OthW|Heating_Wall|CentralAir_Y|Electrical_FuseF|Electrical_FuseP|Electrical_Mix|Electrical_SBrkr|GarageType_Attchd|GarageType_Basment|GarageType_BuiltIn|GarageType_CarPort|GarageType_Detchd|PavedDrive_P|PavedDrive_Y|MiscFeature_Othr|MiscFeature_Shed|MiscFeature_TenC|SaleType_CWD|SaleType_Con|SaleType_ConLD|SaleType_ConLI|SaleType_ConLw|SaleType_New|SaleType_Oth|SaleType_WD|SaleCondition_AdjLand|SaleCondition_Alloca|SaleCondition_Family|SaleCondition_Normal|SaleCondition_Partial|ExterQual_Fa|ExterQual_Gd|ExterQual_TA|ExterCond_Fa|ExterCond_Gd|ExterCond_Po|ExterCond_TA|BsmtQual_Fa|BsmtQual_Gd|BsmtQual_TA|BsmtCond_Gd|BsmtCond_Po|BsmtCond_TA|BsmtExposure_Gd|BsmtExposure_Mn|BsmtExposure_No|BsmtFinType1_BLQ|BsmtFinType1_GLQ|BsmtFinType1_LwQ|BsmtFinType1_Rec|BsmtFinType1_Unf|BsmtFinType2_BLQ|BsmtFinType2_GLQ|BsmtFinType2_LwQ|BsmtFinType2_Rec|BsmtFinType2_Unf|HeatingQC_Fa|HeatingQC_Gd|HeatingQC_Po|HeatingQC_TA|KitchenQual_Fa|KitchenQual_Gd|KitchenQual_TA|Functional_Maj2|Functional_Min1|Functional_Min2|Functional_Mod|Functional_Sev|Functional_Typ|FireplaceQu_Fa|FireplaceQu_Gd|FireplaceQu_Po|FireplaceQu_TA|GarageFinish_RFn|GarageFinish_Unf|GarageQual_Fa|GarageQual_Gd|GarageQual_Po|GarageQual_TA|GarageCond_Fa|GarageCond_Gd|GarageCond_Po|GarageCond_TA|PoolQC_Fa|PoolQC_Gd|Fence_GdWo|Fence_MnPrv|Fence_MnWw|\n",
            "+---+----------+-----------+-------+-----------+-----------+---------+------------+----------+----------+----------+---------+-----------+--------+--------+------------+---------+------------+------------+--------+--------+------------+------------+------------+----------+-----------+----------+----------+----------+-----------+-------------+---------+-----------+--------+-------+------+------+---------+-----------+-----------+-----------+-----------+-----------+----------+------------+------------+------------+---------------+---------------+---------------+----------------+-----------------+-------------+-------------+----------------+-------------+-------------+--------------------+-------------------+--------------------+--------------------+--------------------+--------------------+--------------------+--------------------+-------------------+--------------------+--------------------+------------------+--------------------+-------------------+--------------------+--------------------+--------------------+------------------+-------------------+--------------------+--------------------+--------------------+-------------------+--------------------+----------------+---------------+---------------+---------------+---------------+---------------+---------------+---------------+----------------+---------------+---------------+---------------+---------------+---------------+---------------+---------------+---------------+--------------+---------------+-----------------+-----------------+-----------------+-----------------+-----------------+-----------------+---------------+---------------+-----------------+-------------+-----------------+--------------+----------------+----------------+--------------+-------------+----------------+----------------+----------------+-------------------+-------------------+-------------------+------------------+-------------------+-------------------+-------------------+-------------------+-------------------+-----------------+------------------+-------------------+-------------------+-------------------+-------------------+-------------------+-------------------+------------------+-------------------+-------------------+-------------------+-------------------+-----------------+-------------------+-----------------+------------------+-------------------+-------------------+-------------------+------------------+---------------+----------------+-----------------+----------------+---------------+----------------+---------------+------------+------------+------------+------------+------------+------------+----------------+----------------+--------------+----------------+-----------------+------------------+------------------+------------------+-----------------+------------+------------+----------------+----------------+----------------+------------+------------+--------------+--------------+--------------+------------+------------+-----------+---------------------+--------------------+--------------------+--------------------+---------------------+------------+------------+------------+------------+------------+------------+------------+-----------+-----------+-----------+-----------+-----------+-----------+---------------+---------------+---------------+----------------+----------------+----------------+----------------+----------------+----------------+----------------+----------------+----------------+----------------+------------+------------+------------+------------+--------------+--------------+--------------+---------------+---------------+---------------+--------------+--------------+--------------+--------------+--------------+--------------+--------------+----------------+----------------+-------------+-------------+-------------+-------------+-------------+-------------+-------------+-------------+---------+---------+----------+-----------+----------+\n",
            "|  1|        60|       65.0|   8450|          7|          5|     2003|        2003|     196.0|       706|         0|      150|        856|     856|     854|           0|     1710|           1|           0|       2|       1|           3|           1|           8|         0|     2003.0|         2|       548|         0|         61|            0|        0|          0|       0|      0|     2|  2008|   208500|          0|          0|          1|          0|          1|         0|           0|           0|           1|              0|              0|              1|               0|                0|            0|            0|               1|            0|            0|                   0|                  0|                   0|                   0|                   1|                   0|                   0|                   0|                  0|                   0|                   0|                 0|                   0|                  0|                   0|                   0|                   0|                 0|                  0|                   0|                   0|                   0|                  0|                   0|               0|              1|              0|              0|              0|              0|              0|              0|               0|              1|              0|              0|              0|              0|              0|              0|              0|             0|              0|                0|                0|                0|                0|                1|                0|              0|              1|                0|            0|                0|             0|               1|               0|             0|            0|               0|               0|               0|                  0|                  0|                  0|                 0|                  0|                  0|                  0|                  0|                  0|                0|                 0|                  1|                  0|                  0|                  0|                  0|                  0|                 0|                  0|                  0|                  0|                  0|                0|                  0|                0|                 0|                  1|                  0|                  0|                 1|              0|               0|                0|               1|              0|               0|              0|           1|           0|           0|           0|           0|           1|               0|               0|             0|               1|                1|                 0|                 0|                 0|                0|           0|           1|               0|               0|               0|           0|           0|             0|             0|             0|           0|           0|          1|                    0|                   0|                   0|                   1|                    0|           0|           1|           0|           0|           0|           0|           1|          0|          1|          0|          0|          0|          1|              0|              0|              1|               0|               1|               0|               0|               0|               0|               0|               0|               0|               1|           0|           0|           0|           0|             0|             1|             0|              0|              0|              0|             0|             0|             1|             0|             0|             0|             0|               1|               0|            0|            0|            0|            1|            0|            0|            0|            1|        0|        0|         0|          0|         0|\n",
            "|  2|        20|       80.0|   9600|          6|          8|     1976|        1976|       0.0|       978|         0|      284|       1262|    1262|       0|           0|     1262|           0|           1|       2|       0|           3|           1|           6|         1|     1976.0|         2|       460|       298|          0|            0|        0|          0|       0|      0|     5|  2007|   181500|          0|          0|          1|          0|          1|         0|           0|           0|           1|              0|              0|              1|               0|                0|            1|            0|               0|            0|            0|                   0|                  0|                   0|                   0|                   0|                   0|                   0|                   0|                  0|                   0|                   0|                 0|                   0|                  0|                   0|                   0|                   0|                 0|                  0|                   0|                   0|                   0|                  0|                   1|               1|              0|              0|              0|              0|              0|              0|              0|               0|              1|              0|              0|              0|              0|              0|              0|              0|             0|              0|                0|                1|                0|                0|                0|                0|              0|              1|                0|            0|                0|             0|               1|               0|             0|            0|               0|               0|               0|                  0|                  0|                  0|                 0|                  0|                  0|                  0|                  1|                  0|                0|                 0|                  0|                  0|                  0|                  0|                  0|                  0|                 0|                  0|                  0|                  0|                  1|                0|                  0|                0|                 0|                  0|                  0|                  0|                 0|              1|               0|                1|               0|              0|               0|              0|           1|           0|           0|           0|           0|           1|               0|               0|             0|               1|                1|                 0|                 0|                 0|                0|           0|           1|               0|               0|               0|           0|           0|             0|             0|             0|           0|           0|          1|                    0|                   0|                   0|                   1|                    0|           0|           0|           1|           0|           0|           0|           1|          0|          1|          0|          0|          0|          1|              1|              0|              0|               0|               0|               0|               0|               0|               0|               0|               0|               0|               1|           0|           0|           0|           0|             0|             0|             1|              0|              0|              0|             0|             0|             1|             0|             0|             0|             1|               1|               0|            0|            0|            0|            1|            0|            0|            0|            1|        0|        0|         0|          0|         0|\n",
            "|  3|        60|       68.0|  11250|          7|          5|     2001|        2002|     162.0|       486|         0|      434|        920|     920|     866|           0|     1786|           1|           0|       2|       1|           3|           1|           6|         1|     2001.0|         2|       608|         0|         42|            0|        0|          0|       0|      0|     9|  2008|   223500|          0|          0|          1|          0|          1|         0|           0|           0|           0|              0|              0|              1|               0|                0|            0|            0|               1|            0|            0|                   0|                  0|                   0|                   0|                   1|                   0|                   0|                   0|                  0|                   0|                   0|                 0|                   0|                  0|                   0|                   0|                   0|                 0|                  0|                   0|                   0|                   0|                  0|                   0|               0|              1|              0|              0|              0|              0|              0|              0|               0|              1|              0|              0|              0|              0|              0|              0|              0|             0|              0|                0|                0|                0|                0|                1|                0|              0|              1|                0|            0|                0|             0|               1|               0|             0|            0|               0|               0|               0|                  0|                  0|                  0|                 0|                  0|                  0|                  0|                  0|                  0|                0|                 0|                  1|                  0|                  0|                  0|                  0|                  0|                 0|                  0|                  0|                  0|                  0|                0|                  0|                0|                 0|                  1|                  0|                  0|                 1|              0|               0|                0|               1|              0|               0|              0|           1|           0|           0|           0|           0|           1|               0|               0|             0|               1|                1|                 0|                 0|                 0|                0|           0|           1|               0|               0|               0|           0|           0|             0|             0|             0|           0|           0|          1|                    0|                   0|                   0|                   1|                    0|           0|           1|           0|           0|           0|           0|           1|          0|          1|          0|          0|          0|          1|              0|              1|              0|               0|               1|               0|               0|               0|               0|               0|               0|               0|               1|           0|           0|           0|           0|             0|             1|             0|              0|              0|              0|             0|             0|             1|             0|             0|             0|             1|               1|               0|            0|            0|            0|            1|            0|            0|            0|            1|        0|        0|         0|          0|         0|\n",
            "|  4|        70|       60.0|   9550|          7|          5|     1915|        1970|       0.0|       216|         0|      540|        756|     961|     756|           0|     1717|           1|           0|       1|       0|           3|           1|           7|         1|     1998.0|         3|       642|         0|         35|          272|        0|          0|       0|      0|     2|  2006|   140000|          0|          0|          1|          0|          1|         0|           0|           0|           0|              0|              0|              1|               0|                0|            0|            0|               0|            0|            0|                   0|                  0|                   0|                   0|                   0|                   1|                   0|                   0|                  0|                   0|                   0|                 0|                   0|                  0|                   0|                   0|                   0|                 0|                  0|                   0|                   0|                   0|                  0|                   0|               0|              1|              0|              0|              0|              0|              0|              0|               0|              1|              0|              0|              0|              0|              0|              0|              0|             0|              0|                0|                0|                0|                0|                1|                0|              0|              1|                0|            0|                0|             0|               1|               0|             0|            0|               0|               0|               0|                  0|                  0|                  0|                 0|                  0|                  0|                  0|                  0|                  0|                0|                 0|                  0|                  1|                  0|                  0|                  0|                  0|                 0|                  0|                  0|                  0|                  0|                0|                  0|                0|                 0|                  0|                  0|                  1|                 0|              1|               0|                0|               0|              0|               0|              0|           1|           0|           0|           0|           0|           1|               0|               0|             0|               1|                0|                 0|                 0|                 0|                1|           0|           1|               0|               0|               0|           0|           0|             0|             0|             0|           0|           0|          1|                    0|                   0|                   0|                   0|                    0|           0|           0|           1|           0|           0|           0|           1|          0|          0|          1|          1|          0|          0|              0|              0|              1|               0|               0|               0|               0|               0|               0|               0|               0|               0|               1|           0|           1|           0|           0|             0|             1|             0|              0|              0|              0|             0|             0|             1|             0|             1|             0|             0|               0|               1|            0|            0|            0|            1|            0|            0|            0|            1|        0|        0|         0|          0|         0|\n",
            "|  5|        60|       84.0|  14260|          8|          5|     2000|        2000|     350.0|       655|         0|      490|       1145|    1145|    1053|           0|     2198|           1|           0|       2|       1|           4|           1|           9|         1|     2000.0|         3|       836|       192|         84|            0|        0|          0|       0|      0|    12|  2008|   250000|          0|          0|          1|          0|          1|         0|           0|           0|           0|              0|              0|              1|               0|                0|            1|            0|               0|            0|            0|                   0|                  0|                   0|                   0|                   0|                   0|                   0|                   0|                  0|                   0|                   0|                 0|                   0|                  0|                   1|                   0|                   0|                 0|                  0|                   0|                   0|                   0|                  0|                   0|               0|              1|              0|              0|              0|              0|              0|              0|               0|              1|              0|              0|              0|              0|              0|              0|              0|             0|              0|                0|                0|                0|                0|                1|                0|              0|              1|                0|            0|                0|             0|               1|               0|             0|            0|               0|               0|               0|                  0|                  0|                  0|                 0|                  0|                  0|                  0|                  0|                  0|                0|                 0|                  1|                  0|                  0|                  0|                  0|                  0|                 0|                  0|                  0|                  0|                  0|                0|                  0|                0|                 0|                  1|                  0|                  0|                 1|              0|               0|                0|               1|              0|               0|              0|           1|           0|           0|           0|           0|           1|               0|               0|             0|               1|                1|                 0|                 0|                 0|                0|           0|           1|               0|               0|               0|           0|           0|             0|             0|             0|           0|           0|          1|                    0|                   0|                   0|                   1|                    0|           0|           1|           0|           0|           0|           0|           1|          0|          1|          0|          0|          0|          1|              0|              0|              0|               0|               1|               0|               0|               0|               0|               0|               0|               0|               1|           0|           0|           0|           0|             0|             1|             0|              0|              0|              0|             0|             0|             1|             0|             0|             0|             1|               1|               0|            0|            0|            0|            1|            0|            0|            0|            1|        0|        0|         0|          0|         0|\n",
            "|  6|        50|       85.0|  14115|          5|          5|     1993|        1995|       0.0|       732|         0|       64|        796|     796|     566|           0|     1362|           1|           0|       1|       1|           1|           1|           5|         0|     1993.0|         2|       480|        40|         30|            0|      320|          0|       0|    700|    10|  2009|   143000|          0|          0|          1|          0|          1|         0|           0|           0|           0|              0|              0|              1|               0|                0|            0|            0|               1|            0|            0|                   0|                  0|                   0|                   0|                   0|                   0|                   0|                   0|                  0|                   0|                   1|                 0|                   0|                  0|                   0|                   0|                   0|                 0|                  0|                   0|                   0|                   0|                  0|                   0|               0|              1|              0|              0|              0|              0|              0|              0|               0|              1|              0|              0|              0|              0|              0|              0|              0|             0|              0|                0|                0|                0|                0|                0|                0|              0|              1|                0|            0|                0|             0|               1|               0|             0|            0|               0|               0|               0|                  0|                  0|                  0|                 0|                  0|                  0|                  0|                  0|                  0|                0|                 0|                  1|                  0|                  0|                  0|                  0|                  0|                 0|                  0|                  0|                  0|                  0|                0|                  0|                0|                 0|                  1|                  0|                  0|                 0|              1|               0|                0|               0|              0|               0|              1|           1|           0|           0|           0|           0|           1|               0|               0|             0|               1|                1|                 0|                 0|                 0|                0|           0|           1|               0|               1|               0|           0|           0|             0|             0|             0|           0|           0|          1|                    0|                   0|                   0|                   1|                    0|           0|           0|           1|           0|           0|           0|           1|          0|          1|          0|          0|          0|          1|              0|              0|              1|               0|               1|               0|               0|               0|               0|               0|               0|               0|               1|           0|           0|           0|           0|             0|             0|             1|              0|              0|              0|             0|             0|             1|             0|             0|             0|             0|               0|               1|            0|            0|            0|            1|            0|            0|            0|            1|        0|        0|         0|          1|         0|\n",
            "|  7|        20|       75.0|  10084|          8|          5|     2004|        2005|     186.0|      1369|         0|      317|       1686|    1694|       0|           0|     1694|           1|           0|       2|       0|           3|           1|           7|         1|     2004.0|         2|       636|       255|         57|            0|        0|          0|       0|      0|     8|  2007|   307000|          0|          0|          1|          0|          1|         0|           0|           0|           1|              0|              0|              1|               0|                0|            0|            0|               1|            0|            0|                   0|                  0|                   0|                   0|                   0|                   0|                   0|                   0|                  0|                   0|                   0|                 0|                   0|                  0|                   0|                   0|                   0|                 0|                  0|                   0|                   1|                   0|                  0|                   0|               0|              1|              0|              0|              0|              0|              0|              0|               0|              1|              0|              0|              0|              0|              0|              0|              0|             0|              0|                0|                1|                0|                0|                0|                0|              0|              1|                0|            0|                0|             0|               1|               0|             0|            0|               0|               0|               0|                  0|                  0|                  0|                 0|                  0|                  0|                  0|                  0|                  0|                0|                 0|                  1|                  0|                  0|                  0|                  0|                  0|                 0|                  0|                  0|                  0|                  0|                0|                  0|                0|                 0|                  1|                  0|                  0|                 0|              0|               1|                0|               1|              0|               0|              0|           1|           0|           0|           0|           0|           1|               0|               0|             0|               1|                1|                 0|                 0|                 0|                0|           0|           1|               0|               0|               0|           0|           0|             0|             0|             0|           0|           0|          1|                    0|                   0|                   0|                   1|                    0|           0|           1|           0|           0|           0|           0|           1|          0|          0|          0|          0|          0|          1|              0|              0|              0|               0|               1|               0|               0|               0|               0|               0|               0|               0|               1|           0|           0|           0|           0|             0|             1|             0|              0|              0|              0|             0|             0|             1|             0|             1|             0|             0|               1|               0|            0|            0|            0|            1|            0|            0|            0|            1|        0|        0|         0|          0|         0|\n",
            "|  8|        60|       null|  10382|          7|          6|     1973|        1973|     240.0|       859|        32|      216|       1107|    1107|     983|           0|     2090|           1|           0|       2|       1|           3|           1|           7|         2|     1973.0|         2|       484|       235|        204|          228|        0|          0|       0|    350|    11|  2009|   200000|          0|          0|          1|          0|          1|         0|           0|           0|           0|              0|              0|              1|               0|                0|            0|            0|               0|            0|            0|                   0|                  0|                   0|                   0|                   0|                   0|                   0|                   0|                  0|                   0|                   0|                 0|                   0|                  1|                   0|                   0|                   0|                 0|                  0|                   0|                   0|                   0|                  0|                   0|               0|              0|              0|              1|              0|              0|              0|              0|               0|              1|              0|              0|              0|              0|              0|              0|              0|             0|              0|                0|                0|                0|                0|                1|                0|              0|              1|                0|            0|                0|             0|               1|               0|             0|            0|               0|               0|               0|                  0|                  0|                  0|                 0|                  0|                  1|                  0|                  0|                  0|                0|                 0|                  0|                  0|                  0|                  0|                  0|                  0|                 0|                  0|                  1|                  0|                  0|                0|                  0|                0|                 0|                  0|                  0|                  0|                 0|              0|               1|                1|               0|              0|               0|              0|           1|           0|           0|           0|           0|           1|               0|               0|             0|               1|                1|                 0|                 0|                 0|                0|           0|           1|               0|               1|               0|           0|           0|             0|             0|             0|           0|           0|          1|                    0|                   0|                   0|                   1|                    0|           0|           0|           1|           0|           0|           0|           1|          0|          1|          0|          0|          0|          1|              0|              1|              0|               0|               0|               0|               0|               0|               1|               0|               0|               0|               0|           0|           0|           0|           0|             0|             0|             1|              0|              0|              0|             0|             0|             1|             0|             0|             0|             1|               1|               0|            0|            0|            0|            1|            0|            0|            0|            1|        0|        0|         0|          0|         0|\n",
            "|  9|        50|       51.0|   6120|          7|          5|     1931|        1950|       0.0|         0|         0|      952|        952|    1022|     752|           0|     1774|           0|           0|       2|       0|           2|           2|           8|         2|     1931.0|         2|       468|        90|          0|          205|        0|          0|       0|      0|     4|  2008|   129900|          0|          0|          0|          1|          1|         0|           0|           0|           1|              0|              0|              1|               0|                0|            0|            0|               1|            0|            0|                   0|                  0|                   0|                   0|                   0|                   0|                   0|                   0|                  0|                   0|                   0|                 0|                   0|                  0|                   0|                   0|                   1|                 0|                  0|                   0|                   0|                   0|                  0|                   0|               0|              0|              0|              0|              0|              0|              0|              0|               0|              1|              0|              0|              0|              0|              0|              0|              0|             0|              0|                0|                0|                0|                0|                0|                0|              0|              1|                0|            0|                0|             0|               1|               0|             0|            0|               0|               0|               0|                  0|                  0|                  1|                 0|                  0|                  0|                  0|                  0|                  0|                0|                 0|                  0|                  0|                  0|                  0|                  0|                  0|                 0|                  0|                  0|                  0|                  0|                0|                  0|                0|                 0|                  0|                  0|                  1|                 0|              1|               0|                0|               0|              0|               0|              0|           1|           0|           0|           0|           0|           1|               1|               0|             0|               0|                0|                 0|                 0|                 0|                1|           0|           1|               0|               0|               0|           0|           0|             0|             0|             0|           0|           0|          1|                    0|                   0|                   0|                   0|                    0|           0|           0|           1|           0|           0|           0|           1|          0|          0|          1|          0|          0|          1|              0|              0|              1|               0|               0|               0|               0|               1|               0|               0|               0|               0|               1|           0|           1|           0|           0|             0|             0|             1|              0|              1|              0|             0|             0|             0|             0|             0|             0|             1|               0|               1|            1|            0|            0|            0|            0|            0|            0|            1|        0|        0|         0|          0|         0|\n",
            "| 10|       190|       50.0|   7420|          5|          6|     1939|        1950|       0.0|       851|         0|      140|        991|    1077|       0|           0|     1077|           1|           0|       1|       0|           2|           2|           5|         2|     1939.0|         1|       205|         0|          4|            0|        0|          0|       0|      0|     1|  2008|   118000|          0|          0|          1|          0|          1|         0|           0|           0|           1|              0|              0|              1|               0|                0|            0|            0|               0|            0|            0|                   0|                  0|                   1|                   0|                   0|                   0|                   0|                   0|                  0|                   0|                   0|                 0|                   0|                  0|                   0|                   0|                   0|                 0|                  0|                   0|                   0|                   0|                  0|                   0|               0|              0|              0|              0|              0|              0|              0|              0|               0|              0|              0|              0|              0|              0|              0|              1|              0|             0|              0|                1|                0|                0|                0|                0|                0|              0|              1|                0|            0|                0|             0|               1|               0|             0|            0|               0|               0|               0|                  0|                  0|                  0|                 0|                  0|                  0|                  0|                  1|                  0|                0|                 0|                  0|                  0|                  0|                  0|                  0|                  0|                 0|                  0|                  0|                  0|                  1|                0|                  0|                0|                 0|                  0|                  0|                  0|                 0|              1|               0|                0|               0|              0|               0|              0|           1|           0|           0|           0|           0|           1|               0|               0|             0|               1|                1|                 0|                 0|                 0|                0|           0|           1|               0|               0|               0|           0|           0|             0|             0|             0|           0|           0|          1|                    0|                   0|                   0|                   1|                    0|           0|           0|           1|           0|           0|           0|           1|          0|          0|          1|          0|          0|          1|              0|              0|              1|               0|               1|               0|               0|               0|               0|               0|               0|               0|               1|           0|           0|           0|           0|             0|             0|             1|              0|              0|              0|             0|             0|             1|             0|             0|             0|             1|               1|               0|            0|            1|            0|            0|            0|            0|            0|            1|        0|        0|         0|          0|         0|\n",
            "+---+----------+-----------+-------+-----------+-----------+---------+------------+----------+----------+----------+---------+-----------+--------+--------+------------+---------+------------+------------+--------+--------+------------+------------+------------+----------+-----------+----------+----------+----------+-----------+-------------+---------+-----------+--------+-------+------+------+---------+-----------+-----------+-----------+-----------+-----------+----------+------------+------------+------------+---------------+---------------+---------------+----------------+-----------------+-------------+-------------+----------------+-------------+-------------+--------------------+-------------------+--------------------+--------------------+--------------------+--------------------+--------------------+--------------------+-------------------+--------------------+--------------------+------------------+--------------------+-------------------+--------------------+--------------------+--------------------+------------------+-------------------+--------------------+--------------------+--------------------+-------------------+--------------------+----------------+---------------+---------------+---------------+---------------+---------------+---------------+---------------+----------------+---------------+---------------+---------------+---------------+---------------+---------------+---------------+---------------+--------------+---------------+-----------------+-----------------+-----------------+-----------------+-----------------+-----------------+---------------+---------------+-----------------+-------------+-----------------+--------------+----------------+----------------+--------------+-------------+----------------+----------------+----------------+-------------------+-------------------+-------------------+------------------+-------------------+-------------------+-------------------+-------------------+-------------------+-----------------+------------------+-------------------+-------------------+-------------------+-------------------+-------------------+-------------------+------------------+-------------------+-------------------+-------------------+-------------------+-----------------+-------------------+-----------------+------------------+-------------------+-------------------+-------------------+------------------+---------------+----------------+-----------------+----------------+---------------+----------------+---------------+------------+------------+------------+------------+------------+------------+----------------+----------------+--------------+----------------+-----------------+------------------+------------------+------------------+-----------------+------------+------------+----------------+----------------+----------------+------------+------------+--------------+--------------+--------------+------------+------------+-----------+---------------------+--------------------+--------------------+--------------------+---------------------+------------+------------+------------+------------+------------+------------+------------+-----------+-----------+-----------+-----------+-----------+-----------+---------------+---------------+---------------+----------------+----------------+----------------+----------------+----------------+----------------+----------------+----------------+----------------+----------------+------------+------------+------------+------------+--------------+--------------+--------------+---------------+---------------+---------------+--------------+--------------+--------------+--------------+--------------+--------------+--------------+----------------+----------------+-------------+-------------+-------------+-------------+-------------+-------------+-------------+-------------+---------+---------+----------+-----------+----------+\n",
            "only showing top 10 rows\n",
            "\n"
          ],
          "name": "stdout"
        }
      ]
    },
    {
      "cell_type": "code",
      "metadata": {
        "colab": {
          "base_uri": "https://localhost:8080/"
        },
        "id": "K3x03OX3qoXL",
        "outputId": "2d1213bb-f0f2-40bf-92e2-b9cd7b8521a9"
      },
      "source": [
        "#Get the Feature names\n",
        "import pandas as pd\n",
        "\n",
        "features = [col for col in df.columns]\n",
        "print(features)\n",
        "\n",
        "print(type(features))"
      ],
      "execution_count": 4,
      "outputs": [
        {
          "output_type": "stream",
          "text": [
            "['Id', 'MSSubClass', 'LotFrontage', 'LotArea', 'OverallQual', 'OverallCond', 'YearBuilt', 'YearRemodAdd', 'MasVnrArea', 'BsmtFinSF1', 'BsmtFinSF2', 'BsmtUnfSF', 'TotalBsmtSF', '1stFlrSF', '2ndFlrSF', 'LowQualFinSF', 'GrLivArea', 'BsmtFullBath', 'BsmtHalfBath', 'FullBath', 'HalfBath', 'BedroomAbvGr', 'KitchenAbvGr', 'TotRmsAbvGrd', 'Fireplaces', 'GarageYrBlt', 'GarageCars', 'GarageArea', 'WoodDeckSF', 'OpenPorchSF', 'EnclosedPorch', '3SsnPorch', 'ScreenPorch', 'PoolArea', 'MiscVal', 'MoSold', 'YrSold', 'SalePrice', 'MSZoning_FV', 'MSZoning_RH', 'MSZoning_RL', 'MSZoning_RM', 'Street_Pave', 'Alley_Pave', 'LotShape_IR2', 'LotShape_IR3', 'LotShape_Reg', 'LandContour_HLS', 'LandContour_Low', 'LandContour_Lvl', 'Utilities_NoSeWa', 'LotConfig_CulDSac', 'LotConfig_FR2', 'LotConfig_FR3', 'LotConfig_Inside', 'LandSlope_Mod', 'LandSlope_Sev', 'Neighborhood_Blueste', 'Neighborhood_BrDale', 'Neighborhood_BrkSide', 'Neighborhood_ClearCr', 'Neighborhood_CollgCr', 'Neighborhood_Crawfor', 'Neighborhood_Edwards', 'Neighborhood_Gilbert', 'Neighborhood_IDOTRR', 'Neighborhood_MeadowV', 'Neighborhood_Mitchel', 'Neighborhood_NAmes', 'Neighborhood_NPkVill', 'Neighborhood_NWAmes', 'Neighborhood_NoRidge', 'Neighborhood_NridgHt', 'Neighborhood_OldTown', 'Neighborhood_SWISU', 'Neighborhood_Sawyer', 'Neighborhood_SawyerW', 'Neighborhood_Somerst', 'Neighborhood_StoneBr', 'Neighborhood_Timber', 'Neighborhood_Veenker', 'Condition1_Feedr', 'Condition1_Norm', 'Condition1_PosA', 'Condition1_PosN', 'Condition1_RRAe', 'Condition1_RRAn', 'Condition1_RRNe', 'Condition1_RRNn', 'Condition2_Feedr', 'Condition2_Norm', 'Condition2_PosA', 'Condition2_PosN', 'Condition2_RRAe', 'Condition2_RRAn', 'Condition2_RRNn', 'BldgType_2fmCon', 'BldgType_Duplex', 'BldgType_Twnhs', 'BldgType_TwnhsE', 'HouseStyle_1.5Unf', 'HouseStyle_1Story', 'HouseStyle_2.5Fin', 'HouseStyle_2.5Unf', 'HouseStyle_2Story', 'HouseStyle_SFoyer', 'HouseStyle_SLvl', 'RoofStyle_Gable', 'RoofStyle_Gambrel', 'RoofStyle_Hip', 'RoofStyle_Mansard', 'RoofStyle_Shed', 'RoofMatl_CompShg', 'RoofMatl_Membran', 'RoofMatl_Metal', 'RoofMatl_Roll', 'RoofMatl_Tar&Grv', 'RoofMatl_WdShake', 'RoofMatl_WdShngl', 'Exterior1st_AsphShn', 'Exterior1st_BrkComm', 'Exterior1st_BrkFace', 'Exterior1st_CBlock', 'Exterior1st_CemntBd', 'Exterior1st_HdBoard', 'Exterior1st_ImStucc', 'Exterior1st_MetalSd', 'Exterior1st_Plywood', 'Exterior1st_Stone', 'Exterior1st_Stucco', 'Exterior1st_VinylSd', 'Exterior1st_Wd Sdng', 'Exterior1st_WdShing', 'Exterior2nd_AsphShn', 'Exterior2nd_Brk Cmn', 'Exterior2nd_BrkFace', 'Exterior2nd_CBlock', 'Exterior2nd_CmentBd', 'Exterior2nd_HdBoard', 'Exterior2nd_ImStucc', 'Exterior2nd_MetalSd', 'Exterior2nd_Other', 'Exterior2nd_Plywood', 'Exterior2nd_Stone', 'Exterior2nd_Stucco', 'Exterior2nd_VinylSd', 'Exterior2nd_Wd Sdng', 'Exterior2nd_Wd Shng', 'MasVnrType_BrkFace', 'MasVnrType_None', 'MasVnrType_Stone', 'Foundation_CBlock', 'Foundation_PConc', 'Foundation_Slab', 'Foundation_Stone', 'Foundation_Wood', 'Heating_GasA', 'Heating_GasW', 'Heating_Grav', 'Heating_OthW', 'Heating_Wall', 'CentralAir_Y', 'Electrical_FuseF', 'Electrical_FuseP', 'Electrical_Mix', 'Electrical_SBrkr', 'GarageType_Attchd', 'GarageType_Basment', 'GarageType_BuiltIn', 'GarageType_CarPort', 'GarageType_Detchd', 'PavedDrive_P', 'PavedDrive_Y', 'MiscFeature_Othr', 'MiscFeature_Shed', 'MiscFeature_TenC', 'SaleType_CWD', 'SaleType_Con', 'SaleType_ConLD', 'SaleType_ConLI', 'SaleType_ConLw', 'SaleType_New', 'SaleType_Oth', 'SaleType_WD', 'SaleCondition_AdjLand', 'SaleCondition_Alloca', 'SaleCondition_Family', 'SaleCondition_Normal', 'SaleCondition_Partial', 'ExterQual_Fa', 'ExterQual_Gd', 'ExterQual_TA', 'ExterCond_Fa', 'ExterCond_Gd', 'ExterCond_Po', 'ExterCond_TA', 'BsmtQual_Fa', 'BsmtQual_Gd', 'BsmtQual_TA', 'BsmtCond_Gd', 'BsmtCond_Po', 'BsmtCond_TA', 'BsmtExposure_Gd', 'BsmtExposure_Mn', 'BsmtExposure_No', 'BsmtFinType1_BLQ', 'BsmtFinType1_GLQ', 'BsmtFinType1_LwQ', 'BsmtFinType1_Rec', 'BsmtFinType1_Unf', 'BsmtFinType2_BLQ', 'BsmtFinType2_GLQ', 'BsmtFinType2_LwQ', 'BsmtFinType2_Rec', 'BsmtFinType2_Unf', 'HeatingQC_Fa', 'HeatingQC_Gd', 'HeatingQC_Po', 'HeatingQC_TA', 'KitchenQual_Fa', 'KitchenQual_Gd', 'KitchenQual_TA', 'Functional_Maj2', 'Functional_Min1', 'Functional_Min2', 'Functional_Mod', 'Functional_Sev', 'Functional_Typ', 'FireplaceQu_Fa', 'FireplaceQu_Gd', 'FireplaceQu_Po', 'FireplaceQu_TA', 'GarageFinish_RFn', 'GarageFinish_Unf', 'GarageQual_Fa', 'GarageQual_Gd', 'GarageQual_Po', 'GarageQual_TA', 'GarageCond_Fa', 'GarageCond_Gd', 'GarageCond_Po', 'GarageCond_TA', 'PoolQC_Fa', 'PoolQC_Gd', 'Fence_GdWo', 'Fence_MnPrv', 'Fence_MnWw']\n",
            "<class 'list'>\n"
          ],
          "name": "stdout"
        }
      ]
    },
    {
      "cell_type": "code",
      "metadata": {
        "id": "w5CLrFIBqsrF"
      },
      "source": [
        "#Import sklearn tools and dependencies\n",
        "from sklearn.ensemble import RandomForestClassifier\n",
        "from sklearn.model_selection import train_test_split"
      ],
      "execution_count": 5,
      "outputs": []
    },
    {
      "cell_type": "code",
      "metadata": {
        "id": "KEcb4liiqw24"
      },
      "source": [
        "\n",
        "\n",
        "#####################Create the feature data and the target\n",
        "\n",
        "#Feature DataFrame is X\n",
        "X = df.drop(columns=[\"Id\", \"SalePrice\"])\n",
        "\n",
        "\n",
        "#Target Dataframe is y\n",
        "y = df[\"SalePrice\"]\n",
        "\n",
        "\n",
        "#####################Create train_test_split\n",
        "X_train, X_test, y_train, y_test = train_test_split(X, y, random_state=2)\n",
        "\n"
      ],
      "execution_count": 6,
      "outputs": []
    },
    {
      "cell_type": "code",
      "metadata": {
        "colab": {
          "base_uri": "https://localhost:8080/"
        },
        "id": "B6lOhvqZq0Jp",
        "outputId": "e85ee823-724b-4b98-c197-f79c462c94c8"
      },
      "source": [
        "rf = RandomForestClassifier(n_estimators=200)\n",
        "rf.fit(X, y)"
      ],
      "execution_count": 7,
      "outputs": [
        {
          "output_type": "execute_result",
          "data": {
            "text/plain": [
              "RandomForestClassifier(bootstrap=True, ccp_alpha=0.0, class_weight=None,\n",
              "                       criterion='gini', max_depth=None, max_features='auto',\n",
              "                       max_leaf_nodes=None, max_samples=None,\n",
              "                       min_impurity_decrease=0.0, min_impurity_split=None,\n",
              "                       min_samples_leaf=1, min_samples_split=2,\n",
              "                       min_weight_fraction_leaf=0.0, n_estimators=200,\n",
              "                       n_jobs=None, oob_score=False, random_state=None,\n",
              "                       verbose=0, warm_start=False)"
            ]
          },
          "metadata": {
            "tags": []
          },
          "execution_count": 7
        }
      ]
    },
    {
      "cell_type": "code",
      "metadata": {
        "colab": {
          "base_uri": "https://localhost:8080/"
        },
        "id": "tqrG4oiQq3aM",
        "outputId": "9b79ad26-fa98-4e76-f28b-3da336ee0ace"
      },
      "source": [
        "importances = rf.feature_importances_\n",
        "importances"
      ],
      "execution_count": 8,
      "outputs": [
        {
          "output_type": "execute_result",
          "data": {
            "text/plain": [
              "array([1.20144471e-02, 2.66270141e-02, 3.01577430e-02, 1.56445897e-02,\n",
              "       1.18696207e-02, 2.52393683e-02, 2.36159688e-02, 1.59700151e-02,\n",
              "       2.39938398e-02, 6.26789829e-03, 2.98853145e-02, 2.87334225e-02,\n",
              "       3.06718451e-02, 1.62204011e-02, 1.65309659e-03, 3.06618113e-02,\n",
              "       8.29118024e-03, 2.91760888e-03, 6.22936870e-03, 6.89607652e-03,\n",
              "       1.22761593e-02, 1.45604207e-03, 1.84102305e-02, 1.01551581e-02,\n",
              "       2.55837194e-02, 7.85040774e-03, 3.00582198e-02, 2.01047255e-02,\n",
              "       2.22277873e-02, 7.47045598e-03, 2.56784057e-03, 6.29385905e-03,\n",
              "       4.72597096e-04, 2.36764911e-03, 2.53305668e-02, 1.87636543e-02,\n",
              "       1.90499702e-03, 1.06461809e-03, 4.39049513e-03, 3.46786905e-03,\n",
              "       3.92201535e-04, 1.80297869e-03, 1.54355073e-03, 6.73100545e-04,\n",
              "       7.73960871e-03, 2.37187963e-03, 9.47896371e-04, 3.76762452e-03,\n",
              "       0.00000000e+00, 2.49778533e-03, 2.19779699e-03, 4.75557902e-04,\n",
              "       7.85178368e-03, 2.08389187e-03, 4.40576146e-04, 2.42222417e-04,\n",
              "       6.07208740e-04, 1.72988096e-03, 9.88703877e-04, 5.01523816e-03,\n",
              "       2.21482440e-03, 3.06915192e-03, 2.33539474e-03, 1.30751265e-03,\n",
              "       4.89241845e-04, 2.03487415e-03, 3.89293552e-03, 6.70763150e-04,\n",
              "       1.98623413e-03, 1.62909380e-03, 2.57004403e-03, 2.43504627e-03,\n",
              "       9.09146975e-04, 2.37645341e-03, 2.56310147e-03, 2.66010629e-03,\n",
              "       1.08787698e-03, 2.16975561e-03, 5.14228451e-04, 2.45203165e-03,\n",
              "       4.57791446e-03, 4.41717791e-04, 1.07839337e-03, 9.01814673e-04,\n",
              "       1.92548103e-03, 2.67701000e-04, 3.62696147e-04, 4.20434935e-04,\n",
              "       7.07107952e-04, 1.17494240e-04, 1.39455810e-04, 0.00000000e+00,\n",
              "       0.00000000e+00, 2.28469749e-04, 9.22130586e-04, 1.21318898e-03,\n",
              "       1.63845254e-03, 2.76053509e-03, 7.75149625e-04, 5.97236530e-03,\n",
              "       4.81494365e-04, 6.77072383e-04, 4.63404441e-03, 1.53790813e-03,\n",
              "       2.05561261e-03, 5.92186973e-03, 7.97075233e-04, 6.02305271e-03,\n",
              "       4.75026144e-04, 0.00000000e+00, 7.32587532e-04, 6.43920093e-05,\n",
              "       0.00000000e+00, 1.83306577e-04, 3.81916353e-04, 1.63818439e-04,\n",
              "       6.19695002e-04, 0.00000000e+00, 1.52064938e-04, 1.96487031e-03,\n",
              "       2.19430066e-04, 1.91701874e-03, 4.08485322e-03, 1.06772731e-04,\n",
              "       4.31746393e-03, 2.50074389e-03, 1.46371557e-04, 1.04575892e-03,\n",
              "       4.96996611e-03, 3.58620782e-03, 1.66740374e-03, 2.47991759e-04,\n",
              "       6.09246952e-04, 1.43293268e-03, 1.07909109e-04, 2.12777883e-03,\n",
              "       4.30207798e-03, 1.03557974e-03, 4.51325122e-03, 2.25455321e-04,\n",
              "       2.94651877e-03, 4.08625135e-04, 1.01771262e-03, 4.94851184e-03,\n",
              "       3.95094677e-03, 1.85634483e-03, 6.62328327e-03, 6.25450212e-03,\n",
              "       3.70676410e-03, 4.42528782e-03, 3.95185663e-03, 7.72399469e-04,\n",
              "       6.17110666e-04, 2.61572760e-04, 1.14120345e-03, 8.60234949e-04,\n",
              "       2.87624285e-04, 9.94498485e-05, 2.36076098e-04, 1.76678443e-03,\n",
              "       1.10345061e-03, 2.49067509e-04, 1.76428902e-04, 3.14858264e-03,\n",
              "       5.87454400e-03, 9.71049708e-04, 2.34477459e-03, 5.86426581e-04,\n",
              "       4.42165312e-03, 1.13184121e-03, 2.22168545e-03, 1.29527499e-04,\n",
              "       1.71891427e-03, 6.32938773e-05, 5.47453729e-04, 2.61382636e-04,\n",
              "       4.96348960e-04, 4.98247466e-04, 7.95176124e-04, 2.91125067e-03,\n",
              "       1.94324337e-04, 4.67132979e-03, 2.70711252e-04, 7.41173005e-04,\n",
              "       1.29335947e-03, 6.08807408e-03, 3.10892741e-03, 3.79408004e-04,\n",
              "       4.09936364e-03, 3.98326354e-03, 1.03112912e-03, 3.58137425e-03,\n",
              "       0.00000000e+00, 4.15019533e-03, 1.41721671e-03, 5.59391842e-03,\n",
              "       3.64456385e-03, 2.98588295e-03, 8.41785805e-05, 4.20743292e-03,\n",
              "       3.37579834e-03, 3.93183899e-03, 7.37181364e-03, 3.79975179e-03,\n",
              "       5.99288612e-03, 2.72303411e-03, 3.50566652e-03, 6.54826688e-03,\n",
              "       1.82353994e-03, 8.92225846e-04, 1.90415576e-03, 1.90661563e-03,\n",
              "       3.66928453e-03, 1.75236472e-03, 6.15975292e-03, 1.41758313e-04,\n",
              "       5.41375661e-03, 1.10778935e-03, 5.79460081e-03, 4.88048094e-03,\n",
              "       3.19529551e-04, 1.46722876e-03, 1.39306670e-03, 7.81771590e-04,\n",
              "       0.00000000e+00, 2.77854638e-03, 2.06499670e-03, 6.18523043e-03,\n",
              "       1.01241817e-03, 5.73499068e-03, 7.30739983e-03, 5.28436226e-03,\n",
              "       1.75045844e-03, 8.53244487e-04, 3.27338247e-04, 2.14489465e-03,\n",
              "       1.44446765e-03, 4.95005193e-04, 4.08010059e-04, 1.55647567e-03,\n",
              "       1.85717657e-04, 2.06986362e-04, 2.48088339e-03, 4.05959673e-03,\n",
              "       7.56751826e-04])"
            ]
          },
          "metadata": {
            "tags": []
          },
          "execution_count": 8
        }
      ]
    },
    {
      "cell_type": "code",
      "metadata": {
        "colab": {
          "base_uri": "https://localhost:8080/"
        },
        "id": "MSlkWZpsq7by",
        "outputId": "3adb1d68-f15d-49a2-e4e6-7c83d7b3efc7"
      },
      "source": [
        "\n",
        "\n",
        "features.remove(\"Id\")\n",
        "features.remove(\"SalePrice\")\n",
        "\n",
        "sorted(zip(rf.feature_importances_, features), reverse=True)\n",
        "\n"
      ],
      "execution_count": 9,
      "outputs": [
        {
          "output_type": "execute_result",
          "data": {
            "text/plain": [
              "[(0.03067184507694324, '1stFlrSF'),\n",
              " (0.030661811314982232, 'GrLivArea'),\n",
              " (0.030157742992857357, 'LotArea'),\n",
              " (0.030058219806715736, 'GarageArea'),\n",
              " (0.02988531453794777, 'BsmtUnfSF'),\n",
              " (0.028733422469003674, 'TotalBsmtSF'),\n",
              " (0.026627014082029762, 'LotFrontage'),\n",
              " (0.025583719381550338, 'GarageYrBlt'),\n",
              " (0.02533056678489419, 'MoSold'),\n",
              " (0.025239368282836506, 'YearBuilt'),\n",
              " (0.02399383975829967, 'BsmtFinSF1'),\n",
              " (0.023615968787044927, 'YearRemodAdd'),\n",
              " (0.02222778731027863, 'OpenPorchSF'),\n",
              " (0.020104725477762667, 'WoodDeckSF'),\n",
              " (0.018763654347624222, 'YrSold'),\n",
              " (0.018410230455695117, 'TotRmsAbvGrd'),\n",
              " (0.01622040112927497, '2ndFlrSF'),\n",
              " (0.015970015071569303, 'MasVnrArea'),\n",
              " (0.01564458969957334, 'OverallQual'),\n",
              " (0.012276159252435206, 'BedroomAbvGr'),\n",
              " (0.01201444710207882, 'MSSubClass'),\n",
              " (0.011869620651636485, 'OverallCond'),\n",
              " (0.010155158114020211, 'Fireplaces'),\n",
              " (0.008291180235079142, 'BsmtFullBath'),\n",
              " (0.007851783677985063, 'LotConfig_Inside'),\n",
              " (0.007850407737613738, 'GarageCars'),\n",
              " (0.007739608710340792, 'LotShape_Reg'),\n",
              " (0.007470455978695569, 'EnclosedPorch'),\n",
              " (0.007371813644786451, 'BsmtExposure_No'),\n",
              " (0.007307399830102492, 'GarageFinish_RFn'),\n",
              " (0.006896076523860154, 'HalfBath'),\n",
              " (0.006623283270413286, 'MasVnrType_BrkFace'),\n",
              " (0.006548266882294619, 'BsmtFinType1_Unf'),\n",
              " (0.006293859054835249, 'ScreenPorch'),\n",
              " (0.0062678982942448655, 'BsmtFinSF2'),\n",
              " (0.0062545021231961385, 'MasVnrType_None'),\n",
              " (0.006229368703599103, 'FullBath'),\n",
              " (0.006185230428795044, 'FireplaceQu_Gd'),\n",
              " (0.006159752920363708, 'HeatingQC_Gd'),\n",
              " (0.006088074079841989, 'SaleCondition_Normal'),\n",
              " (0.006023052713717321, 'RoofStyle_Hip'),\n",
              " (0.005992886121412493, 'BsmtFinType1_GLQ'),\n",
              " (0.00597236530131602, 'HouseStyle_1Story'),\n",
              " (0.0059218697259769085, 'RoofStyle_Gable'),\n",
              " (0.005874544002713793, 'GarageType_Attchd'),\n",
              " (0.005794600806894193, 'KitchenQual_Gd'),\n",
              " (0.005734990677121862, 'FireplaceQu_TA'),\n",
              " (0.005593918415213093, 'BsmtQual_Gd'),\n",
              " (0.00541375661119519, 'HeatingQC_TA'),\n",
              " (0.00528436226207454, 'GarageFinish_Unf'),\n",
              " (0.0050152381568310785, 'Neighborhood_CollgCr'),\n",
              " (0.004969966109635075, 'Exterior1st_VinylSd'),\n",
              " (0.004948511836087044, 'Exterior2nd_VinylSd'),\n",
              " (0.004880480943518616, 'KitchenQual_TA'),\n",
              " (0.004671329792397553, 'SaleType_WD'),\n",
              " (0.00463404441490288, 'HouseStyle_2Story'),\n",
              " (0.004577914461673407, 'Condition1_Norm'),\n",
              " (0.004513251216759102, 'Exterior2nd_MetalSd'),\n",
              " (0.004425287823061611, 'Foundation_CBlock'),\n",
              " (0.00442165312104197, 'GarageType_Detchd'),\n",
              " (0.0043904951299098575, 'MSZoning_RL'),\n",
              " (0.0043174639328854405, 'Exterior1st_MetalSd'),\n",
              " (0.004302077976354963, 'Exterior2nd_HdBoard'),\n",
              " (0.004207432921134225, 'BsmtCond_TA'),\n",
              " (0.004150195330601575, 'ExterCond_TA'),\n",
              " (0.004099363643947545, 'ExterQual_Gd'),\n",
              " (0.004084853222694763, 'Exterior1st_HdBoard'),\n",
              " (0.00405959672972969, 'Fence_MnPrv'),\n",
              " (0.003983263538812399, 'ExterQual_TA'),\n",
              " (0.0039518566286669155, 'Foundation_PConc'),\n",
              " (0.003950946769807503, 'Exterior2nd_Wd Sdng'),\n",
              " (0.0039318389949687775, 'BsmtExposure_Mn'),\n",
              " (0.0038929355214356136, 'Neighborhood_NAmes'),\n",
              " (0.003799751791857598, 'BsmtFinType1_BLQ'),\n",
              " (0.0037676245207371515, 'LandContour_Lvl'),\n",
              " (0.003706764099649814, 'MasVnrType_Stone'),\n",
              " (0.0036692845295786813, 'BsmtFinType2_Unf'),\n",
              " (0.0036445638496867185, 'BsmtQual_TA'),\n",
              " (0.0035862078214436294, 'Exterior1st_Wd Sdng'),\n",
              " (0.0035813742525153446, 'ExterCond_Gd'),\n",
              " (0.0035056665152914733, 'BsmtFinType1_Rec'),\n",
              " (0.003467869052605196, 'MSZoning_RM'),\n",
              " (0.0033757983426702777, 'BsmtExposure_Gd'),\n",
              " (0.0031485826439374503, 'Electrical_SBrkr'),\n",
              " (0.003108927414510736, 'SaleCondition_Partial'),\n",
              " (0.003069151915899691, 'Neighborhood_Edwards'),\n",
              " (0.0029858829494469313, 'BsmtCond_Gd'),\n",
              " (0.002946518774126173, 'Exterior2nd_Plywood'),\n",
              " (0.0029176088786801928, 'BsmtHalfBath'),\n",
              " (0.0029112506733971503, 'SaleType_New'),\n",
              " (0.002778546384978145, 'Functional_Typ'),\n",
              " (0.002760535088056995, 'BldgType_TwnhsE'),\n",
              " (0.0027230341056248162, 'BsmtFinType1_LwQ'),\n",
              " (0.0026601062907779423, 'Neighborhood_Somerst'),\n",
              " (0.0025700440273892346, 'Neighborhood_NridgHt'),\n",
              " (0.00256784056957991, '3SsnPorch'),\n",
              " (0.002563101471656063, 'Neighborhood_SawyerW'),\n",
              " (0.002500743887839592, 'Exterior1st_Plywood'),\n",
              " (0.002497785332195511, 'LotConfig_CulDSac'),\n",
              " (0.00248088339332119, 'Fence_GdWo'),\n",
              " (0.002452031645019785, 'Condition1_Feedr'),\n",
              " (0.002435046272314905, 'Neighborhood_OldTown'),\n",
              " (0.002376453413382461, 'Neighborhood_Sawyer'),\n",
              " (0.0023718796252696593, 'LandContour_HLS'),\n",
              " (0.0023676491144399396, 'MiscVal'),\n",
              " (0.0023447745879251218, 'GarageType_BuiltIn'),\n",
              " (0.0023353947355708384, 'Neighborhood_Gilbert'),\n",
              " (0.002221685453955656, 'PavedDrive_Y'),\n",
              " (0.002214824403556706, 'Neighborhood_Crawfor'),\n",
              " (0.002197796990844318, 'LotConfig_FR2'),\n",
              " (0.0021697556089703075, 'Neighborhood_Timber'),\n",
              " (0.0021448946480224066, 'GarageQual_TA'),\n",
              " (0.0021277788331273252, 'Exterior2nd_CmentBd'),\n",
              " (0.0020838918652162468, 'LandSlope_Mod'),\n",
              " (0.0020649967029897397, 'FireplaceQu_Fa'),\n",
              " (0.002055612607193137, 'HouseStyle_SLvl'),\n",
              " (0.002034874146026844, 'Neighborhood_Mitchel'),\n",
              " (0.0019862341258347392, 'Neighborhood_NWAmes'),\n",
              " (0.001964870305057737, 'Exterior1st_BrkFace'),\n",
              " (0.0019254810340666106, 'Condition1_RRAn'),\n",
              " (0.0019170187363965463, 'Exterior1st_CemntBd'),\n",
              " (0.0019066156343909943, 'BsmtFinType2_Rec'),\n",
              " (0.0019049970232046097, 'MSZoning_FV'),\n",
              " (0.001904155759972544, 'BsmtFinType2_LwQ'),\n",
              " (0.0018563448257111798, 'Exterior2nd_Wd Shng'),\n",
              " (0.0018235399416659268, 'BsmtFinType2_BLQ'),\n",
              " (0.0018029786910968074, 'Alley_Pave'),\n",
              " (0.0017667844270393424, 'CentralAir_Y'),\n",
              " (0.0017523647165001103, 'HeatingQC_Fa'),\n",
              " (0.001750458444713568, 'GarageQual_Fa'),\n",
              " (0.0017298809576048624, 'Neighborhood_BrkSide'),\n",
              " (0.0017189142693239726, 'MiscFeature_Shed'),\n",
              " (0.001667403741621275, 'Exterior1st_WdShing'),\n",
              " (0.0016530965916908733, 'LowQualFinSF'),\n",
              " (0.0016384525432647694, 'BldgType_Twnhs'),\n",
              " (0.001629093797012939, 'Neighborhood_NoRidge'),\n",
              " (0.0015564756724068811, 'GarageCond_TA'),\n",
              " (0.0015435507274877988, 'LotShape_IR2'),\n",
              " (0.0015379081269745812, 'HouseStyle_SFoyer'),\n",
              " (0.0014672287593756408, 'Functional_Min1'),\n",
              " (0.001456042073878328, 'KitchenAbvGr'),\n",
              " (0.0014444676468908604, 'GarageCond_Fa'),\n",
              " (0.0014329326778349544, 'Exterior2nd_BrkFace'),\n",
              " (0.0014172167089320758, 'BsmtQual_Fa'),\n",
              " (0.001393066700376825, 'Functional_Min2'),\n",
              " (0.0013075126510109078, 'Neighborhood_IDOTRR'),\n",
              " (0.0012933594659620506, 'SaleCondition_Family'),\n",
              " (0.0012131889757562824, 'BldgType_Duplex'),\n",
              " (0.0011412034460975815, 'Heating_GasA'),\n",
              " (0.001131841211610034, 'PavedDrive_P'),\n",
              " (0.001107789348615228, 'KitchenQual_Fa'),\n",
              " (0.001103450611357075, 'Electrical_FuseF'),\n",
              " (0.0010878769835752946, 'Neighborhood_StoneBr'),\n",
              " (0.001078393374221097, 'Condition1_PosN'),\n",
              " (0.0010646180878182171, 'MSZoning_RH'),\n",
              " (0.00104575892478459, 'Exterior1st_Stucco'),\n",
              " (0.0010355797351577955, 'Exterior2nd_ImStucc'),\n",
              " (0.0010311291200836908, 'ExterCond_Fa'),\n",
              " (0.0010177126231470915, 'Exterior2nd_Stucco'),\n",
              " (0.001012418169310876, 'FireplaceQu_Po'),\n",
              " (0.0009887038772238956, 'Neighborhood_ClearCr'),\n",
              " (0.0009710497081172555, 'GarageType_Basment'),\n",
              " (0.0009478963713569275, 'LandContour_Low'),\n",
              " (0.0009221305857899191, 'BldgType_2fmCon'),\n",
              " (0.0009091469747939231, 'Neighborhood_SWISU'),\n",
              " (0.0009018146729530315, 'Condition1_RRAe'),\n",
              " (0.0008922258462143187, 'BsmtFinType2_GLQ'),\n",
              " (0.0008602349487289325, 'Heating_GasW'),\n",
              " (0.0008532444870742305, 'GarageQual_Gd'),\n",
              " (0.0007970752333299929, 'RoofStyle_Gambrel'),\n",
              " (0.0007951761244754435, 'SaleType_ConLw'),\n",
              " (0.0007817715901846501, 'Functional_Mod'),\n",
              " (0.0007751496249594915, 'HouseStyle_1.5Unf'),\n",
              " (0.0007723994692892782, 'Foundation_Slab'),\n",
              " (0.0007567518261534745, 'Fence_MnWw'),\n",
              " (0.0007411730048357818, 'SaleCondition_Alloca'),\n",
              " (0.0007325875318176057, 'RoofMatl_CompShg'),\n",
              " (0.0007071079520568734, 'Condition2_Norm'),\n",
              " (0.0006770723831338443, 'HouseStyle_2.5Unf'),\n",
              " (0.0006731005447580477, 'LotShape_IR3'),\n",
              " (0.0006707631495610777, 'Neighborhood_NPkVill'),\n",
              " (0.000619695002206766, 'RoofMatl_WdShngl'),\n",
              " (0.0006171106663459384, 'Foundation_Stone'),\n",
              " (0.0006092469515041983, 'Exterior2nd_Brk Cmn'),\n",
              " (0.000607208739558258, 'Neighborhood_BrDale'),\n",
              " (0.0005864265809580444, 'GarageType_CarPort'),\n",
              " (0.0005474537289843346, 'SaleType_CWD'),\n",
              " (0.0005142284506520838, 'Neighborhood_Veenker'),\n",
              " (0.0004982474662334072, 'SaleType_ConLI'),\n",
              " (0.0004963489604655071, 'SaleType_ConLD'),\n",
              " (0.0004950051929187178, 'GarageCond_Gd'),\n",
              " (0.0004892418454166251, 'Neighborhood_MeadowV'),\n",
              " (0.000481494364804173, 'HouseStyle_2.5Fin'),\n",
              " (0.0004755579016995723, 'LotConfig_FR3'),\n",
              " (0.00047502614416094916, 'RoofStyle_Mansard'),\n",
              " (0.00047259709588360504, 'PoolArea'),\n",
              " (0.0004417177911385656, 'Condition1_PosA'),\n",
              " (0.00044057614586383466, 'LandSlope_Sev'),\n",
              " (0.00042043493533622906, 'Condition2_Feedr'),\n",
              " (0.0004086251350708717, 'Exterior2nd_Stone'),\n",
              " (0.0004080100588330177, 'GarageCond_Po'),\n",
              " (0.00039220153527475926, 'Street_Pave'),\n",
              " (0.00038191635266447796, 'RoofMatl_Tar&Grv'),\n",
              " (0.0003794080043808937, 'ExterQual_Fa'),\n",
              " (0.0003626961466331456, 'Condition1_RRNn'),\n",
              " (0.0003273382473536625, 'GarageQual_Po'),\n",
              " (0.00031952955137679436, 'Functional_Maj2'),\n",
              " (0.0002876242851241528, 'Heating_Grav'),\n",
              " (0.00027071125211415993, 'SaleCondition_AdjLand'),\n",
              " (0.00026770100033871735, 'Condition1_RRNe'),\n",
              " (0.0002615727600657652, 'Foundation_Wood'),\n",
              " (0.00026138263598399545, 'SaleType_Con'),\n",
              " (0.0002490675088051688, 'Electrical_FuseP'),\n",
              " (0.0002479917585633526, 'Exterior2nd_AsphShn'),\n",
              " (0.00024222241685394302, 'Neighborhood_Blueste'),\n",
              " (0.00023607609788089994, 'Heating_Wall'),\n",
              " (0.00022846974939797155, 'Condition2_RRNn'),\n",
              " (0.0002254553206931583, 'Exterior2nd_Other'),\n",
              " (0.0002194300664918938, 'Exterior1st_CBlock'),\n",
              " (0.00020698636244976566, 'PoolQC_Gd'),\n",
              " (0.00019432433671079792, 'SaleType_Oth'),\n",
              " (0.00018571765650541263, 'PoolQC_Fa'),\n",
              " (0.00018330657661617608, 'RoofMatl_Roll'),\n",
              " (0.0001764289022170188, 'Electrical_Mix'),\n",
              " (0.00016381843919516112, 'RoofMatl_WdShake'),\n",
              " (0.00015206493836489855, 'Exterior1st_BrkComm'),\n",
              " (0.00014637155723980412, 'Exterior1st_Stone'),\n",
              " (0.00014175831285089896, 'HeatingQC_Po'),\n",
              " (0.00013945581015087328, 'Condition2_PosN'),\n",
              " (0.00012952749903831528, 'MiscFeature_Othr'),\n",
              " (0.00011749424046756357, 'Condition2_PosA'),\n",
              " (0.00010790910881263439, 'Exterior2nd_CBlock'),\n",
              " (0.00010677273128858061, 'Exterior1st_ImStucc'),\n",
              " (9.944984847893272e-05, 'Heating_OthW'),\n",
              " (8.417858047415117e-05, 'BsmtCond_Po'),\n",
              " (6.439200926885611e-05, 'RoofMatl_Membran'),\n",
              " (6.329387732167453e-05, 'MiscFeature_TenC'),\n",
              " (0.0, 'Utilities_NoSeWa'),\n",
              " (0.0, 'RoofStyle_Shed'),\n",
              " (0.0, 'RoofMatl_Metal'),\n",
              " (0.0, 'Functional_Sev'),\n",
              " (0.0, 'Exterior1st_AsphShn'),\n",
              " (0.0, 'ExterCond_Po'),\n",
              " (0.0, 'Condition2_RRAn'),\n",
              " (0.0, 'Condition2_RRAe')]"
            ]
          },
          "metadata": {
            "tags": []
          },
          "execution_count": 9
        }
      ]
    },
    {
      "cell_type": "markdown",
      "metadata": {
        "id": "ha9FQuSGq6Qp"
      },
      "source": [
        ""
      ]
    }
  ]
}