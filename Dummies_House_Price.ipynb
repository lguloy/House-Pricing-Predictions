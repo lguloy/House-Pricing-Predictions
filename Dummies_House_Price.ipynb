{
  "nbformat": 4,
  "nbformat_minor": 0,
  "metadata": {
    "colab": {
      "name": "Untitled3.ipynb",
      "provenance": [],
      "authorship_tag": "ABX9TyOhFwNSw4kvp6B6tKV7+XF+",
      "include_colab_link": true
    },
    "kernelspec": {
      "name": "python3",
      "display_name": "Python 3"
    },
    "language_info": {
      "name": "python"
    }
  },
  "cells": [
    {
      "cell_type": "markdown",
      "metadata": {
        "id": "view-in-github",
        "colab_type": "text"
      },
      "source": [
        "<a href=\"https://colab.research.google.com/github/lguloy/House-Pricing-Predictions/blob/House_Price_ML_CCG/Dummies_House_Price.ipynb\" target=\"_parent\"><img src=\"https://colab.research.google.com/assets/colab-badge.svg\" alt=\"Open In Colab\"/></a>"
      ]
    },
    {
      "cell_type": "code",
      "metadata": {
        "colab": {
          "base_uri": "https://localhost:8080/"
        },
        "id": "NSkkWNzXSTTq",
        "outputId": "892ec51d-21c9-4c5c-9eb8-86ed6e1cbc2c"
      },
      "source": [
        "import os\n",
        "# Find the latest version of spark 3.0  from http://www-us.apache.org/dist/spark/ and enter as the spark version\n",
        "# For example:\n",
        "spark_version = 'spark-3.0.3'\n",
        "# spark_version = 'spark-3.<enter version>'\n",
        "os.environ['SPARK_VERSION']=spark_version\n",
        "\n",
        "# Install Spark and Java\n",
        "!apt-get update\n",
        "!apt-get install openjdk-11-jdk-headless -qq > /dev/null\n",
        "!wget -q http://www-us.apache.org/dist/spark/$SPARK_VERSION/$SPARK_VERSION-bin-hadoop2.7.tgz\n",
        "!tar xf $SPARK_VERSION-bin-hadoop2.7.tgz\n",
        "!pip install -q findspark\n",
        "\n",
        "# Set Environment Variables\n",
        "os.environ[\"JAVA_HOME\"] = \"/usr/lib/jvm/java-11-openjdk-amd64\"\n",
        "os.environ[\"SPARK_HOME\"] = f\"/content/{spark_version}-bin-hadoop2.7\"\n",
        "\n",
        "# Start a SparkSession\n",
        "import findspark\n",
        "findspark.init()"
      ],
      "execution_count": 1,
      "outputs": [
        {
          "output_type": "stream",
          "text": [
            "\r0% [Working]\r            \rGet:1 http://security.ubuntu.com/ubuntu bionic-security InRelease [88.7 kB]\n",
            "\r0% [Connecting to archive.ubuntu.com (91.189.88.152)] [1 InRelease 14.2 kB/88.7\r0% [Waiting for headers] [Waiting for headers] [Waiting for headers] [Waiting f\r                                                                               \rIgn:2 https://developer.download.nvidia.com/compute/cuda/repos/ubuntu1804/x86_64  InRelease\n",
            "Get:3 https://cloud.r-project.org/bin/linux/ubuntu bionic-cran40/ InRelease [3,626 B]\n",
            "Ign:4 https://developer.download.nvidia.com/compute/machine-learning/repos/ubuntu1804/x86_64  InRelease\n",
            "Get:5 http://ppa.launchpad.net/c2d4u.team/c2d4u4.0+/ubuntu bionic InRelease [15.9 kB]\n",
            "Get:6 https://developer.download.nvidia.com/compute/cuda/repos/ubuntu1804/x86_64  Release [697 B]\n",
            "Hit:7 https://developer.download.nvidia.com/compute/machine-learning/repos/ubuntu1804/x86_64  Release\n",
            "Hit:8 http://archive.ubuntu.com/ubuntu bionic InRelease\n",
            "Get:9 https://developer.download.nvidia.com/compute/cuda/repos/ubuntu1804/x86_64  Release.gpg [836 B]\n",
            "Get:10 http://archive.ubuntu.com/ubuntu bionic-updates InRelease [88.7 kB]\n",
            "Hit:11 http://ppa.launchpad.net/cran/libgit2/ubuntu bionic InRelease\n",
            "Get:12 http://security.ubuntu.com/ubuntu bionic-security/universe amd64 Packages [1,418 kB]\n",
            "Get:13 http://security.ubuntu.com/ubuntu bionic-security/main amd64 Packages [2,221 kB]\n",
            "Get:14 http://archive.ubuntu.com/ubuntu bionic-backports InRelease [74.6 kB]\n",
            "Get:15 http://ppa.launchpad.net/deadsnakes/ppa/ubuntu bionic InRelease [15.9 kB]\n",
            "Get:16 http://security.ubuntu.com/ubuntu bionic-security/restricted amd64 Packages [473 kB]\n",
            "Get:17 http://ppa.launchpad.net/graphics-drivers/ppa/ubuntu bionic InRelease [21.3 kB]\n",
            "Ign:19 https://developer.download.nvidia.com/compute/cuda/repos/ubuntu1804/x86_64  Packages\n",
            "Get:19 https://developer.download.nvidia.com/compute/cuda/repos/ubuntu1804/x86_64  Packages [634 kB]\n",
            "Get:20 http://ppa.launchpad.net/c2d4u.team/c2d4u4.0+/ubuntu bionic/main Sources [1,777 kB]\n",
            "Get:21 http://archive.ubuntu.com/ubuntu bionic-updates/universe amd64 Packages [2,188 kB]\n",
            "Get:22 http://ppa.launchpad.net/c2d4u.team/c2d4u4.0+/ubuntu bionic/main amd64 Packages [909 kB]\n",
            "Get:23 http://archive.ubuntu.com/ubuntu bionic-updates/main amd64 Packages [2,656 kB]\n",
            "Get:24 http://archive.ubuntu.com/ubuntu bionic-updates/restricted amd64 Packages [506 kB]\n",
            "Get:25 http://ppa.launchpad.net/deadsnakes/ppa/ubuntu bionic/main amd64 Packages [40.9 kB]\n",
            "Get:26 http://ppa.launchpad.net/graphics-drivers/ppa/ubuntu bionic/main amd64 Packages [41.5 kB]\n",
            "Fetched 13.2 MB in 4s (3,183 kB/s)\n",
            "Reading package lists... Done\n"
          ],
          "name": "stdout"
        }
      ]
    },
    {
      "cell_type": "code",
      "metadata": {
        "id": "oGVWlqSeSXXC"
      },
      "source": [
        "from pyspark.sql import SparkSession\n",
        "spark = SparkSession.builder.appName(\"CloudETL\").config(\"spark.driver.extraClassPath\",\"/content/postgresql-42.2.9.jar\").getOrCreate()"
      ],
      "execution_count": 3,
      "outputs": []
    },
    {
      "cell_type": "code",
      "metadata": {
        "colab": {
          "base_uri": "https://localhost:8080/"
        },
        "id": "7XlWn8gISegT",
        "outputId": "1b04d76e-b601-47b2-ba65-e4a307e1dd1b"
      },
      "source": [
        "\n",
        "from pyspark import SparkFiles\n",
        "# Load in train.csv from S3 into a DataFrame\n",
        "url = \"https://finalprojectbootcamp.s3.us-east-2.amazonaws.com/all_dumimies_converted_df.csv\"\n",
        "spark.sparkContext.addFile(url)\n",
        "\n",
        "df = spark.read.option('header', 'true').csv(SparkFiles.get(\"all_dumimies_converted_df.csv\"), inferSchema=True, sep=',', timestampFormat=\"mm/dd/yy\")\n",
        "df.show(10)\n",
        "\n",
        "#Convert to Pandas to allow train_test_split usage\n",
        "df = df.select(\"*\").toPandas()\n",
        "df = df.dropna(how=\"any\")"
      ],
      "execution_count": 4,
      "outputs": [
        {
          "output_type": "stream",
          "text": [
            "+---+----------+-----------+-------+-----------+-----------+---------+------------+----------+----------+----------+---------+-----------+--------+--------+------------+---------+------------+------------+--------+--------+------------+------------+------------+----------+-----------+----------+----------+----------+-----------+-------------+---------+-----------+--------+-------+------+------+---------+-----------+-----------+-----------+-----------+-----------+----------+------------+------------+------------+---------------+---------------+---------------+----------------+-----------------+-------------+-------------+----------------+-------------+-------------+--------------------+-------------------+--------------------+--------------------+--------------------+--------------------+--------------------+--------------------+-------------------+--------------------+--------------------+------------------+--------------------+-------------------+--------------------+--------------------+--------------------+------------------+-------------------+--------------------+--------------------+--------------------+-------------------+--------------------+----------------+---------------+---------------+---------------+---------------+---------------+---------------+---------------+----------------+---------------+---------------+---------------+---------------+---------------+---------------+---------------+---------------+--------------+---------------+-----------------+-----------------+-----------------+-----------------+-----------------+-----------------+---------------+---------------+-----------------+-------------+-----------------+--------------+----------------+----------------+--------------+-------------+----------------+----------------+----------------+-------------------+-------------------+-------------------+------------------+-------------------+-------------------+-------------------+-------------------+-------------------+-----------------+------------------+-------------------+-------------------+-------------------+-------------------+-------------------+-------------------+------------------+-------------------+-------------------+-------------------+-------------------+-----------------+-------------------+-----------------+------------------+-------------------+-------------------+-------------------+------------------+---------------+----------------+-----------------+----------------+---------------+----------------+---------------+------------+------------+------------+------------+------------+------------+----------------+----------------+--------------+----------------+-----------------+------------------+------------------+------------------+-----------------+------------+------------+----------------+----------------+----------------+------------+------------+--------------+--------------+--------------+------------+------------+-----------+---------------------+--------------------+--------------------+--------------------+---------------------+------------+------------+------------+------------+------------+------------+------------+-----------+-----------+-----------+-----------+-----------+-----------+---------------+---------------+---------------+----------------+----------------+----------------+----------------+----------------+----------------+----------------+----------------+----------------+----------------+------------+------------+------------+------------+--------------+--------------+--------------+---------------+---------------+---------------+--------------+--------------+--------------+--------------+--------------+--------------+--------------+----------------+----------------+-------------+-------------+-------------+-------------+-------------+-------------+-------------+-------------+---------+---------+----------+-----------+----------+\n",
            "| Id|MSSubClass|LotFrontage|LotArea|OverallQual|OverallCond|YearBuilt|YearRemodAdd|MasVnrArea|BsmtFinSF1|BsmtFinSF2|BsmtUnfSF|TotalBsmtSF|1stFlrSF|2ndFlrSF|LowQualFinSF|GrLivArea|BsmtFullBath|BsmtHalfBath|FullBath|HalfBath|BedroomAbvGr|KitchenAbvGr|TotRmsAbvGrd|Fireplaces|GarageYrBlt|GarageCars|GarageArea|WoodDeckSF|OpenPorchSF|EnclosedPorch|3SsnPorch|ScreenPorch|PoolArea|MiscVal|MoSold|YrSold|SalePrice|MSZoning_FV|MSZoning_RH|MSZoning_RL|MSZoning_RM|Street_Pave|Alley_Pave|LotShape_IR2|LotShape_IR3|LotShape_Reg|LandContour_HLS|LandContour_Low|LandContour_Lvl|Utilities_NoSeWa|LotConfig_CulDSac|LotConfig_FR2|LotConfig_FR3|LotConfig_Inside|LandSlope_Mod|LandSlope_Sev|Neighborhood_Blueste|Neighborhood_BrDale|Neighborhood_BrkSide|Neighborhood_ClearCr|Neighborhood_CollgCr|Neighborhood_Crawfor|Neighborhood_Edwards|Neighborhood_Gilbert|Neighborhood_IDOTRR|Neighborhood_MeadowV|Neighborhood_Mitchel|Neighborhood_NAmes|Neighborhood_NPkVill|Neighborhood_NWAmes|Neighborhood_NoRidge|Neighborhood_NridgHt|Neighborhood_OldTown|Neighborhood_SWISU|Neighborhood_Sawyer|Neighborhood_SawyerW|Neighborhood_Somerst|Neighborhood_StoneBr|Neighborhood_Timber|Neighborhood_Veenker|Condition1_Feedr|Condition1_Norm|Condition1_PosA|Condition1_PosN|Condition1_RRAe|Condition1_RRAn|Condition1_RRNe|Condition1_RRNn|Condition2_Feedr|Condition2_Norm|Condition2_PosA|Condition2_PosN|Condition2_RRAe|Condition2_RRAn|Condition2_RRNn|BldgType_2fmCon|BldgType_Duplex|BldgType_Twnhs|BldgType_TwnhsE|HouseStyle_1.5Unf|HouseStyle_1Story|HouseStyle_2.5Fin|HouseStyle_2.5Unf|HouseStyle_2Story|HouseStyle_SFoyer|HouseStyle_SLvl|RoofStyle_Gable|RoofStyle_Gambrel|RoofStyle_Hip|RoofStyle_Mansard|RoofStyle_Shed|RoofMatl_CompShg|RoofMatl_Membran|RoofMatl_Metal|RoofMatl_Roll|RoofMatl_Tar&Grv|RoofMatl_WdShake|RoofMatl_WdShngl|Exterior1st_AsphShn|Exterior1st_BrkComm|Exterior1st_BrkFace|Exterior1st_CBlock|Exterior1st_CemntBd|Exterior1st_HdBoard|Exterior1st_ImStucc|Exterior1st_MetalSd|Exterior1st_Plywood|Exterior1st_Stone|Exterior1st_Stucco|Exterior1st_VinylSd|Exterior1st_Wd Sdng|Exterior1st_WdShing|Exterior2nd_AsphShn|Exterior2nd_Brk Cmn|Exterior2nd_BrkFace|Exterior2nd_CBlock|Exterior2nd_CmentBd|Exterior2nd_HdBoard|Exterior2nd_ImStucc|Exterior2nd_MetalSd|Exterior2nd_Other|Exterior2nd_Plywood|Exterior2nd_Stone|Exterior2nd_Stucco|Exterior2nd_VinylSd|Exterior2nd_Wd Sdng|Exterior2nd_Wd Shng|MasVnrType_BrkFace|MasVnrType_None|MasVnrType_Stone|Foundation_CBlock|Foundation_PConc|Foundation_Slab|Foundation_Stone|Foundation_Wood|Heating_GasA|Heating_GasW|Heating_Grav|Heating_OthW|Heating_Wall|CentralAir_Y|Electrical_FuseF|Electrical_FuseP|Electrical_Mix|Electrical_SBrkr|GarageType_Attchd|GarageType_Basment|GarageType_BuiltIn|GarageType_CarPort|GarageType_Detchd|PavedDrive_P|PavedDrive_Y|MiscFeature_Othr|MiscFeature_Shed|MiscFeature_TenC|SaleType_CWD|SaleType_Con|SaleType_ConLD|SaleType_ConLI|SaleType_ConLw|SaleType_New|SaleType_Oth|SaleType_WD|SaleCondition_AdjLand|SaleCondition_Alloca|SaleCondition_Family|SaleCondition_Normal|SaleCondition_Partial|ExterQual_Fa|ExterQual_Gd|ExterQual_TA|ExterCond_Fa|ExterCond_Gd|ExterCond_Po|ExterCond_TA|BsmtQual_Fa|BsmtQual_Gd|BsmtQual_TA|BsmtCond_Gd|BsmtCond_Po|BsmtCond_TA|BsmtExposure_Gd|BsmtExposure_Mn|BsmtExposure_No|BsmtFinType1_BLQ|BsmtFinType1_GLQ|BsmtFinType1_LwQ|BsmtFinType1_Rec|BsmtFinType1_Unf|BsmtFinType2_BLQ|BsmtFinType2_GLQ|BsmtFinType2_LwQ|BsmtFinType2_Rec|BsmtFinType2_Unf|HeatingQC_Fa|HeatingQC_Gd|HeatingQC_Po|HeatingQC_TA|KitchenQual_Fa|KitchenQual_Gd|KitchenQual_TA|Functional_Maj2|Functional_Min1|Functional_Min2|Functional_Mod|Functional_Sev|Functional_Typ|FireplaceQu_Fa|FireplaceQu_Gd|FireplaceQu_Po|FireplaceQu_TA|GarageFinish_RFn|GarageFinish_Unf|GarageQual_Fa|GarageQual_Gd|GarageQual_Po|GarageQual_TA|GarageCond_Fa|GarageCond_Gd|GarageCond_Po|GarageCond_TA|PoolQC_Fa|PoolQC_Gd|Fence_GdWo|Fence_MnPrv|Fence_MnWw|\n",
            "+---+----------+-----------+-------+-----------+-----------+---------+------------+----------+----------+----------+---------+-----------+--------+--------+------------+---------+------------+------------+--------+--------+------------+------------+------------+----------+-----------+----------+----------+----------+-----------+-------------+---------+-----------+--------+-------+------+------+---------+-----------+-----------+-----------+-----------+-----------+----------+------------+------------+------------+---------------+---------------+---------------+----------------+-----------------+-------------+-------------+----------------+-------------+-------------+--------------------+-------------------+--------------------+--------------------+--------------------+--------------------+--------------------+--------------------+-------------------+--------------------+--------------------+------------------+--------------------+-------------------+--------------------+--------------------+--------------------+------------------+-------------------+--------------------+--------------------+--------------------+-------------------+--------------------+----------------+---------------+---------------+---------------+---------------+---------------+---------------+---------------+----------------+---------------+---------------+---------------+---------------+---------------+---------------+---------------+---------------+--------------+---------------+-----------------+-----------------+-----------------+-----------------+-----------------+-----------------+---------------+---------------+-----------------+-------------+-----------------+--------------+----------------+----------------+--------------+-------------+----------------+----------------+----------------+-------------------+-------------------+-------------------+------------------+-------------------+-------------------+-------------------+-------------------+-------------------+-----------------+------------------+-------------------+-------------------+-------------------+-------------------+-------------------+-------------------+------------------+-------------------+-------------------+-------------------+-------------------+-----------------+-------------------+-----------------+------------------+-------------------+-------------------+-------------------+------------------+---------------+----------------+-----------------+----------------+---------------+----------------+---------------+------------+------------+------------+------------+------------+------------+----------------+----------------+--------------+----------------+-----------------+------------------+------------------+------------------+-----------------+------------+------------+----------------+----------------+----------------+------------+------------+--------------+--------------+--------------+------------+------------+-----------+---------------------+--------------------+--------------------+--------------------+---------------------+------------+------------+------------+------------+------------+------------+------------+-----------+-----------+-----------+-----------+-----------+-----------+---------------+---------------+---------------+----------------+----------------+----------------+----------------+----------------+----------------+----------------+----------------+----------------+----------------+------------+------------+------------+------------+--------------+--------------+--------------+---------------+---------------+---------------+--------------+--------------+--------------+--------------+--------------+--------------+--------------+----------------+----------------+-------------+-------------+-------------+-------------+-------------+-------------+-------------+-------------+---------+---------+----------+-----------+----------+\n",
            "|  1|        60|       65.0|   8450|          7|          5|     2003|        2003|     196.0|       706|         0|      150|        856|     856|     854|           0|     1710|           1|           0|       2|       1|           3|           1|           8|         0|     2003.0|         2|       548|         0|         61|            0|        0|          0|       0|      0|     2|  2008|   208500|          0|          0|          1|          0|          1|         0|           0|           0|           1|              0|              0|              1|               0|                0|            0|            0|               1|            0|            0|                   0|                  0|                   0|                   0|                   1|                   0|                   0|                   0|                  0|                   0|                   0|                 0|                   0|                  0|                   0|                   0|                   0|                 0|                  0|                   0|                   0|                   0|                  0|                   0|               0|              1|              0|              0|              0|              0|              0|              0|               0|              1|              0|              0|              0|              0|              0|              0|              0|             0|              0|                0|                0|                0|                0|                1|                0|              0|              1|                0|            0|                0|             0|               1|               0|             0|            0|               0|               0|               0|                  0|                  0|                  0|                 0|                  0|                  0|                  0|                  0|                  0|                0|                 0|                  1|                  0|                  0|                  0|                  0|                  0|                 0|                  0|                  0|                  0|                  0|                0|                  0|                0|                 0|                  1|                  0|                  0|                 1|              0|               0|                0|               1|              0|               0|              0|           1|           0|           0|           0|           0|           1|               0|               0|             0|               1|                1|                 0|                 0|                 0|                0|           0|           1|               0|               0|               0|           0|           0|             0|             0|             0|           0|           0|          1|                    0|                   0|                   0|                   1|                    0|           0|           1|           0|           0|           0|           0|           1|          0|          1|          0|          0|          0|          1|              0|              0|              1|               0|               1|               0|               0|               0|               0|               0|               0|               0|               1|           0|           0|           0|           0|             0|             1|             0|              0|              0|              0|             0|             0|             1|             0|             0|             0|             0|               1|               0|            0|            0|            0|            1|            0|            0|            0|            1|        0|        0|         0|          0|         0|\n",
            "|  2|        20|       80.0|   9600|          6|          8|     1976|        1976|       0.0|       978|         0|      284|       1262|    1262|       0|           0|     1262|           0|           1|       2|       0|           3|           1|           6|         1|     1976.0|         2|       460|       298|          0|            0|        0|          0|       0|      0|     5|  2007|   181500|          0|          0|          1|          0|          1|         0|           0|           0|           1|              0|              0|              1|               0|                0|            1|            0|               0|            0|            0|                   0|                  0|                   0|                   0|                   0|                   0|                   0|                   0|                  0|                   0|                   0|                 0|                   0|                  0|                   0|                   0|                   0|                 0|                  0|                   0|                   0|                   0|                  0|                   1|               1|              0|              0|              0|              0|              0|              0|              0|               0|              1|              0|              0|              0|              0|              0|              0|              0|             0|              0|                0|                1|                0|                0|                0|                0|              0|              1|                0|            0|                0|             0|               1|               0|             0|            0|               0|               0|               0|                  0|                  0|                  0|                 0|                  0|                  0|                  0|                  1|                  0|                0|                 0|                  0|                  0|                  0|                  0|                  0|                  0|                 0|                  0|                  0|                  0|                  1|                0|                  0|                0|                 0|                  0|                  0|                  0|                 0|              1|               0|                1|               0|              0|               0|              0|           1|           0|           0|           0|           0|           1|               0|               0|             0|               1|                1|                 0|                 0|                 0|                0|           0|           1|               0|               0|               0|           0|           0|             0|             0|             0|           0|           0|          1|                    0|                   0|                   0|                   1|                    0|           0|           0|           1|           0|           0|           0|           1|          0|          1|          0|          0|          0|          1|              1|              0|              0|               0|               0|               0|               0|               0|               0|               0|               0|               0|               1|           0|           0|           0|           0|             0|             0|             1|              0|              0|              0|             0|             0|             1|             0|             0|             0|             1|               1|               0|            0|            0|            0|            1|            0|            0|            0|            1|        0|        0|         0|          0|         0|\n",
            "|  3|        60|       68.0|  11250|          7|          5|     2001|        2002|     162.0|       486|         0|      434|        920|     920|     866|           0|     1786|           1|           0|       2|       1|           3|           1|           6|         1|     2001.0|         2|       608|         0|         42|            0|        0|          0|       0|      0|     9|  2008|   223500|          0|          0|          1|          0|          1|         0|           0|           0|           0|              0|              0|              1|               0|                0|            0|            0|               1|            0|            0|                   0|                  0|                   0|                   0|                   1|                   0|                   0|                   0|                  0|                   0|                   0|                 0|                   0|                  0|                   0|                   0|                   0|                 0|                  0|                   0|                   0|                   0|                  0|                   0|               0|              1|              0|              0|              0|              0|              0|              0|               0|              1|              0|              0|              0|              0|              0|              0|              0|             0|              0|                0|                0|                0|                0|                1|                0|              0|              1|                0|            0|                0|             0|               1|               0|             0|            0|               0|               0|               0|                  0|                  0|                  0|                 0|                  0|                  0|                  0|                  0|                  0|                0|                 0|                  1|                  0|                  0|                  0|                  0|                  0|                 0|                  0|                  0|                  0|                  0|                0|                  0|                0|                 0|                  1|                  0|                  0|                 1|              0|               0|                0|               1|              0|               0|              0|           1|           0|           0|           0|           0|           1|               0|               0|             0|               1|                1|                 0|                 0|                 0|                0|           0|           1|               0|               0|               0|           0|           0|             0|             0|             0|           0|           0|          1|                    0|                   0|                   0|                   1|                    0|           0|           1|           0|           0|           0|           0|           1|          0|          1|          0|          0|          0|          1|              0|              1|              0|               0|               1|               0|               0|               0|               0|               0|               0|               0|               1|           0|           0|           0|           0|             0|             1|             0|              0|              0|              0|             0|             0|             1|             0|             0|             0|             1|               1|               0|            0|            0|            0|            1|            0|            0|            0|            1|        0|        0|         0|          0|         0|\n",
            "|  4|        70|       60.0|   9550|          7|          5|     1915|        1970|       0.0|       216|         0|      540|        756|     961|     756|           0|     1717|           1|           0|       1|       0|           3|           1|           7|         1|     1998.0|         3|       642|         0|         35|          272|        0|          0|       0|      0|     2|  2006|   140000|          0|          0|          1|          0|          1|         0|           0|           0|           0|              0|              0|              1|               0|                0|            0|            0|               0|            0|            0|                   0|                  0|                   0|                   0|                   0|                   1|                   0|                   0|                  0|                   0|                   0|                 0|                   0|                  0|                   0|                   0|                   0|                 0|                  0|                   0|                   0|                   0|                  0|                   0|               0|              1|              0|              0|              0|              0|              0|              0|               0|              1|              0|              0|              0|              0|              0|              0|              0|             0|              0|                0|                0|                0|                0|                1|                0|              0|              1|                0|            0|                0|             0|               1|               0|             0|            0|               0|               0|               0|                  0|                  0|                  0|                 0|                  0|                  0|                  0|                  0|                  0|                0|                 0|                  0|                  1|                  0|                  0|                  0|                  0|                 0|                  0|                  0|                  0|                  0|                0|                  0|                0|                 0|                  0|                  0|                  1|                 0|              1|               0|                0|               0|              0|               0|              0|           1|           0|           0|           0|           0|           1|               0|               0|             0|               1|                0|                 0|                 0|                 0|                1|           0|           1|               0|               0|               0|           0|           0|             0|             0|             0|           0|           0|          1|                    0|                   0|                   0|                   0|                    0|           0|           0|           1|           0|           0|           0|           1|          0|          0|          1|          1|          0|          0|              0|              0|              1|               0|               0|               0|               0|               0|               0|               0|               0|               0|               1|           0|           1|           0|           0|             0|             1|             0|              0|              0|              0|             0|             0|             1|             0|             1|             0|             0|               0|               1|            0|            0|            0|            1|            0|            0|            0|            1|        0|        0|         0|          0|         0|\n",
            "|  5|        60|       84.0|  14260|          8|          5|     2000|        2000|     350.0|       655|         0|      490|       1145|    1145|    1053|           0|     2198|           1|           0|       2|       1|           4|           1|           9|         1|     2000.0|         3|       836|       192|         84|            0|        0|          0|       0|      0|    12|  2008|   250000|          0|          0|          1|          0|          1|         0|           0|           0|           0|              0|              0|              1|               0|                0|            1|            0|               0|            0|            0|                   0|                  0|                   0|                   0|                   0|                   0|                   0|                   0|                  0|                   0|                   0|                 0|                   0|                  0|                   1|                   0|                   0|                 0|                  0|                   0|                   0|                   0|                  0|                   0|               0|              1|              0|              0|              0|              0|              0|              0|               0|              1|              0|              0|              0|              0|              0|              0|              0|             0|              0|                0|                0|                0|                0|                1|                0|              0|              1|                0|            0|                0|             0|               1|               0|             0|            0|               0|               0|               0|                  0|                  0|                  0|                 0|                  0|                  0|                  0|                  0|                  0|                0|                 0|                  1|                  0|                  0|                  0|                  0|                  0|                 0|                  0|                  0|                  0|                  0|                0|                  0|                0|                 0|                  1|                  0|                  0|                 1|              0|               0|                0|               1|              0|               0|              0|           1|           0|           0|           0|           0|           1|               0|               0|             0|               1|                1|                 0|                 0|                 0|                0|           0|           1|               0|               0|               0|           0|           0|             0|             0|             0|           0|           0|          1|                    0|                   0|                   0|                   1|                    0|           0|           1|           0|           0|           0|           0|           1|          0|          1|          0|          0|          0|          1|              0|              0|              0|               0|               1|               0|               0|               0|               0|               0|               0|               0|               1|           0|           0|           0|           0|             0|             1|             0|              0|              0|              0|             0|             0|             1|             0|             0|             0|             1|               1|               0|            0|            0|            0|            1|            0|            0|            0|            1|        0|        0|         0|          0|         0|\n",
            "|  6|        50|       85.0|  14115|          5|          5|     1993|        1995|       0.0|       732|         0|       64|        796|     796|     566|           0|     1362|           1|           0|       1|       1|           1|           1|           5|         0|     1993.0|         2|       480|        40|         30|            0|      320|          0|       0|    700|    10|  2009|   143000|          0|          0|          1|          0|          1|         0|           0|           0|           0|              0|              0|              1|               0|                0|            0|            0|               1|            0|            0|                   0|                  0|                   0|                   0|                   0|                   0|                   0|                   0|                  0|                   0|                   1|                 0|                   0|                  0|                   0|                   0|                   0|                 0|                  0|                   0|                   0|                   0|                  0|                   0|               0|              1|              0|              0|              0|              0|              0|              0|               0|              1|              0|              0|              0|              0|              0|              0|              0|             0|              0|                0|                0|                0|                0|                0|                0|              0|              1|                0|            0|                0|             0|               1|               0|             0|            0|               0|               0|               0|                  0|                  0|                  0|                 0|                  0|                  0|                  0|                  0|                  0|                0|                 0|                  1|                  0|                  0|                  0|                  0|                  0|                 0|                  0|                  0|                  0|                  0|                0|                  0|                0|                 0|                  1|                  0|                  0|                 0|              1|               0|                0|               0|              0|               0|              1|           1|           0|           0|           0|           0|           1|               0|               0|             0|               1|                1|                 0|                 0|                 0|                0|           0|           1|               0|               1|               0|           0|           0|             0|             0|             0|           0|           0|          1|                    0|                   0|                   0|                   1|                    0|           0|           0|           1|           0|           0|           0|           1|          0|          1|          0|          0|          0|          1|              0|              0|              1|               0|               1|               0|               0|               0|               0|               0|               0|               0|               1|           0|           0|           0|           0|             0|             0|             1|              0|              0|              0|             0|             0|             1|             0|             0|             0|             0|               0|               1|            0|            0|            0|            1|            0|            0|            0|            1|        0|        0|         0|          1|         0|\n",
            "|  7|        20|       75.0|  10084|          8|          5|     2004|        2005|     186.0|      1369|         0|      317|       1686|    1694|       0|           0|     1694|           1|           0|       2|       0|           3|           1|           7|         1|     2004.0|         2|       636|       255|         57|            0|        0|          0|       0|      0|     8|  2007|   307000|          0|          0|          1|          0|          1|         0|           0|           0|           1|              0|              0|              1|               0|                0|            0|            0|               1|            0|            0|                   0|                  0|                   0|                   0|                   0|                   0|                   0|                   0|                  0|                   0|                   0|                 0|                   0|                  0|                   0|                   0|                   0|                 0|                  0|                   0|                   1|                   0|                  0|                   0|               0|              1|              0|              0|              0|              0|              0|              0|               0|              1|              0|              0|              0|              0|              0|              0|              0|             0|              0|                0|                1|                0|                0|                0|                0|              0|              1|                0|            0|                0|             0|               1|               0|             0|            0|               0|               0|               0|                  0|                  0|                  0|                 0|                  0|                  0|                  0|                  0|                  0|                0|                 0|                  1|                  0|                  0|                  0|                  0|                  0|                 0|                  0|                  0|                  0|                  0|                0|                  0|                0|                 0|                  1|                  0|                  0|                 0|              0|               1|                0|               1|              0|               0|              0|           1|           0|           0|           0|           0|           1|               0|               0|             0|               1|                1|                 0|                 0|                 0|                0|           0|           1|               0|               0|               0|           0|           0|             0|             0|             0|           0|           0|          1|                    0|                   0|                   0|                   1|                    0|           0|           1|           0|           0|           0|           0|           1|          0|          0|          0|          0|          0|          1|              0|              0|              0|               0|               1|               0|               0|               0|               0|               0|               0|               0|               1|           0|           0|           0|           0|             0|             1|             0|              0|              0|              0|             0|             0|             1|             0|             1|             0|             0|               1|               0|            0|            0|            0|            1|            0|            0|            0|            1|        0|        0|         0|          0|         0|\n",
            "|  8|        60|       null|  10382|          7|          6|     1973|        1973|     240.0|       859|        32|      216|       1107|    1107|     983|           0|     2090|           1|           0|       2|       1|           3|           1|           7|         2|     1973.0|         2|       484|       235|        204|          228|        0|          0|       0|    350|    11|  2009|   200000|          0|          0|          1|          0|          1|         0|           0|           0|           0|              0|              0|              1|               0|                0|            0|            0|               0|            0|            0|                   0|                  0|                   0|                   0|                   0|                   0|                   0|                   0|                  0|                   0|                   0|                 0|                   0|                  1|                   0|                   0|                   0|                 0|                  0|                   0|                   0|                   0|                  0|                   0|               0|              0|              0|              1|              0|              0|              0|              0|               0|              1|              0|              0|              0|              0|              0|              0|              0|             0|              0|                0|                0|                0|                0|                1|                0|              0|              1|                0|            0|                0|             0|               1|               0|             0|            0|               0|               0|               0|                  0|                  0|                  0|                 0|                  0|                  1|                  0|                  0|                  0|                0|                 0|                  0|                  0|                  0|                  0|                  0|                  0|                 0|                  0|                  1|                  0|                  0|                0|                  0|                0|                 0|                  0|                  0|                  0|                 0|              0|               1|                1|               0|              0|               0|              0|           1|           0|           0|           0|           0|           1|               0|               0|             0|               1|                1|                 0|                 0|                 0|                0|           0|           1|               0|               1|               0|           0|           0|             0|             0|             0|           0|           0|          1|                    0|                   0|                   0|                   1|                    0|           0|           0|           1|           0|           0|           0|           1|          0|          1|          0|          0|          0|          1|              0|              1|              0|               0|               0|               0|               0|               0|               1|               0|               0|               0|               0|           0|           0|           0|           0|             0|             0|             1|              0|              0|              0|             0|             0|             1|             0|             0|             0|             1|               1|               0|            0|            0|            0|            1|            0|            0|            0|            1|        0|        0|         0|          0|         0|\n",
            "|  9|        50|       51.0|   6120|          7|          5|     1931|        1950|       0.0|         0|         0|      952|        952|    1022|     752|           0|     1774|           0|           0|       2|       0|           2|           2|           8|         2|     1931.0|         2|       468|        90|          0|          205|        0|          0|       0|      0|     4|  2008|   129900|          0|          0|          0|          1|          1|         0|           0|           0|           1|              0|              0|              1|               0|                0|            0|            0|               1|            0|            0|                   0|                  0|                   0|                   0|                   0|                   0|                   0|                   0|                  0|                   0|                   0|                 0|                   0|                  0|                   0|                   0|                   1|                 0|                  0|                   0|                   0|                   0|                  0|                   0|               0|              0|              0|              0|              0|              0|              0|              0|               0|              1|              0|              0|              0|              0|              0|              0|              0|             0|              0|                0|                0|                0|                0|                0|                0|              0|              1|                0|            0|                0|             0|               1|               0|             0|            0|               0|               0|               0|                  0|                  0|                  1|                 0|                  0|                  0|                  0|                  0|                  0|                0|                 0|                  0|                  0|                  0|                  0|                  0|                  0|                 0|                  0|                  0|                  0|                  0|                0|                  0|                0|                 0|                  0|                  0|                  1|                 0|              1|               0|                0|               0|              0|               0|              0|           1|           0|           0|           0|           0|           1|               1|               0|             0|               0|                0|                 0|                 0|                 0|                1|           0|           1|               0|               0|               0|           0|           0|             0|             0|             0|           0|           0|          1|                    0|                   0|                   0|                   0|                    0|           0|           0|           1|           0|           0|           0|           1|          0|          0|          1|          0|          0|          1|              0|              0|              1|               0|               0|               0|               0|               1|               0|               0|               0|               0|               1|           0|           1|           0|           0|             0|             0|             1|              0|              1|              0|             0|             0|             0|             0|             0|             0|             1|               0|               1|            1|            0|            0|            0|            0|            0|            0|            1|        0|        0|         0|          0|         0|\n",
            "| 10|       190|       50.0|   7420|          5|          6|     1939|        1950|       0.0|       851|         0|      140|        991|    1077|       0|           0|     1077|           1|           0|       1|       0|           2|           2|           5|         2|     1939.0|         1|       205|         0|          4|            0|        0|          0|       0|      0|     1|  2008|   118000|          0|          0|          1|          0|          1|         0|           0|           0|           1|              0|              0|              1|               0|                0|            0|            0|               0|            0|            0|                   0|                  0|                   1|                   0|                   0|                   0|                   0|                   0|                  0|                   0|                   0|                 0|                   0|                  0|                   0|                   0|                   0|                 0|                  0|                   0|                   0|                   0|                  0|                   0|               0|              0|              0|              0|              0|              0|              0|              0|               0|              0|              0|              0|              0|              0|              0|              1|              0|             0|              0|                1|                0|                0|                0|                0|                0|              0|              1|                0|            0|                0|             0|               1|               0|             0|            0|               0|               0|               0|                  0|                  0|                  0|                 0|                  0|                  0|                  0|                  1|                  0|                0|                 0|                  0|                  0|                  0|                  0|                  0|                  0|                 0|                  0|                  0|                  0|                  1|                0|                  0|                0|                 0|                  0|                  0|                  0|                 0|              1|               0|                0|               0|              0|               0|              0|           1|           0|           0|           0|           0|           1|               0|               0|             0|               1|                1|                 0|                 0|                 0|                0|           0|           1|               0|               0|               0|           0|           0|             0|             0|             0|           0|           0|          1|                    0|                   0|                   0|                   1|                    0|           0|           0|           1|           0|           0|           0|           1|          0|          0|          1|          0|          0|          1|              0|              0|              1|               0|               1|               0|               0|               0|               0|               0|               0|               0|               1|           0|           0|           0|           0|             0|             0|             1|              0|              0|              0|             0|             0|             1|             0|             0|             0|             1|               1|               0|            0|            1|            0|            0|            0|            0|            0|            1|        0|        0|         0|          0|         0|\n",
            "+---+----------+-----------+-------+-----------+-----------+---------+------------+----------+----------+----------+---------+-----------+--------+--------+------------+---------+------------+------------+--------+--------+------------+------------+------------+----------+-----------+----------+----------+----------+-----------+-------------+---------+-----------+--------+-------+------+------+---------+-----------+-----------+-----------+-----------+-----------+----------+------------+------------+------------+---------------+---------------+---------------+----------------+-----------------+-------------+-------------+----------------+-------------+-------------+--------------------+-------------------+--------------------+--------------------+--------------------+--------------------+--------------------+--------------------+-------------------+--------------------+--------------------+------------------+--------------------+-------------------+--------------------+--------------------+--------------------+------------------+-------------------+--------------------+--------------------+--------------------+-------------------+--------------------+----------------+---------------+---------------+---------------+---------------+---------------+---------------+---------------+----------------+---------------+---------------+---------------+---------------+---------------+---------------+---------------+---------------+--------------+---------------+-----------------+-----------------+-----------------+-----------------+-----------------+-----------------+---------------+---------------+-----------------+-------------+-----------------+--------------+----------------+----------------+--------------+-------------+----------------+----------------+----------------+-------------------+-------------------+-------------------+------------------+-------------------+-------------------+-------------------+-------------------+-------------------+-----------------+------------------+-------------------+-------------------+-------------------+-------------------+-------------------+-------------------+------------------+-------------------+-------------------+-------------------+-------------------+-----------------+-------------------+-----------------+------------------+-------------------+-------------------+-------------------+------------------+---------------+----------------+-----------------+----------------+---------------+----------------+---------------+------------+------------+------------+------------+------------+------------+----------------+----------------+--------------+----------------+-----------------+------------------+------------------+------------------+-----------------+------------+------------+----------------+----------------+----------------+------------+------------+--------------+--------------+--------------+------------+------------+-----------+---------------------+--------------------+--------------------+--------------------+---------------------+------------+------------+------------+------------+------------+------------+------------+-----------+-----------+-----------+-----------+-----------+-----------+---------------+---------------+---------------+----------------+----------------+----------------+----------------+----------------+----------------+----------------+----------------+----------------+----------------+------------+------------+------------+------------+--------------+--------------+--------------+---------------+---------------+---------------+--------------+--------------+--------------+--------------+--------------+--------------+--------------+----------------+----------------+-------------+-------------+-------------+-------------+-------------+-------------+-------------+-------------+---------+---------+----------+-----------+----------+\n",
            "only showing top 10 rows\n",
            "\n"
          ],
          "name": "stdout"
        }
      ]
    },
    {
      "cell_type": "code",
      "metadata": {
        "colab": {
          "base_uri": "https://localhost:8080/"
        },
        "id": "JVz8dN8ZS3FV",
        "outputId": "b2930691-9094-44d4-fabe-f38d53898759"
      },
      "source": [
        "#Get the Feature names\n",
        "import pandas as pd\n",
        "\n",
        "features = [col for col in df.columns]\n",
        "print(features)\n",
        "\n",
        "print(type(features))"
      ],
      "execution_count": 5,
      "outputs": [
        {
          "output_type": "stream",
          "text": [
            "['Id', 'MSSubClass', 'LotFrontage', 'LotArea', 'OverallQual', 'OverallCond', 'YearBuilt', 'YearRemodAdd', 'MasVnrArea', 'BsmtFinSF1', 'BsmtFinSF2', 'BsmtUnfSF', 'TotalBsmtSF', '1stFlrSF', '2ndFlrSF', 'LowQualFinSF', 'GrLivArea', 'BsmtFullBath', 'BsmtHalfBath', 'FullBath', 'HalfBath', 'BedroomAbvGr', 'KitchenAbvGr', 'TotRmsAbvGrd', 'Fireplaces', 'GarageYrBlt', 'GarageCars', 'GarageArea', 'WoodDeckSF', 'OpenPorchSF', 'EnclosedPorch', '3SsnPorch', 'ScreenPorch', 'PoolArea', 'MiscVal', 'MoSold', 'YrSold', 'SalePrice', 'MSZoning_FV', 'MSZoning_RH', 'MSZoning_RL', 'MSZoning_RM', 'Street_Pave', 'Alley_Pave', 'LotShape_IR2', 'LotShape_IR3', 'LotShape_Reg', 'LandContour_HLS', 'LandContour_Low', 'LandContour_Lvl', 'Utilities_NoSeWa', 'LotConfig_CulDSac', 'LotConfig_FR2', 'LotConfig_FR3', 'LotConfig_Inside', 'LandSlope_Mod', 'LandSlope_Sev', 'Neighborhood_Blueste', 'Neighborhood_BrDale', 'Neighborhood_BrkSide', 'Neighborhood_ClearCr', 'Neighborhood_CollgCr', 'Neighborhood_Crawfor', 'Neighborhood_Edwards', 'Neighborhood_Gilbert', 'Neighborhood_IDOTRR', 'Neighborhood_MeadowV', 'Neighborhood_Mitchel', 'Neighborhood_NAmes', 'Neighborhood_NPkVill', 'Neighborhood_NWAmes', 'Neighborhood_NoRidge', 'Neighborhood_NridgHt', 'Neighborhood_OldTown', 'Neighborhood_SWISU', 'Neighborhood_Sawyer', 'Neighborhood_SawyerW', 'Neighborhood_Somerst', 'Neighborhood_StoneBr', 'Neighborhood_Timber', 'Neighborhood_Veenker', 'Condition1_Feedr', 'Condition1_Norm', 'Condition1_PosA', 'Condition1_PosN', 'Condition1_RRAe', 'Condition1_RRAn', 'Condition1_RRNe', 'Condition1_RRNn', 'Condition2_Feedr', 'Condition2_Norm', 'Condition2_PosA', 'Condition2_PosN', 'Condition2_RRAe', 'Condition2_RRAn', 'Condition2_RRNn', 'BldgType_2fmCon', 'BldgType_Duplex', 'BldgType_Twnhs', 'BldgType_TwnhsE', 'HouseStyle_1.5Unf', 'HouseStyle_1Story', 'HouseStyle_2.5Fin', 'HouseStyle_2.5Unf', 'HouseStyle_2Story', 'HouseStyle_SFoyer', 'HouseStyle_SLvl', 'RoofStyle_Gable', 'RoofStyle_Gambrel', 'RoofStyle_Hip', 'RoofStyle_Mansard', 'RoofStyle_Shed', 'RoofMatl_CompShg', 'RoofMatl_Membran', 'RoofMatl_Metal', 'RoofMatl_Roll', 'RoofMatl_Tar&Grv', 'RoofMatl_WdShake', 'RoofMatl_WdShngl', 'Exterior1st_AsphShn', 'Exterior1st_BrkComm', 'Exterior1st_BrkFace', 'Exterior1st_CBlock', 'Exterior1st_CemntBd', 'Exterior1st_HdBoard', 'Exterior1st_ImStucc', 'Exterior1st_MetalSd', 'Exterior1st_Plywood', 'Exterior1st_Stone', 'Exterior1st_Stucco', 'Exterior1st_VinylSd', 'Exterior1st_Wd Sdng', 'Exterior1st_WdShing', 'Exterior2nd_AsphShn', 'Exterior2nd_Brk Cmn', 'Exterior2nd_BrkFace', 'Exterior2nd_CBlock', 'Exterior2nd_CmentBd', 'Exterior2nd_HdBoard', 'Exterior2nd_ImStucc', 'Exterior2nd_MetalSd', 'Exterior2nd_Other', 'Exterior2nd_Plywood', 'Exterior2nd_Stone', 'Exterior2nd_Stucco', 'Exterior2nd_VinylSd', 'Exterior2nd_Wd Sdng', 'Exterior2nd_Wd Shng', 'MasVnrType_BrkFace', 'MasVnrType_None', 'MasVnrType_Stone', 'Foundation_CBlock', 'Foundation_PConc', 'Foundation_Slab', 'Foundation_Stone', 'Foundation_Wood', 'Heating_GasA', 'Heating_GasW', 'Heating_Grav', 'Heating_OthW', 'Heating_Wall', 'CentralAir_Y', 'Electrical_FuseF', 'Electrical_FuseP', 'Electrical_Mix', 'Electrical_SBrkr', 'GarageType_Attchd', 'GarageType_Basment', 'GarageType_BuiltIn', 'GarageType_CarPort', 'GarageType_Detchd', 'PavedDrive_P', 'PavedDrive_Y', 'MiscFeature_Othr', 'MiscFeature_Shed', 'MiscFeature_TenC', 'SaleType_CWD', 'SaleType_Con', 'SaleType_ConLD', 'SaleType_ConLI', 'SaleType_ConLw', 'SaleType_New', 'SaleType_Oth', 'SaleType_WD', 'SaleCondition_AdjLand', 'SaleCondition_Alloca', 'SaleCondition_Family', 'SaleCondition_Normal', 'SaleCondition_Partial', 'ExterQual_Fa', 'ExterQual_Gd', 'ExterQual_TA', 'ExterCond_Fa', 'ExterCond_Gd', 'ExterCond_Po', 'ExterCond_TA', 'BsmtQual_Fa', 'BsmtQual_Gd', 'BsmtQual_TA', 'BsmtCond_Gd', 'BsmtCond_Po', 'BsmtCond_TA', 'BsmtExposure_Gd', 'BsmtExposure_Mn', 'BsmtExposure_No', 'BsmtFinType1_BLQ', 'BsmtFinType1_GLQ', 'BsmtFinType1_LwQ', 'BsmtFinType1_Rec', 'BsmtFinType1_Unf', 'BsmtFinType2_BLQ', 'BsmtFinType2_GLQ', 'BsmtFinType2_LwQ', 'BsmtFinType2_Rec', 'BsmtFinType2_Unf', 'HeatingQC_Fa', 'HeatingQC_Gd', 'HeatingQC_Po', 'HeatingQC_TA', 'KitchenQual_Fa', 'KitchenQual_Gd', 'KitchenQual_TA', 'Functional_Maj2', 'Functional_Min1', 'Functional_Min2', 'Functional_Mod', 'Functional_Sev', 'Functional_Typ', 'FireplaceQu_Fa', 'FireplaceQu_Gd', 'FireplaceQu_Po', 'FireplaceQu_TA', 'GarageFinish_RFn', 'GarageFinish_Unf', 'GarageQual_Fa', 'GarageQual_Gd', 'GarageQual_Po', 'GarageQual_TA', 'GarageCond_Fa', 'GarageCond_Gd', 'GarageCond_Po', 'GarageCond_TA', 'PoolQC_Fa', 'PoolQC_Gd', 'Fence_GdWo', 'Fence_MnPrv', 'Fence_MnWw']\n",
            "<class 'list'>\n"
          ],
          "name": "stdout"
        }
      ]
    },
    {
      "cell_type": "code",
      "metadata": {
        "id": "IvfmhDvsS8-F"
      },
      "source": [
        "#Import sklearn tools and dependencies\n",
        "from sklearn.ensemble import RandomForestClassifier\n",
        "from sklearn.model_selection import train_test_split"
      ],
      "execution_count": 6,
      "outputs": []
    },
    {
      "cell_type": "code",
      "metadata": {
        "colab": {
          "base_uri": "https://localhost:8080/"
        },
        "id": "bXGQrrQlS93Q",
        "outputId": "55a9ca44-9b42-4661-b480-df60e301a88b"
      },
      "source": [
        "# Assign the data to X and y\n",
        "\n",
        "X = df[[\"1stFlrSF\", \"GrLivArea\", \"LotArea\", \"GarageArea\", \"BsmtUnfSF\", \"TotalBsmtSF\", \"LotFrontage\", \"GarageYrBlt\", \"MoSold\", \"YearBuilt\"]]\n",
        "y = df[\"SalePrice\"]\n",
        "print(X.shape, y.shape)"
      ],
      "execution_count": 8,
      "outputs": [
        {
          "output_type": "stream",
          "text": [
            "(1121, 10) (1121,)\n"
          ],
          "name": "stdout"
        }
      ]
    },
    {
      "cell_type": "code",
      "metadata": {
        "id": "FDiLkxCtTObV"
      },
      "source": [
        "# Use train_test_split to create training and testing data\n",
        "\n",
        "### BEGIN SOLUTION\n",
        "from sklearn.model_selection import train_test_split\n",
        "\n",
        "X_train, X_test, y_train, y_test = train_test_split(X, y, test_size=0.20)\n",
        "\n",
        "### END SOLUTION"
      ],
      "execution_count": 9,
      "outputs": []
    },
    {
      "cell_type": "code",
      "metadata": {
        "id": "5-NxTTydTQjo"
      },
      "source": [
        "# Create the model using RandomForestRegressor\n",
        "\n",
        "### BEGIN SOLUTION\n",
        "from sklearn.ensemble import RandomForestRegressor\n",
        "model = RandomForestRegressor()\n",
        "### END SOLUTION"
      ],
      "execution_count": 14,
      "outputs": []
    },
    {
      "cell_type": "code",
      "metadata": {
        "colab": {
          "base_uri": "https://localhost:8080/"
        },
        "id": "IDceuA6OTSy7",
        "outputId": "a236d575-4c74-4076-d814-405467fea36a"
      },
      "source": [
        "# Fit the model to the training data and calculate the scores for the training and testing data\n",
        "\n",
        "### BEGIN SOLUTION\n",
        "model.fit(X_train, y_train)\n",
        "training_score = model.score(X_train, y_train)\n",
        "testing_score = model.score(X_test, y_test)\n",
        "\n",
        "### END SOLUTION \n",
        "\n",
        "print(f\"Training Score: {training_score}\")\n",
        "print(f\"Testing Score: {testing_score}\")"
      ],
      "execution_count": 15,
      "outputs": [
        {
          "output_type": "stream",
          "text": [
            "Training Score: 0.9697722939142559\n",
            "Testing Score: 0.8424162245251041\n"
          ],
          "name": "stdout"
        }
      ]
    },
    {
      "cell_type": "code",
      "metadata": {
        "id": "cnTa8bv0V2oz"
      },
      "source": [
        "# Assign the data to X and y\n",
        "\n",
        "X = df[[\"1stFlrSF\", \n",
        "        \"GrLivArea\", \n",
        "        \"LotArea\", \n",
        "        \"GarageArea\", \n",
        "        \"BsmtUnfSF\", \n",
        "        \"TotalBsmtSF\", \n",
        "        \"LotFrontage\", \n",
        "        \"GarageYrBlt\", \n",
        "        \"MoSold\", \n",
        "        \"YearBuilt\",\n",
        "        ]]\n",
        "y = df[\"SalePrice\"]\n",
        "print(X.shape, y.shape)"
      ],
      "execution_count": null,
      "outputs": []
    },
    {
      "cell_type": "code",
      "metadata": {
        "id": "NAO-LS9DWV2k"
      },
      "source": [
        "# Use train_test_split to create training and testing data\n",
        "\n",
        "### BEGIN SOLUTION\n",
        "from sklearn.model_selection import train_test_split\n",
        "\n",
        "X_train, X_test, y_train, y_test = train_test_split(X, y, test_size=0.20)\n",
        "\n",
        "### END SOLUTION"
      ],
      "execution_count": null,
      "outputs": []
    },
    {
      "cell_type": "code",
      "metadata": {
        "id": "6rbKi2pJWZO3"
      },
      "source": [
        "# Create the model using RandomForestRegressor\n",
        "\n",
        "### BEGIN SOLUTION\n",
        "from sklearn.ensemble import RandomForestRegressor\n",
        "model = RandomForestRegressor()\n",
        "### END SOLUTION"
      ],
      "execution_count": null,
      "outputs": []
    },
    {
      "cell_type": "code",
      "metadata": {
        "id": "x6ijs3qrWZZX"
      },
      "source": [
        "# Fit the model to the training data and calculate the scores for the training and testing data\n",
        "\n",
        "### BEGIN SOLUTION\n",
        "model.fit(X_train, y_train)\n",
        "training_score = model.score(X_train, y_train)\n",
        "testing_score = model.score(X_test, y_test)\n",
        "\n",
        "### END SOLUTION \n",
        "\n",
        "print(f\"Training Score: {training_score}\")\n",
        "print(f\"Testing Score: {testing_score}\")"
      ],
      "execution_count": null,
      "outputs": []
    }
  ]
}