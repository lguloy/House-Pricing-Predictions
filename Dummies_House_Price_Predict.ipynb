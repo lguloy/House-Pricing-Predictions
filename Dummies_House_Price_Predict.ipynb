{
  "nbformat": 4,
  "nbformat_minor": 0,
  "metadata": {
    "colab": {
      "name": "Dummies_House_Price_Predict.ipynb",
      "provenance": [],
      "include_colab_link": true
    },
    "kernelspec": {
      "name": "python3",
      "display_name": "Python 3"
    },
    "language_info": {
      "name": "python"
    }
  },
  "cells": [
    {
      "cell_type": "markdown",
      "metadata": {
        "id": "view-in-github",
        "colab_type": "text"
      },
      "source": [
        "<a href=\"https://colab.research.google.com/github/lguloy/House-Pricing-Predictions/blob/House_Price_ML_CCG/Dummies_House_Price_Predict.ipynb\" target=\"_parent\"><img src=\"https://colab.research.google.com/assets/colab-badge.svg\" alt=\"Open In Colab\"/></a>"
      ]
    },
    {
      "cell_type": "code",
      "metadata": {
        "id": "NSkkWNzXSTTq"
      },
      "source": [
        "import os\n",
        "# Find the latest version of spark 3.0  from http://www-us.apache.org/dist/spark/ and enter as the spark version\n",
        "# For example:\n",
        "spark_version = 'spark-3.0.3'\n",
        "# spark_version = 'spark-3.<enter version>'\n",
        "os.environ['SPARK_VERSION']=spark_version\n",
        "\n",
        "# Install Spark and Java\n",
        "!apt-get update\n",
        "!apt-get install openjdk-11-jdk-headless -qq > /dev/null\n",
        "!wget -q http://www-us.apache.org/dist/spark/$SPARK_VERSION/$SPARK_VERSION-bin-hadoop2.7.tgz\n",
        "!tar xf $SPARK_VERSION-bin-hadoop2.7.tgz\n",
        "!pip install -q findspark\n",
        "\n",
        "# Set Environment Variables\n",
        "os.environ[\"JAVA_HOME\"] = \"/usr/lib/jvm/java-11-openjdk-amd64\"\n",
        "os.environ[\"SPARK_HOME\"] = f\"/content/{spark_version}-bin-hadoop2.7\"\n",
        "\n",
        "# Start a SparkSession\n",
        "import findspark\n",
        "findspark.init()"
      ],
      "execution_count": null,
      "outputs": []
    },
    {
      "cell_type": "code",
      "metadata": {
        "id": "oGVWlqSeSXXC"
      },
      "source": [
        "from pyspark.sql import SparkSession\n",
        "spark = SparkSession.builder.appName(\"CloudETL\").config(\"spark.driver.extraClassPath\",\"/content/postgresql-42.2.9.jar\").getOrCreate()"
      ],
      "execution_count": 2,
      "outputs": []
    },
    {
      "cell_type": "code",
      "metadata": {
        "id": "7XlWn8gISegT"
      },
      "source": [
        "\n",
        "from pyspark import SparkFiles\n",
        "# Load in train.csv from S3 into a DataFrame\n",
        "url = \"https://finalprojectbootcamp.s3.us-east-2.amazonaws.com/all_dumimies_converted_df.csv\"\n",
        "spark.sparkContext.addFile(url)\n",
        "\n",
        "df = spark.read.option('header', 'true').csv(SparkFiles.get(\"all_dumimies_converted_df.csv\"), inferSchema=True, sep=',', timestampFormat=\"mm/dd/yy\")\n",
        "df.show(10)\n",
        "\n",
        "#Convert to Pandas to allow train_test_split usage\n",
        "df = df.select(\"*\").toPandas()\n",
        "df = df.dropna(how=\"any\")"
      ],
      "execution_count": null,
      "outputs": []
    },
    {
      "cell_type": "code",
      "metadata": {
        "id": "JVz8dN8ZS3FV"
      },
      "source": [
        "#Get the Feature names\n",
        "import pandas as pd\n",
        "\n",
        "features = [col for col in df.columns]\n",
        "print(features)\n",
        "\n",
        "print(type(features))"
      ],
      "execution_count": null,
      "outputs": []
    },
    {
      "cell_type": "code",
      "metadata": {
        "id": "IvfmhDvsS8-F"
      },
      "source": [
        "#Import sklearn tools and dependencies\n",
        "from sklearn.ensemble import RandomForestClassifier"
      ],
      "execution_count": 5,
      "outputs": []
    },
    {
      "cell_type": "code",
      "metadata": {
        "id": "bXGQrrQlS93Q"
      },
      "source": [
        "# Assign the data to X and y\n",
        "\n",
        "X = df[[\"1stFlrSF\", \n",
        "        \"GrLivArea\", \n",
        "        \"LotArea\", \n",
        "        \"GarageArea\", \n",
        "        \"BsmtUnfSF\", \n",
        "        \"TotalBsmtSF\", \n",
        "        \"LotFrontage\", \n",
        "        \"GarageYrBlt\", \n",
        "        \"MoSold\", \n",
        "        \"YearBuilt\"]]\n",
        "y = df[\"SalePrice\"]\n",
        "print(X.shape, y.shape)"
      ],
      "execution_count": null,
      "outputs": []
    },
    {
      "cell_type": "code",
      "metadata": {
        "id": "5-NxTTydTQjo"
      },
      "source": [
        "# Create the model using RandomForestRegressor\n",
        "\n",
        "### BEGIN SOLUTION\n",
        "from sklearn.ensemble import RandomForestRegressor\n",
        "model = RandomForestRegressor(random_state=20)\n",
        "### END SOLUTION"
      ],
      "execution_count": 12,
      "outputs": []
    },
    {
      "cell_type": "code",
      "metadata": {
        "id": "IDceuA6OTSy7"
      },
      "source": [
        "# Finalize the model by fitting to the entire training dataset and calculate the scores for the training data\n",
        "\n",
        "### BEGIN SOLUTION\n",
        "model.fit(X, y)\n",
        "score = model.score(X, y)\n",
        "\n",
        "### END SOLUTION \n",
        "\n",
        "print(f\"Score: {score}\")\n"
      ],
      "execution_count": null,
      "outputs": []
    },
    {
      "cell_type": "code",
      "metadata": {
        "id": "liNKjB6ogx3W"
      },
      "source": [
        "# Load in predict.csv from S3 into a DataFrame\n",
        "url = \"https://finalprojectbootcamp.s3.us-east-2.amazonaws.com/{NEW CSV}}\"\n",
        "spark.sparkContext.addFile(url)\n",
        "\n",
        "dfp = spark.read.option('header', 'true').csv(SparkFiles.get(\"{NEW CSV}\"), inferSchema=True, sep=',', timestampFormat=\"mm/dd/yy\")\n",
        "dfp.show(10)\n",
        "\n",
        "#Convert to Pandas to allow train_test_split usage\n",
        "dfp = df.select(\"*\").toPandas()\n",
        "dfp = df.dropna(how=\"any\")"
      ],
      "execution_count": null,
      "outputs": []
    },
    {
      "cell_type": "code",
      "metadata": {
        "id": "sqaBn6ZIz4b-"
      },
      "source": [
        "X_predict = dfp[[\"1stFlrSF\", \n",
        "        \"GrLivArea\", \n",
        "        \"LotArea\", \n",
        "        \"GarageArea\", \n",
        "        \"BsmtUnfSF\", \n",
        "        \"TotalBsmtSF\", \n",
        "        \"LotFrontage\", \n",
        "        \"GarageYrBlt\", \n",
        "        \"MoSold\", \n",
        "        \"YearBuilt\"]]\n",
        "\n",
        "y_predict = model.predict(X_predict)\n",
        "\n",
        "for i in X_predict:\n",
        "\tprint(\"Predicted=%s\" % (y_predict[i]))"
      ],
      "execution_count": null,
      "outputs": []
    }
  ]
}