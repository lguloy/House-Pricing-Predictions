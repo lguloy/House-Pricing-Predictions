{
 "cells": [
  {
   "cell_type": "code",
   "execution_count": 1,
   "id": "78dbb5ad",
   "metadata": {},
   "outputs": [],
   "source": [
    "import pickle\n",
    "import pandas as pd"
   ]
  },
  {
   "cell_type": "code",
   "execution_count": 3,
   "id": "0c5908da",
   "metadata": {},
   "outputs": [
    {
     "name": "stderr",
     "output_type": "stream",
     "text": [
      "C:\\Users\\ljgul\\anaconda3\\envs\\PythonAdv\\lib\\site-packages\\sklearn\\base.py:315: UserWarning: Trying to unpickle estimator DecisionTreeRegressor from version 0.22.2.post1 when using version 0.24.2. This might lead to breaking code or invalid results. Use at your own risk.\n",
      "  UserWarning)\n",
      "C:\\Users\\ljgul\\anaconda3\\envs\\PythonAdv\\lib\\site-packages\\sklearn\\base.py:315: UserWarning: Trying to unpickle estimator RandomForestRegressor from version 0.22.2.post1 when using version 0.24.2. This might lead to breaking code or invalid results. Use at your own risk.\n",
      "  UserWarning)\n"
     ]
    }
   ],
   "source": [
    "VSC_model = pickle.load(open(\"VLC_Ames_Housing_Price_Model\", 'rb'))"
   ]
  },
  {
   "cell_type": "code",
   "execution_count": 17,
   "id": "d98bd315",
   "metadata": {},
   "outputs": [],
   "source": [
    "model_input = {\"Year Built\": 2003,\n",
    "                \"1stFlrSF\" : 856,\n",
    "                \"GrLivArea\": 1710,\n",
    "                \"LotArea\": 8450,\n",
    "                \"GarageArea\": 548,\n",
    "                \"BsmtUnfSF\": 150,\n",
    "                \"TotalBsmtSF\": 856,\n",
    "                \"LotFrontage\": 65,\n",
    "                \"GarageYrBlt\": 2003,\n",
    "                \"MoSold\": 2\n",
    "\n",
    "            }"
   ]
  },
  {
   "cell_type": "code",
   "execution_count": 24,
   "id": "415b1840",
   "metadata": {},
   "outputs": [],
   "source": [
    "for sub in model_input:\n",
    "    model_input[sub] = str(model_input[sub])"
   ]
  },
  {
   "cell_type": "code",
   "execution_count": 25,
   "id": "7709c6d5",
   "metadata": {},
   "outputs": [
    {
     "data": {
      "text/plain": [
       "str"
      ]
     },
     "execution_count": 25,
     "metadata": {},
     "output_type": "execute_result"
    }
   ],
   "source": [
    "type(model_input[\"Year Built\"])"
   ]
  },
  {
   "cell_type": "code",
   "execution_count": 26,
   "id": "4e4981a4",
   "metadata": {},
   "outputs": [],
   "source": [
    "for sub in model_input:\n",
    "    model_input[sub] = int(model_input[sub])"
   ]
  },
  {
   "cell_type": "code",
   "execution_count": 27,
   "id": "d4a8e925",
   "metadata": {},
   "outputs": [
    {
     "data": {
      "text/plain": [
       "int"
      ]
     },
     "execution_count": 27,
     "metadata": {},
     "output_type": "execute_result"
    }
   ],
   "source": [
    "type(model_input[\"Year Built\"])"
   ]
  },
  {
   "cell_type": "code",
   "execution_count": 13,
   "id": "e1ceae51",
   "metadata": {},
   "outputs": [],
   "source": [
    "df = pd.DataFrame(data=model_input, index=range(1))"
   ]
  },
  {
   "cell_type": "code",
   "execution_count": 15,
   "id": "e307abba",
   "metadata": {},
   "outputs": [
    {
     "data": {
      "text/plain": [
       "array([117485.82])"
      ]
     },
     "execution_count": 15,
     "metadata": {},
     "output_type": "execute_result"
    }
   ],
   "source": [
    "VSC_model.predict(df)"
   ]
  }
 ],
 "metadata": {
  "kernelspec": {
   "display_name": "Python [conda env:PythonAdv] *",
   "language": "python",
   "name": "conda-env-PythonAdv-py"
  },
  "language_info": {
   "codemirror_mode": {
    "name": "ipython",
    "version": 3
   },
   "file_extension": ".py",
   "mimetype": "text/x-python",
   "name": "python",
   "nbconvert_exporter": "python",
   "pygments_lexer": "ipython3",
   "version": "3.6.13"
  }
 },
 "nbformat": 4,
 "nbformat_minor": 5
}
