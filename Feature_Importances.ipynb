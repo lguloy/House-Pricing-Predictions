{
  "nbformat": 4,
  "nbformat_minor": 0,
  "metadata": {
    "colab": {
      "name": "Feature Importances",
      "provenance": [],
      "collapsed_sections": []
    },
    "kernelspec": {
      "name": "python3",
      "display_name": "Python 3"
    },
    "language_info": {
      "name": "python"
    }
  },
  "cells": [
    {
      "cell_type": "markdown",
      "metadata": {
        "id": "PRFPir7FSEd7"
      },
      "source": [
        "# **FEATURE IMPORTANCE**\n"
      ]
    },
    {
      "cell_type": "markdown",
      "metadata": {
        "id": "msY8t8hwTAyn"
      },
      "source": [
        "First need to get the database from PostGRES"
      ]
    },
    {
      "cell_type": "code",
      "metadata": {
        "colab": {
          "base_uri": "https://localhost:8080/"
        },
        "id": "JKP8c2XFLc3i",
        "outputId": "ef728425-edcb-4d49-85fe-295153384125"
      },
      "source": [
        "import os\n",
        "# Find the latest version of spark 3.0  from http://www-us.apache.org/dist/spark/ and enter as the spark version\n",
        "# For example:\n",
        "spark_version = 'spark-3.0.3'\n",
        "# spark_version = 'spark-3.<enter version>'\n",
        "os.environ['SPARK_VERSION']=spark_version\n",
        "\n",
        "# Install Spark and Java\n",
        "!apt-get update\n",
        "!apt-get install openjdk-11-jdk-headless -qq > /dev/null\n",
        "!wget -q http://www-us.apache.org/dist/spark/$SPARK_VERSION/$SPARK_VERSION-bin-hadoop2.7.tgz\n",
        "!tar xf $SPARK_VERSION-bin-hadoop2.7.tgz\n",
        "!pip install -q findspark\n",
        "\n",
        "# Set Environment Variables\n",
        "os.environ[\"JAVA_HOME\"] = \"/usr/lib/jvm/java-11-openjdk-amd64\"\n",
        "os.environ[\"SPARK_HOME\"] = f\"/content/{spark_version}-bin-hadoop2.7\"\n",
        "\n",
        "# Start a SparkSession\n",
        "import findspark\n",
        "findspark.init()"
      ],
      "execution_count": 1,
      "outputs": [
        {
          "output_type": "stream",
          "text": [
            "\r0% [Working]\r            \rHit:1 https://cloud.r-project.org/bin/linux/ubuntu bionic-cran40/ InRelease\n",
            "\r0% [Connecting to archive.ubuntu.com (91.189.88.152)] [Connecting to security.u\r0% [1 InRelease gpgv 3,626 B] [Connecting to archive.ubuntu.com (91.189.88.152)\r                                                                               \rGet:2 http://security.ubuntu.com/ubuntu bionic-security InRelease [88.7 kB]\n",
            "\r0% [1 InRelease gpgv 3,626 B] [Connecting to archive.ubuntu.com (91.189.88.152)\r0% [1 InRelease gpgv 3,626 B] [Waiting for headers] [Waiting for headers] [Wait\r                                                                               \rIgn:3 https://developer.download.nvidia.com/compute/cuda/repos/ubuntu1804/x86_64  InRelease\n",
            "\r                                                                               \r0% [1 InRelease gpgv 3,626 B] [Waiting for headers] [Waiting for headers]\r                                                                         \rHit:4 http://ppa.launchpad.net/c2d4u.team/c2d4u4.0+/ubuntu bionic InRelease\n",
            "\r0% [1 InRelease gpgv 3,626 B] [Waiting for headers] [Connecting to ppa.launchpa\r                                                                               \rHit:5 http://archive.ubuntu.com/ubuntu bionic InRelease\n",
            "\r0% [1 InRelease gpgv 3,626 B] [Waiting for headers] [Connecting to ppa.launchpa\r                                                                               \rIgn:6 https://developer.download.nvidia.com/compute/machine-learning/repos/ubuntu1804/x86_64  InRelease\n",
            "\r0% [1 InRelease gpgv 3,626 B] [Waiting for headers] [Connecting to ppa.launchpa\r                                                                               \rHit:7 https://developer.download.nvidia.com/compute/cuda/repos/ubuntu1804/x86_64  Release\n",
            "Hit:8 https://developer.download.nvidia.com/compute/machine-learning/repos/ubuntu1804/x86_64  Release\n",
            "Get:9 http://archive.ubuntu.com/ubuntu bionic-updates InRelease [88.7 kB]\n",
            "Hit:10 http://ppa.launchpad.net/cran/libgit2/ubuntu bionic InRelease\n",
            "Hit:11 http://ppa.launchpad.net/deadsnakes/ppa/ubuntu bionic InRelease\n",
            "Get:12 http://archive.ubuntu.com/ubuntu bionic-backports InRelease [74.6 kB]\n",
            "Hit:13 http://ppa.launchpad.net/graphics-drivers/ppa/ubuntu bionic InRelease\n",
            "Fetched 252 kB in 2s (117 kB/s)\n",
            "Reading package lists... Done\n"
          ],
          "name": "stdout"
        }
      ]
    },
    {
      "cell_type": "code",
      "metadata": {
        "id": "1goLgKYjMDLG"
      },
      "source": [
        "from pyspark.sql import SparkSession\n",
        "spark = SparkSession.builder.appName(\"CloudETL\").config(\"spark.driver.extraClassPath\",\"/content/postgresql-42.2.9.jar\").getOrCreate()"
      ],
      "execution_count": 2,
      "outputs": []
    },
    {
      "cell_type": "code",
      "metadata": {
        "colab": {
          "base_uri": "https://localhost:8080/"
        },
        "id": "qTxs-NbZMXEc",
        "outputId": "62624614-6107-4147-b262-be566b19476b"
      },
      "source": [
        "from pyspark import SparkFiles\n",
        "# Load in train.csv from S3 into a DataFrame\n",
        "url = \"https://finalprojectbootcamp.s3.us-east-2.amazonaws.com/train_converted_df.csv\"\n",
        "spark.sparkContext.addFile(url)\n",
        "\n",
        "df = spark.read.option('header', 'true').csv(SparkFiles.get(\"train_converted_df.csv\"), inferSchema=True, sep=',', timestampFormat=\"mm/dd/yy\")\n",
        "df.show(10)\n",
        "\n",
        "#Convert to Pandas to allow train_test_split usage\n",
        "df = df.select(\"*\").toPandas()\n",
        "df = df.dropna(how=\"any\")"
      ],
      "execution_count": 3,
      "outputs": [
        {
          "output_type": "stream",
          "text": [
            "+---+----------+-----------+-------+-----------+-----------+---------+------------+----------+---------+---------+--------+--------+------------+------------+----------+------------+----------+---------+-----------+---------+--------+--------+------------+---------+------------+------------+--------+--------+------------+------------+-----------+------------+----------+----------+-----------+-----------+------------+----------+----------+----------+----------+----------+-----------+-------------+---------+-----------+--------+------+-----+-------+------+------+---------+-----------+-----------+-----------+-----------+-----------+----------+------------+------------+------------+---------------+---------------+---------------+----------------+-----------------+-------------+-------------+----------------+-------------+-------------+--------------------+-------------------+--------------------+--------------------+--------------------+--------------------+--------------------+--------------------+-------------------+--------------------+--------------------+------------------+--------------------+-------------------+--------------------+--------------------+--------------------+------------------+-------------------+--------------------+--------------------+--------------------+-------------------+--------------------+----------------+---------------+---------------+---------------+---------------+---------------+---------------+---------------+----------------+---------------+---------------+---------------+---------------+---------------+---------------+---------------+---------------+--------------+---------------+-----------------+-----------------+-----------------+-----------------+-----------------+-----------------+---------------+---------------+-----------------+-------------+-----------------+--------------+----------------+----------------+--------------+-------------+----------------+----------------+----------------+-------------------+-------------------+-------------------+------------------+-------------------+-------------------+-------------------+-------------------+-------------------+-----------------+------------------+-------------------+-------------------+-------------------+-------------------+-------------------+-------------------+------------------+-------------------+-------------------+-------------------+-------------------+-----------------+-------------------+-----------------+------------------+-------------------+-------------------+-------------------+------------------+---------------+----------------+-----------------+----------------+---------------+----------------+---------------+------------+------------+------------+------------+------------+------------+----------------+----------------+--------------+----------------+-----------------+------------------+------------------+------------------+-----------------+------------+------------+----------------+----------------+----------------+------------+------------+--------------+--------------+--------------+------------+------------+-----------+---------------------+--------------------+--------------------+--------------------+---------------------+\n",
            "| Id|MSSubClass|LotFrontage|LotArea|OverallQual|OverallCond|YearBuilt|YearRemodAdd|MasVnrArea|ExterQual|ExterCond|BsmtQual|BsmtCond|BsmtExposure|BsmtFinType1|BsmtFinSF1|BsmtFinType2|BsmtFinSF2|BsmtUnfSF|TotalBsmtSF|HeatingQC|1stFlrSF|2ndFlrSF|LowQualFinSF|GrLivArea|BsmtFullBath|BsmtHalfBath|FullBath|HalfBath|BedroomAbvGr|KitchenAbvGr|KitchenQual|TotRmsAbvGrd|Functional|Fireplaces|FireplaceQu|GarageYrBlt|GarageFinish|GarageCars|GarageArea|GarageQual|GarageCond|WoodDeckSF|OpenPorchSF|EnclosedPorch|3SsnPorch|ScreenPorch|PoolArea|PoolQC|Fence|MiscVal|MoSold|YrSold|SalePrice|MSZoning_FV|MSZoning_RH|MSZoning_RL|MSZoning_RM|Street_Pave|Alley_Pave|LotShape_IR2|LotShape_IR3|LotShape_Reg|LandContour_HLS|LandContour_Low|LandContour_Lvl|Utilities_NoSeWa|LotConfig_CulDSac|LotConfig_FR2|LotConfig_FR3|LotConfig_Inside|LandSlope_Mod|LandSlope_Sev|Neighborhood_Blueste|Neighborhood_BrDale|Neighborhood_BrkSide|Neighborhood_ClearCr|Neighborhood_CollgCr|Neighborhood_Crawfor|Neighborhood_Edwards|Neighborhood_Gilbert|Neighborhood_IDOTRR|Neighborhood_MeadowV|Neighborhood_Mitchel|Neighborhood_NAmes|Neighborhood_NPkVill|Neighborhood_NWAmes|Neighborhood_NoRidge|Neighborhood_NridgHt|Neighborhood_OldTown|Neighborhood_SWISU|Neighborhood_Sawyer|Neighborhood_SawyerW|Neighborhood_Somerst|Neighborhood_StoneBr|Neighborhood_Timber|Neighborhood_Veenker|Condition1_Feedr|Condition1_Norm|Condition1_PosA|Condition1_PosN|Condition1_RRAe|Condition1_RRAn|Condition1_RRNe|Condition1_RRNn|Condition2_Feedr|Condition2_Norm|Condition2_PosA|Condition2_PosN|Condition2_RRAe|Condition2_RRAn|Condition2_RRNn|BldgType_2fmCon|BldgType_Duplex|BldgType_Twnhs|BldgType_TwnhsE|HouseStyle_1.5Unf|HouseStyle_1Story|HouseStyle_2.5Fin|HouseStyle_2.5Unf|HouseStyle_2Story|HouseStyle_SFoyer|HouseStyle_SLvl|RoofStyle_Gable|RoofStyle_Gambrel|RoofStyle_Hip|RoofStyle_Mansard|RoofStyle_Shed|RoofMatl_CompShg|RoofMatl_Membran|RoofMatl_Metal|RoofMatl_Roll|RoofMatl_Tar&Grv|RoofMatl_WdShake|RoofMatl_WdShngl|Exterior1st_AsphShn|Exterior1st_BrkComm|Exterior1st_BrkFace|Exterior1st_CBlock|Exterior1st_CemntBd|Exterior1st_HdBoard|Exterior1st_ImStucc|Exterior1st_MetalSd|Exterior1st_Plywood|Exterior1st_Stone|Exterior1st_Stucco|Exterior1st_VinylSd|Exterior1st_Wd Sdng|Exterior1st_WdShing|Exterior2nd_AsphShn|Exterior2nd_Brk Cmn|Exterior2nd_BrkFace|Exterior2nd_CBlock|Exterior2nd_CmentBd|Exterior2nd_HdBoard|Exterior2nd_ImStucc|Exterior2nd_MetalSd|Exterior2nd_Other|Exterior2nd_Plywood|Exterior2nd_Stone|Exterior2nd_Stucco|Exterior2nd_VinylSd|Exterior2nd_Wd Sdng|Exterior2nd_Wd Shng|MasVnrType_BrkFace|MasVnrType_None|MasVnrType_Stone|Foundation_CBlock|Foundation_PConc|Foundation_Slab|Foundation_Stone|Foundation_Wood|Heating_GasA|Heating_GasW|Heating_Grav|Heating_OthW|Heating_Wall|CentralAir_Y|Electrical_FuseF|Electrical_FuseP|Electrical_Mix|Electrical_SBrkr|GarageType_Attchd|GarageType_Basment|GarageType_BuiltIn|GarageType_CarPort|GarageType_Detchd|PavedDrive_P|PavedDrive_Y|MiscFeature_Othr|MiscFeature_Shed|MiscFeature_TenC|SaleType_CWD|SaleType_Con|SaleType_ConLD|SaleType_ConLI|SaleType_ConLw|SaleType_New|SaleType_Oth|SaleType_WD|SaleCondition_AdjLand|SaleCondition_Alloca|SaleCondition_Family|SaleCondition_Normal|SaleCondition_Partial|\n",
            "+---+----------+-----------+-------+-----------+-----------+---------+------------+----------+---------+---------+--------+--------+------------+------------+----------+------------+----------+---------+-----------+---------+--------+--------+------------+---------+------------+------------+--------+--------+------------+------------+-----------+------------+----------+----------+-----------+-----------+------------+----------+----------+----------+----------+----------+-----------+-------------+---------+-----------+--------+------+-----+-------+------+------+---------+-----------+-----------+-----------+-----------+-----------+----------+------------+------------+------------+---------------+---------------+---------------+----------------+-----------------+-------------+-------------+----------------+-------------+-------------+--------------------+-------------------+--------------------+--------------------+--------------------+--------------------+--------------------+--------------------+-------------------+--------------------+--------------------+------------------+--------------------+-------------------+--------------------+--------------------+--------------------+------------------+-------------------+--------------------+--------------------+--------------------+-------------------+--------------------+----------------+---------------+---------------+---------------+---------------+---------------+---------------+---------------+----------------+---------------+---------------+---------------+---------------+---------------+---------------+---------------+---------------+--------------+---------------+-----------------+-----------------+-----------------+-----------------+-----------------+-----------------+---------------+---------------+-----------------+-------------+-----------------+--------------+----------------+----------------+--------------+-------------+----------------+----------------+----------------+-------------------+-------------------+-------------------+------------------+-------------------+-------------------+-------------------+-------------------+-------------------+-----------------+------------------+-------------------+-------------------+-------------------+-------------------+-------------------+-------------------+------------------+-------------------+-------------------+-------------------+-------------------+-----------------+-------------------+-----------------+------------------+-------------------+-------------------+-------------------+------------------+---------------+----------------+-----------------+----------------+---------------+----------------+---------------+------------+------------+------------+------------+------------+------------+----------------+----------------+--------------+----------------+-----------------+------------------+------------------+------------------+-----------------+------------+------------+----------------+----------------+----------------+------------+------------+--------------+--------------+--------------+------------+------------+-----------+---------------------+--------------------+--------------------+--------------------+---------------------+\n",
            "|  1|        60|       65.0|   8450|          7|          5|     2003|        2003|     196.0|        4|        3|     4.0|     3.0|         1.0|         6.0|       706|         1.0|         0|      150|        856|        5|     856|     854|           0|     1710|           1|           0|       2|       1|           3|           1|          4|           8|         8|         0|       null|     2003.0|         2.0|         2|       548|       3.0|       3.0|         0|         61|            0|        0|          0|       0|  null| null|      0|     2|  2008|   208500|          0|          0|          1|          0|          1|         0|           0|           0|           1|              0|              0|              1|               0|                0|            0|            0|               1|            0|            0|                   0|                  0|                   0|                   0|                   1|                   0|                   0|                   0|                  0|                   0|                   0|                 0|                   0|                  0|                   0|                   0|                   0|                 0|                  0|                   0|                   0|                   0|                  0|                   0|               0|              1|              0|              0|              0|              0|              0|              0|               0|              1|              0|              0|              0|              0|              0|              0|              0|             0|              0|                0|                0|                0|                0|                1|                0|              0|              1|                0|            0|                0|             0|               1|               0|             0|            0|               0|               0|               0|                  0|                  0|                  0|                 0|                  0|                  0|                  0|                  0|                  0|                0|                 0|                  1|                  0|                  0|                  0|                  0|                  0|                 0|                  0|                  0|                  0|                  0|                0|                  0|                0|                 0|                  1|                  0|                  0|                 1|              0|               0|                0|               1|              0|               0|              0|           1|           0|           0|           0|           0|           1|               0|               0|             0|               1|                1|                 0|                 0|                 0|                0|           0|           1|               0|               0|               0|           0|           0|             0|             0|             0|           0|           0|          1|                    0|                   0|                   0|                   1|                    0|\n",
            "|  2|        20|       80.0|   9600|          6|          8|     1976|        1976|       0.0|        3|        3|     4.0|     3.0|         4.0|         5.0|       978|         1.0|         0|      284|       1262|        5|    1262|       0|           0|     1262|           0|           1|       2|       0|           3|           1|          3|           6|         8|         1|        3.0|     1976.0|         2.0|         2|       460|       3.0|       3.0|       298|          0|            0|        0|          0|       0|  null| null|      0|     5|  2007|   181500|          0|          0|          1|          0|          1|         0|           0|           0|           1|              0|              0|              1|               0|                0|            1|            0|               0|            0|            0|                   0|                  0|                   0|                   0|                   0|                   0|                   0|                   0|                  0|                   0|                   0|                 0|                   0|                  0|                   0|                   0|                   0|                 0|                  0|                   0|                   0|                   0|                  0|                   1|               1|              0|              0|              0|              0|              0|              0|              0|               0|              1|              0|              0|              0|              0|              0|              0|              0|             0|              0|                0|                1|                0|                0|                0|                0|              0|              1|                0|            0|                0|             0|               1|               0|             0|            0|               0|               0|               0|                  0|                  0|                  0|                 0|                  0|                  0|                  0|                  1|                  0|                0|                 0|                  0|                  0|                  0|                  0|                  0|                  0|                 0|                  0|                  0|                  0|                  1|                0|                  0|                0|                 0|                  0|                  0|                  0|                 0|              1|               0|                1|               0|              0|               0|              0|           1|           0|           0|           0|           0|           1|               0|               0|             0|               1|                1|                 0|                 0|                 0|                0|           0|           1|               0|               0|               0|           0|           0|             0|             0|             0|           0|           0|          1|                    0|                   0|                   0|                   1|                    0|\n",
            "|  3|        60|       68.0|  11250|          7|          5|     2001|        2002|     162.0|        4|        3|     4.0|     3.0|         2.0|         6.0|       486|         1.0|         0|      434|        920|        5|     920|     866|           0|     1786|           1|           0|       2|       1|           3|           1|          4|           6|         8|         1|        3.0|     2001.0|         2.0|         2|       608|       3.0|       3.0|         0|         42|            0|        0|          0|       0|  null| null|      0|     9|  2008|   223500|          0|          0|          1|          0|          1|         0|           0|           0|           0|              0|              0|              1|               0|                0|            0|            0|               1|            0|            0|                   0|                  0|                   0|                   0|                   1|                   0|                   0|                   0|                  0|                   0|                   0|                 0|                   0|                  0|                   0|                   0|                   0|                 0|                  0|                   0|                   0|                   0|                  0|                   0|               0|              1|              0|              0|              0|              0|              0|              0|               0|              1|              0|              0|              0|              0|              0|              0|              0|             0|              0|                0|                0|                0|                0|                1|                0|              0|              1|                0|            0|                0|             0|               1|               0|             0|            0|               0|               0|               0|                  0|                  0|                  0|                 0|                  0|                  0|                  0|                  0|                  0|                0|                 0|                  1|                  0|                  0|                  0|                  0|                  0|                 0|                  0|                  0|                  0|                  0|                0|                  0|                0|                 0|                  1|                  0|                  0|                 1|              0|               0|                0|               1|              0|               0|              0|           1|           0|           0|           0|           0|           1|               0|               0|             0|               1|                1|                 0|                 0|                 0|                0|           0|           1|               0|               0|               0|           0|           0|             0|             0|             0|           0|           0|          1|                    0|                   0|                   0|                   1|                    0|\n",
            "|  4|        70|       60.0|   9550|          7|          5|     1915|        1970|       0.0|        3|        3|     3.0|     4.0|         1.0|         5.0|       216|         1.0|         0|      540|        756|        4|     961|     756|           0|     1717|           1|           0|       1|       0|           3|           1|          4|           7|         8|         1|        4.0|     1998.0|         1.0|         3|       642|       3.0|       3.0|         0|         35|          272|        0|          0|       0|  null| null|      0|     2|  2006|   140000|          0|          0|          1|          0|          1|         0|           0|           0|           0|              0|              0|              1|               0|                0|            0|            0|               0|            0|            0|                   0|                  0|                   0|                   0|                   0|                   1|                   0|                   0|                  0|                   0|                   0|                 0|                   0|                  0|                   0|                   0|                   0|                 0|                  0|                   0|                   0|                   0|                  0|                   0|               0|              1|              0|              0|              0|              0|              0|              0|               0|              1|              0|              0|              0|              0|              0|              0|              0|             0|              0|                0|                0|                0|                0|                1|                0|              0|              1|                0|            0|                0|             0|               1|               0|             0|            0|               0|               0|               0|                  0|                  0|                  0|                 0|                  0|                  0|                  0|                  0|                  0|                0|                 0|                  0|                  1|                  0|                  0|                  0|                  0|                 0|                  0|                  0|                  0|                  0|                0|                  0|                0|                 0|                  0|                  0|                  1|                 0|              1|               0|                0|               0|              0|               0|              0|           1|           0|           0|           0|           0|           1|               0|               0|             0|               1|                0|                 0|                 0|                 0|                1|           0|           1|               0|               0|               0|           0|           0|             0|             0|             0|           0|           0|          1|                    0|                   0|                   0|                   0|                    0|\n",
            "|  5|        60|       84.0|  14260|          8|          5|     2000|        2000|     350.0|        4|        3|     4.0|     3.0|         3.0|         6.0|       655|         1.0|         0|      490|       1145|        5|    1145|    1053|           0|     2198|           1|           0|       2|       1|           4|           1|          4|           9|         8|         1|        3.0|     2000.0|         2.0|         3|       836|       3.0|       3.0|       192|         84|            0|        0|          0|       0|  null| null|      0|    12|  2008|   250000|          0|          0|          1|          0|          1|         0|           0|           0|           0|              0|              0|              1|               0|                0|            1|            0|               0|            0|            0|                   0|                  0|                   0|                   0|                   0|                   0|                   0|                   0|                  0|                   0|                   0|                 0|                   0|                  0|                   1|                   0|                   0|                 0|                  0|                   0|                   0|                   0|                  0|                   0|               0|              1|              0|              0|              0|              0|              0|              0|               0|              1|              0|              0|              0|              0|              0|              0|              0|             0|              0|                0|                0|                0|                0|                1|                0|              0|              1|                0|            0|                0|             0|               1|               0|             0|            0|               0|               0|               0|                  0|                  0|                  0|                 0|                  0|                  0|                  0|                  0|                  0|                0|                 0|                  1|                  0|                  0|                  0|                  0|                  0|                 0|                  0|                  0|                  0|                  0|                0|                  0|                0|                 0|                  1|                  0|                  0|                 1|              0|               0|                0|               1|              0|               0|              0|           1|           0|           0|           0|           0|           1|               0|               0|             0|               1|                1|                 0|                 0|                 0|                0|           0|           1|               0|               0|               0|           0|           0|             0|             0|             0|           0|           0|          1|                    0|                   0|                   0|                   1|                    0|\n",
            "|  6|        50|       85.0|  14115|          5|          5|     1993|        1995|       0.0|        3|        3|     4.0|     3.0|         1.0|         6.0|       732|         1.0|         0|       64|        796|        5|     796|     566|           0|     1362|           1|           0|       1|       1|           1|           1|          3|           5|         8|         0|       null|     1993.0|         1.0|         2|       480|       3.0|       3.0|        40|         30|            0|      320|          0|       0|  null|  3.0|    700|    10|  2009|   143000|          0|          0|          1|          0|          1|         0|           0|           0|           0|              0|              0|              1|               0|                0|            0|            0|               1|            0|            0|                   0|                  0|                   0|                   0|                   0|                   0|                   0|                   0|                  0|                   0|                   1|                 0|                   0|                  0|                   0|                   0|                   0|                 0|                  0|                   0|                   0|                   0|                  0|                   0|               0|              1|              0|              0|              0|              0|              0|              0|               0|              1|              0|              0|              0|              0|              0|              0|              0|             0|              0|                0|                0|                0|                0|                0|                0|              0|              1|                0|            0|                0|             0|               1|               0|             0|            0|               0|               0|               0|                  0|                  0|                  0|                 0|                  0|                  0|                  0|                  0|                  0|                0|                 0|                  1|                  0|                  0|                  0|                  0|                  0|                 0|                  0|                  0|                  0|                  0|                0|                  0|                0|                 0|                  1|                  0|                  0|                 0|              1|               0|                0|               0|              0|               0|              1|           1|           0|           0|           0|           0|           1|               0|               0|             0|               1|                1|                 0|                 0|                 0|                0|           0|           1|               0|               1|               0|           0|           0|             0|             0|             0|           0|           0|          1|                    0|                   0|                   0|                   1|                    0|\n",
            "|  7|        20|       75.0|  10084|          8|          5|     2004|        2005|     186.0|        4|        3|     5.0|     3.0|         3.0|         6.0|      1369|         1.0|         0|      317|       1686|        5|    1694|       0|           0|     1694|           1|           0|       2|       0|           3|           1|          4|           7|         8|         1|        4.0|     2004.0|         2.0|         2|       636|       3.0|       3.0|       255|         57|            0|        0|          0|       0|  null| null|      0|     8|  2007|   307000|          0|          0|          1|          0|          1|         0|           0|           0|           1|              0|              0|              1|               0|                0|            0|            0|               1|            0|            0|                   0|                  0|                   0|                   0|                   0|                   0|                   0|                   0|                  0|                   0|                   0|                 0|                   0|                  0|                   0|                   0|                   0|                 0|                  0|                   0|                   1|                   0|                  0|                   0|               0|              1|              0|              0|              0|              0|              0|              0|               0|              1|              0|              0|              0|              0|              0|              0|              0|             0|              0|                0|                1|                0|                0|                0|                0|              0|              1|                0|            0|                0|             0|               1|               0|             0|            0|               0|               0|               0|                  0|                  0|                  0|                 0|                  0|                  0|                  0|                  0|                  0|                0|                 0|                  1|                  0|                  0|                  0|                  0|                  0|                 0|                  0|                  0|                  0|                  0|                0|                  0|                0|                 0|                  1|                  0|                  0|                 0|              0|               1|                0|               1|              0|               0|              0|           1|           0|           0|           0|           0|           1|               0|               0|             0|               1|                1|                 0|                 0|                 0|                0|           0|           1|               0|               0|               0|           0|           0|             0|             0|             0|           0|           0|          1|                    0|                   0|                   0|                   1|                    0|\n",
            "|  8|        60|       null|  10382|          7|          6|     1973|        1973|     240.0|        3|        3|     4.0|     3.0|         2.0|         5.0|       859|         4.0|        32|      216|       1107|        5|    1107|     983|           0|     2090|           1|           0|       2|       1|           3|           1|          3|           7|         8|         2|        3.0|     1973.0|         2.0|         2|       484|       3.0|       3.0|       235|        204|          228|        0|          0|       0|  null| null|    350|    11|  2009|   200000|          0|          0|          1|          0|          1|         0|           0|           0|           0|              0|              0|              1|               0|                0|            0|            0|               0|            0|            0|                   0|                  0|                   0|                   0|                   0|                   0|                   0|                   0|                  0|                   0|                   0|                 0|                   0|                  1|                   0|                   0|                   0|                 0|                  0|                   0|                   0|                   0|                  0|                   0|               0|              0|              0|              1|              0|              0|              0|              0|               0|              1|              0|              0|              0|              0|              0|              0|              0|             0|              0|                0|                0|                0|                0|                1|                0|              0|              1|                0|            0|                0|             0|               1|               0|             0|            0|               0|               0|               0|                  0|                  0|                  0|                 0|                  0|                  1|                  0|                  0|                  0|                0|                 0|                  0|                  0|                  0|                  0|                  0|                  0|                 0|                  0|                  1|                  0|                  0|                0|                  0|                0|                 0|                  0|                  0|                  0|                 0|              0|               1|                1|               0|              0|               0|              0|           1|           0|           0|           0|           0|           1|               0|               0|             0|               1|                1|                 0|                 0|                 0|                0|           0|           1|               0|               1|               0|           0|           0|             0|             0|             0|           0|           0|          1|                    0|                   0|                   0|                   1|                    0|\n",
            "|  9|        50|       51.0|   6120|          7|          5|     1931|        1950|       0.0|        3|        3|     3.0|     3.0|         1.0|         1.0|         0|         1.0|         0|      952|        952|        4|    1022|     752|           0|     1774|           0|           0|       2|       0|           2|           2|          3|           8|         7|         2|        3.0|     1931.0|         1.0|         2|       468|       2.0|       3.0|        90|          0|          205|        0|          0|       0|  null| null|      0|     4|  2008|   129900|          0|          0|          0|          1|          1|         0|           0|           0|           1|              0|              0|              1|               0|                0|            0|            0|               1|            0|            0|                   0|                  0|                   0|                   0|                   0|                   0|                   0|                   0|                  0|                   0|                   0|                 0|                   0|                  0|                   0|                   0|                   1|                 0|                  0|                   0|                   0|                   0|                  0|                   0|               0|              0|              0|              0|              0|              0|              0|              0|               0|              1|              0|              0|              0|              0|              0|              0|              0|             0|              0|                0|                0|                0|                0|                0|                0|              0|              1|                0|            0|                0|             0|               1|               0|             0|            0|               0|               0|               0|                  0|                  0|                  1|                 0|                  0|                  0|                  0|                  0|                  0|                0|                 0|                  0|                  0|                  0|                  0|                  0|                  0|                 0|                  0|                  0|                  0|                  0|                0|                  0|                0|                 0|                  0|                  0|                  1|                 0|              1|               0|                0|               0|              0|               0|              0|           1|           0|           0|           0|           0|           1|               1|               0|             0|               0|                0|                 0|                 0|                 0|                1|           0|           1|               0|               0|               0|           0|           0|             0|             0|             0|           0|           0|          1|                    0|                   0|                   0|                   0|                    0|\n",
            "| 10|       190|       50.0|   7420|          5|          6|     1939|        1950|       0.0|        3|        3|     3.0|     3.0|         1.0|         6.0|       851|         1.0|         0|      140|        991|        5|    1077|       0|           0|     1077|           1|           0|       1|       0|           2|           2|          3|           5|         8|         2|        3.0|     1939.0|         2.0|         1|       205|       4.0|       3.0|         0|          4|            0|        0|          0|       0|  null| null|      0|     1|  2008|   118000|          0|          0|          1|          0|          1|         0|           0|           0|           1|              0|              0|              1|               0|                0|            0|            0|               0|            0|            0|                   0|                  0|                   1|                   0|                   0|                   0|                   0|                   0|                  0|                   0|                   0|                 0|                   0|                  0|                   0|                   0|                   0|                 0|                  0|                   0|                   0|                   0|                  0|                   0|               0|              0|              0|              0|              0|              0|              0|              0|               0|              0|              0|              0|              0|              0|              0|              1|              0|             0|              0|                1|                0|                0|                0|                0|                0|              0|              1|                0|            0|                0|             0|               1|               0|             0|            0|               0|               0|               0|                  0|                  0|                  0|                 0|                  0|                  0|                  0|                  1|                  0|                0|                 0|                  0|                  0|                  0|                  0|                  0|                  0|                 0|                  0|                  0|                  0|                  1|                0|                  0|                0|                 0|                  0|                  0|                  0|                 0|              1|               0|                0|               0|              0|               0|              0|           1|           0|           0|           0|           0|           1|               0|               0|             0|               1|                1|                 0|                 0|                 0|                0|           0|           1|               0|               0|               0|           0|           0|             0|             0|             0|           0|           0|          1|                    0|                   0|                   0|                   1|                    0|\n",
            "+---+----------+-----------+-------+-----------+-----------+---------+------------+----------+---------+---------+--------+--------+------------+------------+----------+------------+----------+---------+-----------+---------+--------+--------+------------+---------+------------+------------+--------+--------+------------+------------+-----------+------------+----------+----------+-----------+-----------+------------+----------+----------+----------+----------+----------+-----------+-------------+---------+-----------+--------+------+-----+-------+------+------+---------+-----------+-----------+-----------+-----------+-----------+----------+------------+------------+------------+---------------+---------------+---------------+----------------+-----------------+-------------+-------------+----------------+-------------+-------------+--------------------+-------------------+--------------------+--------------------+--------------------+--------------------+--------------------+--------------------+-------------------+--------------------+--------------------+------------------+--------------------+-------------------+--------------------+--------------------+--------------------+------------------+-------------------+--------------------+--------------------+--------------------+-------------------+--------------------+----------------+---------------+---------------+---------------+---------------+---------------+---------------+---------------+----------------+---------------+---------------+---------------+---------------+---------------+---------------+---------------+---------------+--------------+---------------+-----------------+-----------------+-----------------+-----------------+-----------------+-----------------+---------------+---------------+-----------------+-------------+-----------------+--------------+----------------+----------------+--------------+-------------+----------------+----------------+----------------+-------------------+-------------------+-------------------+------------------+-------------------+-------------------+-------------------+-------------------+-------------------+-----------------+------------------+-------------------+-------------------+-------------------+-------------------+-------------------+-------------------+------------------+-------------------+-------------------+-------------------+-------------------+-----------------+-------------------+-----------------+------------------+-------------------+-------------------+-------------------+------------------+---------------+----------------+-----------------+----------------+---------------+----------------+---------------+------------+------------+------------+------------+------------+------------+----------------+----------------+--------------+----------------+-----------------+------------------+------------------+------------------+-----------------+------------+------------+----------------+----------------+----------------+------------+------------+--------------+--------------+--------------+------------+------------+-----------+---------------------+--------------------+--------------------+--------------------+---------------------+\n",
            "only showing top 10 rows\n",
            "\n"
          ],
          "name": "stdout"
        }
      ]
    },
    {
      "cell_type": "markdown",
      "metadata": {
        "id": "_dmStkw_UfNK"
      },
      "source": [
        "Forest of Trees Feature Selection\n"
      ]
    },
    {
      "cell_type": "code",
      "metadata": {
        "colab": {
          "base_uri": "https://localhost:8080/"
        },
        "id": "_VDmmSStUmTg",
        "outputId": "4512b43b-6bba-45d6-93dd-6c15af2eb8b0"
      },
      "source": [
        "#Get the Feature names\n",
        "import pandas as pd\n",
        "\n",
        "features = [col for col in df.columns]\n",
        "print(features)\n",
        "\n",
        "print(type(features))"
      ],
      "execution_count": 23,
      "outputs": [
        {
          "output_type": "stream",
          "text": [
            "['Id', 'MSSubClass', 'LotFrontage', 'LotArea', 'OverallQual', 'OverallCond', 'YearBuilt', 'YearRemodAdd', 'MasVnrArea', 'ExterQual', 'ExterCond', 'BsmtQual', 'BsmtCond', 'BsmtExposure', 'BsmtFinType1', 'BsmtFinSF1', 'BsmtFinType2', 'BsmtFinSF2', 'BsmtUnfSF', 'TotalBsmtSF', 'HeatingQC', '1stFlrSF', '2ndFlrSF', 'LowQualFinSF', 'GrLivArea', 'BsmtFullBath', 'BsmtHalfBath', 'FullBath', 'HalfBath', 'BedroomAbvGr', 'KitchenAbvGr', 'KitchenQual', 'TotRmsAbvGrd', 'Functional', 'Fireplaces', 'FireplaceQu', 'GarageYrBlt', 'GarageFinish', 'GarageCars', 'GarageArea', 'GarageQual', 'GarageCond', 'WoodDeckSF', 'OpenPorchSF', 'EnclosedPorch', '3SsnPorch', 'ScreenPorch', 'PoolArea', 'PoolQC', 'Fence', 'MiscVal', 'MoSold', 'YrSold', 'SalePrice', 'MSZoning_FV', 'MSZoning_RH', 'MSZoning_RL', 'MSZoning_RM', 'Street_Pave', 'Alley_Pave', 'LotShape_IR2', 'LotShape_IR3', 'LotShape_Reg', 'LandContour_HLS', 'LandContour_Low', 'LandContour_Lvl', 'Utilities_NoSeWa', 'LotConfig_CulDSac', 'LotConfig_FR2', 'LotConfig_FR3', 'LotConfig_Inside', 'LandSlope_Mod', 'LandSlope_Sev', 'Neighborhood_Blueste', 'Neighborhood_BrDale', 'Neighborhood_BrkSide', 'Neighborhood_ClearCr', 'Neighborhood_CollgCr', 'Neighborhood_Crawfor', 'Neighborhood_Edwards', 'Neighborhood_Gilbert', 'Neighborhood_IDOTRR', 'Neighborhood_MeadowV', 'Neighborhood_Mitchel', 'Neighborhood_NAmes', 'Neighborhood_NPkVill', 'Neighborhood_NWAmes', 'Neighborhood_NoRidge', 'Neighborhood_NridgHt', 'Neighborhood_OldTown', 'Neighborhood_SWISU', 'Neighborhood_Sawyer', 'Neighborhood_SawyerW', 'Neighborhood_Somerst', 'Neighborhood_StoneBr', 'Neighborhood_Timber', 'Neighborhood_Veenker', 'Condition1_Feedr', 'Condition1_Norm', 'Condition1_PosA', 'Condition1_PosN', 'Condition1_RRAe', 'Condition1_RRAn', 'Condition1_RRNe', 'Condition1_RRNn', 'Condition2_Feedr', 'Condition2_Norm', 'Condition2_PosA', 'Condition2_PosN', 'Condition2_RRAe', 'Condition2_RRAn', 'Condition2_RRNn', 'BldgType_2fmCon', 'BldgType_Duplex', 'BldgType_Twnhs', 'BldgType_TwnhsE', 'HouseStyle_1.5Unf', 'HouseStyle_1Story', 'HouseStyle_2.5Fin', 'HouseStyle_2.5Unf', 'HouseStyle_2Story', 'HouseStyle_SFoyer', 'HouseStyle_SLvl', 'RoofStyle_Gable', 'RoofStyle_Gambrel', 'RoofStyle_Hip', 'RoofStyle_Mansard', 'RoofStyle_Shed', 'RoofMatl_CompShg', 'RoofMatl_Membran', 'RoofMatl_Metal', 'RoofMatl_Roll', 'RoofMatl_Tar&Grv', 'RoofMatl_WdShake', 'RoofMatl_WdShngl', 'Exterior1st_AsphShn', 'Exterior1st_BrkComm', 'Exterior1st_BrkFace', 'Exterior1st_CBlock', 'Exterior1st_CemntBd', 'Exterior1st_HdBoard', 'Exterior1st_ImStucc', 'Exterior1st_MetalSd', 'Exterior1st_Plywood', 'Exterior1st_Stone', 'Exterior1st_Stucco', 'Exterior1st_VinylSd', 'Exterior1st_Wd Sdng', 'Exterior1st_WdShing', 'Exterior2nd_AsphShn', 'Exterior2nd_Brk Cmn', 'Exterior2nd_BrkFace', 'Exterior2nd_CBlock', 'Exterior2nd_CmentBd', 'Exterior2nd_HdBoard', 'Exterior2nd_ImStucc', 'Exterior2nd_MetalSd', 'Exterior2nd_Other', 'Exterior2nd_Plywood', 'Exterior2nd_Stone', 'Exterior2nd_Stucco', 'Exterior2nd_VinylSd', 'Exterior2nd_Wd Sdng', 'Exterior2nd_Wd Shng', 'MasVnrType_BrkFace', 'MasVnrType_None', 'MasVnrType_Stone', 'Foundation_CBlock', 'Foundation_PConc', 'Foundation_Slab', 'Foundation_Stone', 'Foundation_Wood', 'Heating_GasA', 'Heating_GasW', 'Heating_Grav', 'Heating_OthW', 'Heating_Wall', 'CentralAir_Y', 'Electrical_FuseF', 'Electrical_FuseP', 'Electrical_Mix', 'Electrical_SBrkr', 'GarageType_Attchd', 'GarageType_Basment', 'GarageType_BuiltIn', 'GarageType_CarPort', 'GarageType_Detchd', 'PavedDrive_P', 'PavedDrive_Y', 'MiscFeature_Othr', 'MiscFeature_Shed', 'MiscFeature_TenC', 'SaleType_CWD', 'SaleType_Con', 'SaleType_ConLD', 'SaleType_ConLI', 'SaleType_ConLw', 'SaleType_New', 'SaleType_Oth', 'SaleType_WD', 'SaleCondition_AdjLand', 'SaleCondition_Alloca', 'SaleCondition_Family', 'SaleCondition_Normal', 'SaleCondition_Partial']\n",
            "<class 'list'>\n"
          ],
          "name": "stdout"
        }
      ]
    },
    {
      "cell_type": "code",
      "metadata": {
        "id": "DXB7cjnPV443"
      },
      "source": [
        "#Import sklearn tools and dependencies\n",
        "from sklearn.ensemble import RandomForestClassifier\n",
        "from sklearn.model_selection import train_test_split\n"
      ],
      "execution_count": 5,
      "outputs": []
    },
    {
      "cell_type": "code",
      "metadata": {
        "id": "DtBaA0xCWF6p"
      },
      "source": [
        "#####################Create the feature data and the target\n",
        "\n",
        "#Feature DataFrame is X\n",
        "X = df.drop(columns=[\"Id\", \"SalePrice\"])\n",
        "\n",
        "\n",
        "#Target Dataframe is y\n",
        "y = df[\"SalePrice\"]\n",
        "\n",
        "\n",
        "#####################Create train_test_split\n",
        "X_train, X_test, y_train, y_test = train_test_split(X, y, random_state=2)"
      ],
      "execution_count": 6,
      "outputs": []
    },
    {
      "cell_type": "code",
      "metadata": {
        "colab": {
          "base_uri": "https://localhost:8080/"
        },
        "id": "JFhxGwEQYYfv",
        "outputId": "3167ad36-0f8d-43a7-9578-2d490dd5b0d4"
      },
      "source": [
        "rf = RandomForestClassifier(n_estimators=200)\n",
        "rf.fit(X, y)"
      ],
      "execution_count": 7,
      "outputs": [
        {
          "output_type": "execute_result",
          "data": {
            "text/plain": [
              "RandomForestClassifier(bootstrap=True, ccp_alpha=0.0, class_weight=None,\n",
              "                       criterion='gini', max_depth=None, max_features='auto',\n",
              "                       max_leaf_nodes=None, max_samples=None,\n",
              "                       min_impurity_decrease=0.0, min_impurity_split=None,\n",
              "                       min_samples_leaf=1, min_samples_split=2,\n",
              "                       min_weight_fraction_leaf=0.0, n_estimators=200,\n",
              "                       n_jobs=None, oob_score=False, random_state=None,\n",
              "                       verbose=0, warm_start=False)"
            ]
          },
          "metadata": {
            "tags": []
          },
          "execution_count": 7
        }
      ]
    },
    {
      "cell_type": "code",
      "metadata": {
        "colab": {
          "base_uri": "https://localhost:8080/"
        },
        "id": "9ZP6Ua3VjVle",
        "outputId": "0b367ad2-3f23-4fc0-92cf-adceb317e9fc"
      },
      "source": [
        "importances = rf.feature_importances_\n",
        "importances"
      ],
      "execution_count": 8,
      "outputs": [
        {
          "output_type": "execute_result",
          "data": {
            "text/plain": [
              "array([0.01930556, 0.02073413, 0.01548942, 0.01406746, 0.01662698,\n",
              "       0.03017857, 0.02278439, 0.01467593, 0.01293651, 0.005     ,\n",
              "       0.01240741, 0.        , 0.01425926, 0.02152778, 0.01809524,\n",
              "       0.01285053, 0.02117063, 0.0144246 , 0.01416667, 0.01460317,\n",
              "       0.015     , 0.01065476, 0.00555556, 0.01796296, 0.        ,\n",
              "       0.00678571, 0.03005291, 0.01483466, 0.02680556, 0.        ,\n",
              "       0.01141534, 0.01662037, 0.        , 0.01560185, 0.01426587,\n",
              "       0.03390873, 0.02335317, 0.01049603, 0.01402116, 0.        ,\n",
              "       0.        , 0.02511905, 0.00662037, 0.01224206, 0.        ,\n",
              "       0.00402778, 0.02123016, 0.01706349, 0.00833333, 0.00449074,\n",
              "       0.01785053, 0.0081746 , 0.        , 0.        , 0.        ,\n",
              "       0.        , 0.        , 0.        , 0.        , 0.        ,\n",
              "       0.01409392, 0.        , 0.        , 0.        , 0.        ,\n",
              "       0.        , 0.        , 0.        , 0.01347222, 0.        ,\n",
              "       0.        , 0.        , 0.        , 0.        , 0.        ,\n",
              "       0.        , 0.        , 0.        , 0.        , 0.        ,\n",
              "       0.        , 0.00347222, 0.00291667, 0.        , 0.01694444,\n",
              "       0.01323413, 0.        , 0.        , 0.        , 0.        ,\n",
              "       0.        , 0.        , 0.        , 0.        , 0.        ,\n",
              "       0.        , 0.01062831, 0.        , 0.        , 0.        ,\n",
              "       0.00444444, 0.        , 0.        , 0.        , 0.        ,\n",
              "       0.        , 0.        , 0.        , 0.        , 0.        ,\n",
              "       0.        , 0.        , 0.        , 0.        , 0.        ,\n",
              "       0.00791667, 0.        , 0.        , 0.01109127, 0.        ,\n",
              "       0.00666667, 0.01654762, 0.        , 0.00694444, 0.        ,\n",
              "       0.        , 0.        , 0.        , 0.        , 0.        ,\n",
              "       0.        , 0.        , 0.        , 0.        , 0.        ,\n",
              "       0.        , 0.        , 0.        , 0.00708333, 0.        ,\n",
              "       0.        , 0.00569444, 0.        , 0.00472222, 0.        ,\n",
              "       0.        , 0.        , 0.        , 0.        , 0.        ,\n",
              "       0.        , 0.        , 0.01037698, 0.01208333, 0.        ,\n",
              "       0.        , 0.00569444, 0.        , 0.01621032, 0.        ,\n",
              "       0.        , 0.        , 0.0214418 , 0.02289021, 0.        ,\n",
              "       0.02126984, 0.00456349, 0.        , 0.        , 0.        ,\n",
              "       0.        , 0.        , 0.        , 0.        , 0.        ,\n",
              "       0.        , 0.        , 0.        , 0.        , 0.        ,\n",
              "       0.00763889, 0.        , 0.        , 0.        , 0.00638889,\n",
              "       0.        , 0.        , 0.        , 0.        , 0.00361111,\n",
              "       0.        , 0.        , 0.        , 0.        , 0.        ,\n",
              "       0.        , 0.        , 0.        , 0.        , 0.        ,\n",
              "       0.        , 0.01416667, 0.        ])"
            ]
          },
          "metadata": {
            "tags": []
          },
          "execution_count": 8
        }
      ]
    },
    {
      "cell_type": "code",
      "metadata": {
        "colab": {
          "base_uri": "https://localhost:8080/"
        },
        "id": "QImSFrcQjb33",
        "outputId": "44bddcb6-b343-49e5-d7b4-4cdb8e29f944"
      },
      "source": [
        "features.remove(\"Id\")\n",
        "features.remove(\"SalePrice\")\n",
        "\n",
        "sorted(zip(rf.feature_importances_, features), reverse=True)"
      ],
      "execution_count": 24,
      "outputs": [
        {
          "output_type": "execute_result",
          "data": {
            "text/plain": [
              "[(0.03390873015873015, 'GarageYrBlt'),\n",
              " (0.030178571428571423, 'YearBuilt'),\n",
              " (0.030052910052910057, 'FullBath'),\n",
              " (0.026805555555555555, 'BedroomAbvGr'),\n",
              " (0.025119047619047617, 'WoodDeckSF'),\n",
              " (0.0233531746031746, 'GarageFinish'),\n",
              " (0.02289021164021164, 'MasVnrType_None'),\n",
              " (0.02278439153439154, 'YearRemodAdd'),\n",
              " (0.02152777777777777, 'BsmtFinType1'),\n",
              " (0.02144179894179894, 'MasVnrType_BrkFace'),\n",
              " (0.02126984126984127, 'Foundation_CBlock'),\n",
              " (0.021230158730158724, 'PoolArea'),\n",
              " (0.02117063492063492, 'BsmtFinSF2'),\n",
              " (0.02073412698412698, 'LotFrontage'),\n",
              " (0.019305555555555555, 'MSSubClass'),\n",
              " (0.018095238095238095, 'BsmtFinSF1'),\n",
              " (0.017962962962962962, 'GrLivArea'),\n",
              " (0.0178505291005291, 'MoSold'),\n",
              " (0.017063492063492062, 'PoolQC'),\n",
              " (0.016944444444444443, 'Neighborhood_NWAmes'),\n",
              " (0.016626984126984126, 'OverallCond'),\n",
              " (0.01662037037037037, 'TotRmsAbvGrd'),\n",
              " (0.016547619047619044, 'RoofStyle_Gable'),\n",
              " (0.01621031746031746, 'Exterior2nd_Stucco'),\n",
              " (0.01560185185185185, 'Fireplaces'),\n",
              " (0.015489417989417989, 'LotArea'),\n",
              " (0.015, '1stFlrSF'),\n",
              " (0.014834656084656082, 'HalfBath'),\n",
              " (0.014675925925925924, 'MasVnrArea'),\n",
              " (0.014603174603174604, 'HeatingQC'),\n",
              " (0.014424603174603175, 'BsmtUnfSF'),\n",
              " (0.014265873015873015, 'FireplaceQu'),\n",
              " (0.01425925925925926, 'BsmtExposure'),\n",
              " (0.014166666666666666, 'TotalBsmtSF'),\n",
              " (0.014166666666666666, 'SaleCondition_Normal'),\n",
              " (0.014093915343915344, 'LotShape_Reg'),\n",
              " (0.014067460317460317, 'OverallQual'),\n",
              " (0.014021164021164021, 'GarageArea'),\n",
              " (0.013472222222222224, 'LotConfig_Inside'),\n",
              " (0.013234126984126984, 'Neighborhood_NoRidge'),\n",
              " (0.012936507936507935, 'ExterQual'),\n",
              " (0.0128505291005291, 'BsmtFinType2'),\n",
              " (0.012407407407407407, 'BsmtQual'),\n",
              " (0.012242063492063492, 'EnclosedPorch'),\n",
              " (0.012083333333333335, 'Exterior2nd_ImStucc'),\n",
              " (0.011415343915343917, 'KitchenQual'),\n",
              " (0.011091269841269841, 'HouseStyle_2Story'),\n",
              " (0.010654761904761905, '2ndFlrSF'),\n",
              " (0.010628306878306877, 'Condition1_Norm'),\n",
              " (0.010496031746031746, 'GarageCars'),\n",
              " (0.010376984126984129, 'Exterior2nd_HdBoard'),\n",
              " (0.008333333333333333, 'Fence'),\n",
              " (0.008174603174603175, 'YrSold'),\n",
              " (0.007916666666666667, 'HouseStyle_1Story'),\n",
              " (0.007638888888888887, 'GarageType_Attchd'),\n",
              " (0.007083333333333333, 'Exterior1st_HdBoard'),\n",
              " (0.006944444444444444, 'RoofStyle_Hip'),\n",
              " (0.006785714285714286, 'BsmtHalfBath'),\n",
              " (0.006666666666666666, 'HouseStyle_SLvl'),\n",
              " (0.00662037037037037, 'OpenPorchSF'),\n",
              " (0.006388888888888888, 'GarageType_Detchd'),\n",
              " (0.005694444444444444, 'Exterior2nd_Plywood'),\n",
              " (0.005694444444444444, 'Exterior1st_Plywood'),\n",
              " (0.005555555555555555, 'LowQualFinSF'),\n",
              " (0.005, 'ExterCond'),\n",
              " (0.004722222222222221, 'Exterior1st_Stucco'),\n",
              " (0.004563492063492064, 'Foundation_PConc'),\n",
              " (0.004490740740740741, 'MiscVal'),\n",
              " (0.0044444444444444444, 'Condition1_RRAn'),\n",
              " (0.004027777777777778, 'ScreenPorch'),\n",
              " (0.003611111111111111, 'MiscFeature_TenC'),\n",
              " (0.003472222222222222, 'Neighborhood_Mitchel'),\n",
              " (0.002916666666666667, 'Neighborhood_NAmes'),\n",
              " (0.0, 'Utilities_NoSeWa'),\n",
              " (0.0, 'Street_Pave'),\n",
              " (0.0, 'SaleType_WD'),\n",
              " (0.0, 'SaleType_Oth'),\n",
              " (0.0, 'SaleType_New'),\n",
              " (0.0, 'SaleType_ConLw'),\n",
              " (0.0, 'SaleType_ConLI'),\n",
              " (0.0, 'SaleType_ConLD'),\n",
              " (0.0, 'SaleType_Con'),\n",
              " (0.0, 'SaleType_CWD'),\n",
              " (0.0, 'SaleCondition_Partial'),\n",
              " (0.0, 'SaleCondition_Family'),\n",
              " (0.0, 'SaleCondition_Alloca'),\n",
              " (0.0, 'SaleCondition_AdjLand'),\n",
              " (0.0, 'RoofStyle_Shed'),\n",
              " (0.0, 'RoofStyle_Mansard'),\n",
              " (0.0, 'RoofStyle_Gambrel'),\n",
              " (0.0, 'RoofMatl_WdShngl'),\n",
              " (0.0, 'RoofMatl_WdShake'),\n",
              " (0.0, 'RoofMatl_Tar&Grv'),\n",
              " (0.0, 'RoofMatl_Roll'),\n",
              " (0.0, 'RoofMatl_Metal'),\n",
              " (0.0, 'RoofMatl_Membran'),\n",
              " (0.0, 'RoofMatl_CompShg'),\n",
              " (0.0, 'PavedDrive_Y'),\n",
              " (0.0, 'PavedDrive_P'),\n",
              " (0.0, 'Neighborhood_Veenker'),\n",
              " (0.0, 'Neighborhood_Timber'),\n",
              " (0.0, 'Neighborhood_StoneBr'),\n",
              " (0.0, 'Neighborhood_Somerst'),\n",
              " (0.0, 'Neighborhood_SawyerW'),\n",
              " (0.0, 'Neighborhood_Sawyer'),\n",
              " (0.0, 'Neighborhood_SWISU'),\n",
              " (0.0, 'Neighborhood_OldTown'),\n",
              " (0.0, 'Neighborhood_NridgHt'),\n",
              " (0.0, 'Neighborhood_NPkVill'),\n",
              " (0.0, 'Neighborhood_MeadowV'),\n",
              " (0.0, 'Neighborhood_IDOTRR'),\n",
              " (0.0, 'Neighborhood_Gilbert'),\n",
              " (0.0, 'Neighborhood_Edwards'),\n",
              " (0.0, 'Neighborhood_Crawfor'),\n",
              " (0.0, 'Neighborhood_CollgCr'),\n",
              " (0.0, 'Neighborhood_ClearCr'),\n",
              " (0.0, 'Neighborhood_BrkSide'),\n",
              " (0.0, 'Neighborhood_BrDale'),\n",
              " (0.0, 'Neighborhood_Blueste'),\n",
              " (0.0, 'MiscFeature_Shed'),\n",
              " (0.0, 'MiscFeature_Othr'),\n",
              " (0.0, 'MasVnrType_Stone'),\n",
              " (0.0, 'MSZoning_RM'),\n",
              " (0.0, 'MSZoning_RL'),\n",
              " (0.0, 'MSZoning_RH'),\n",
              " (0.0, 'MSZoning_FV'),\n",
              " (0.0, 'LotShape_IR3'),\n",
              " (0.0, 'LotShape_IR2'),\n",
              " (0.0, 'LotConfig_FR3'),\n",
              " (0.0, 'LotConfig_FR2'),\n",
              " (0.0, 'LotConfig_CulDSac'),\n",
              " (0.0, 'LandSlope_Sev'),\n",
              " (0.0, 'LandSlope_Mod'),\n",
              " (0.0, 'LandContour_Lvl'),\n",
              " (0.0, 'LandContour_Low'),\n",
              " (0.0, 'LandContour_HLS'),\n",
              " (0.0, 'KitchenAbvGr'),\n",
              " (0.0, 'HouseStyle_SFoyer'),\n",
              " (0.0, 'HouseStyle_2.5Unf'),\n",
              " (0.0, 'HouseStyle_2.5Fin'),\n",
              " (0.0, 'HouseStyle_1.5Unf'),\n",
              " (0.0, 'Heating_Wall'),\n",
              " (0.0, 'Heating_OthW'),\n",
              " (0.0, 'Heating_Grav'),\n",
              " (0.0, 'Heating_GasW'),\n",
              " (0.0, 'Heating_GasA'),\n",
              " (0.0, 'GarageType_CarPort'),\n",
              " (0.0, 'GarageType_BuiltIn'),\n",
              " (0.0, 'GarageType_Basment'),\n",
              " (0.0, 'GarageQual'),\n",
              " (0.0, 'GarageCond'),\n",
              " (0.0, 'Functional'),\n",
              " (0.0, 'Foundation_Wood'),\n",
              " (0.0, 'Foundation_Stone'),\n",
              " (0.0, 'Foundation_Slab'),\n",
              " (0.0, 'Exterior2nd_Wd Shng'),\n",
              " (0.0, 'Exterior2nd_Wd Sdng'),\n",
              " (0.0, 'Exterior2nd_VinylSd'),\n",
              " (0.0, 'Exterior2nd_Stone'),\n",
              " (0.0, 'Exterior2nd_Other'),\n",
              " (0.0, 'Exterior2nd_MetalSd'),\n",
              " (0.0, 'Exterior2nd_CmentBd'),\n",
              " (0.0, 'Exterior2nd_CBlock'),\n",
              " (0.0, 'Exterior2nd_BrkFace'),\n",
              " (0.0, 'Exterior2nd_Brk Cmn'),\n",
              " (0.0, 'Exterior2nd_AsphShn'),\n",
              " (0.0, 'Exterior1st_WdShing'),\n",
              " (0.0, 'Exterior1st_Wd Sdng'),\n",
              " (0.0, 'Exterior1st_VinylSd'),\n",
              " (0.0, 'Exterior1st_Stone'),\n",
              " (0.0, 'Exterior1st_MetalSd'),\n",
              " (0.0, 'Exterior1st_ImStucc'),\n",
              " (0.0, 'Exterior1st_CemntBd'),\n",
              " (0.0, 'Exterior1st_CBlock'),\n",
              " (0.0, 'Exterior1st_BrkFace'),\n",
              " (0.0, 'Exterior1st_BrkComm'),\n",
              " (0.0, 'Exterior1st_AsphShn'),\n",
              " (0.0, 'Electrical_SBrkr'),\n",
              " (0.0, 'Electrical_Mix'),\n",
              " (0.0, 'Electrical_FuseP'),\n",
              " (0.0, 'Electrical_FuseF'),\n",
              " (0.0, 'Condition2_RRNn'),\n",
              " (0.0, 'Condition2_RRAn'),\n",
              " (0.0, 'Condition2_RRAe'),\n",
              " (0.0, 'Condition2_PosN'),\n",
              " (0.0, 'Condition2_PosA'),\n",
              " (0.0, 'Condition2_Norm'),\n",
              " (0.0, 'Condition2_Feedr'),\n",
              " (0.0, 'Condition1_RRNn'),\n",
              " (0.0, 'Condition1_RRNe'),\n",
              " (0.0, 'Condition1_RRAe'),\n",
              " (0.0, 'Condition1_PosN'),\n",
              " (0.0, 'Condition1_PosA'),\n",
              " (0.0, 'Condition1_Feedr'),\n",
              " (0.0, 'CentralAir_Y'),\n",
              " (0.0, 'BsmtFullBath'),\n",
              " (0.0, 'BsmtCond'),\n",
              " (0.0, 'BldgType_TwnhsE'),\n",
              " (0.0, 'BldgType_Twnhs'),\n",
              " (0.0, 'BldgType_Duplex'),\n",
              " (0.0, 'BldgType_2fmCon'),\n",
              " (0.0, 'Alley_Pave'),\n",
              " (0.0, '3SsnPorch')]"
            ]
          },
          "metadata": {
            "tags": []
          },
          "execution_count": 24
        }
      ]
    }
  ]
}